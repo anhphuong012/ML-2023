{
  "nbformat": 4,
  "nbformat_minor": 0,
  "metadata": {
    "colab": {
      "provenance": [],
      "include_colab_link": true
    },
    "kernelspec": {
      "name": "python3",
      "display_name": "Python 3"
    },
    "language_info": {
      "name": "python"
    }
  },
  "cells": [
    {
      "cell_type": "markdown",
      "metadata": {
        "id": "view-in-github",
        "colab_type": "text"
      },
      "source": [
        "<a href=\"https://colab.research.google.com/github/anhphuong012/ML-2023/blob/main/Lab_5_20130371_NguyenNgocPhuong.ipynb\" target=\"_parent\"><img src=\"https://colab.research.google.com/assets/colab-badge.svg\" alt=\"Open In Colab\"/></a>"
      ]
    },
    {
      "cell_type": "markdown",
      "source": [
        "# This lab is to deal with **SVM** to classification tasks and compare its performance with other competitive algorithms. In general, **SVM** is one of the most popular and widely used supervised machine learning algorithms.\n",
        "\n",
        "*   **Deadline: 23:59, 17/03/2023**\n",
        "\n"
      ],
      "metadata": {
        "id": "LMzehe0sy5wr"
      }
    },
    {
      "cell_type": "markdown",
      "source": [
        "# Import libraries"
      ],
      "metadata": {
        "id": "H4nJmxp9zGX4"
      }
    },
    {
      "cell_type": "code",
      "execution_count": 3,
      "metadata": {
        "id": "DoVWQ8AEyc-C"
      },
      "outputs": [],
      "source": [
        "# code\n",
        "from sklearn.linear_model import LogisticRegression\n",
        "from sklearn.metrics import confusion_matrix,classification_report\n",
        "from sklearn.metrics import accuracy_score\n",
        "from sklearn.metrics import precision_score\n",
        "from sklearn.metrics import recall_score\n",
        "from sklearn.metrics import f1_score\n",
        "from sklearn import datasets\n",
        "from sklearn.model_selection import train_test_split\n",
        "from sklearn.metrics import ConfusionMatrixDisplay\n",
        "from sklearn.tree import DecisionTreeClassifier\n",
        "from sklearn.neighbors import KNeighborsClassifier\n",
        "from sklearn import svm\n",
        "import matplotlib.pyplot as plt\n",
        "from prettytable import PrettyTable\n",
        "import pandas as pd\n"
      ]
    },
    {
      "cell_type": "code",
      "source": [
        "from google.colab import drive\n",
        "drive.mount('/content/gdrive')\n",
        "%cd '/content/gdrive/MyDrive/lab'"
      ],
      "metadata": {
        "colab": {
          "base_uri": "https://localhost:8080/"
        },
        "id": "TDu3Nbd5FrfS",
        "outputId": "cbf4eb6b-0a38-47f2-8cbb-d22084857962"
      },
      "execution_count": 5,
      "outputs": [
        {
          "output_type": "stream",
          "name": "stdout",
          "text": [
            "Drive already mounted at /content/gdrive; to attempt to forcibly remount, call drive.mount(\"/content/gdrive\", force_remount=True).\n",
            "/content/gdrive/MyDrive/lab\n"
          ]
        }
      ]
    },
    {
      "cell_type": "markdown",
      "source": [
        "#Task 1. \n",
        "For breast cancer dataset (https://tinyurl.com/3vme8hr3) which could be loaded from datasets in sklearn as follows:\n",
        "\n",
        "```\n",
        "#Import scikit-learn dataset library\n",
        "from sklearn import datasets\n",
        "\n",
        "#Load dataset\n",
        "cancer = datasets.load_breast_cancer()\n",
        "```\n",
        "\n",
        "*   1.1.\tApply SVM algorithm to above dataset using linear kernel.\n",
        "*   1.2.\tCompare the obtained results with other competitive algorithms (Logistic Regression, Decision Tree, kNN) based on metrics: accuracy, precision, recall, f1 measures.\n",
        "\n"
      ],
      "metadata": {
        "id": "kNv07ARGzOUm"
      }
    },
    {
      "cell_type": "code",
      "source": [
        "# code\n",
        "\n",
        "# Load dataset\n",
        "cancer = datasets.load_breast_cancer()\n",
        "\n",
        "X = cancer['data']\n",
        "Y = cancer['target']\n",
        "\n",
        "X_train,X_test,Y_train,Y_test = train_test_split(X, Y, test_size = 0.2, random_state = 1)"
      ],
      "metadata": {
        "id": "sOsg77IBzEyo"
      },
      "execution_count": null,
      "outputs": []
    },
    {
      "cell_type": "code",
      "source": [
        "clf = svm.SVC(kernel = 'linear')\n",
        "clf.fit(X_train,Y_train)\n",
        "y_pred = clf.predict(X_test)\n",
        "\n",
        "cm_svm = confusion_matrix(Y_test,y_pred);\n",
        "accuracy_svm = accuracy_score(Y_test,y_pred)\n",
        "precision_svm = precision_score(Y_test,y_pred,average='macro')\n",
        "recall_svm = recall_score(Y_test,y_pred,average='macro')\n",
        "f1_svm = f1_score(Y_test,y_pred,average='macro')\n",
        "\n",
        "\n"
      ],
      "metadata": {
        "id": "8bDiuRcxK20S"
      },
      "execution_count": null,
      "outputs": []
    },
    {
      "cell_type": "code",
      "source": [
        "classfilder = LogisticRegression(random_state=0)\n",
        "classfilder.fit(X_train,Y_train)\n",
        "\n",
        "y_pred_reg = classfilder.predict(X_test)\n",
        "cm_reg = confusion_matrix(Y_test,y_pred_reg);\n",
        "\n",
        "accuracy_reg = accuracy_score(Y_test,y_pred_reg);\n",
        "precision_reg = precision_score(Y_test,y_pred_reg,average='macro')\n",
        "recall_reg = recall_score(Y_test,y_pred_reg,average='macro')\n",
        "f1_reg = f1_score(Y_test,y_pred_reg,average='macro')\n"
      ],
      "metadata": {
        "id": "26CXcIhgMi4q"
      },
      "execution_count": null,
      "outputs": []
    },
    {
      "cell_type": "code",
      "source": [
        "t = PrettyTable([\"Name\",\"Accuracy\",\"Precision\",\"Recall\",\"F1\"])\n",
        "t.add_row(['SVM Linear Kernel',accuracy_svm,precision_svm,recall_svm,f1_svm])\n",
        "t.add_row(['Logistic Regression',accuracy_reg,precision_reg,recall_reg,f1_reg])\n",
        "print(t)"
      ],
      "metadata": {
        "colab": {
          "base_uri": "https://localhost:8080/"
        },
        "id": "lPGFb4c_Nimy",
        "outputId": "5b6175ea-3df1-497b-f65b-9044bb76516d"
      },
      "execution_count": null,
      "outputs": [
        {
          "output_type": "stream",
          "name": "stdout",
          "text": [
            "+---------------------+--------------------+--------------------+--------------------+-------------------+\n",
            "|         Name        |      Accuracy      |     Precision      |       Recall       |         F1        |\n",
            "+---------------------+--------------------+--------------------+--------------------+-------------------+\n",
            "|  SVM Linear Kernel  | 0.956140350877193  | 0.9675324675324675 | 0.9404761904761905 | 0.951575906889814 |\n",
            "| Logistic Regression | 0.9473684210526315 | 0.9479729729729729 | 0.9384920634920635 | 0.942866688940862 |\n",
            "+---------------------+--------------------+--------------------+--------------------+-------------------+\n"
          ]
        }
      ]
    },
    {
      "cell_type": "markdown",
      "source": [
        "#Task 2. \n",
        "\n",
        "*   1.1.\tPerform SVM algorithm to **Iris dataset** using **linear kernel**.\n",
        "*   1.2.\tCompare the obtained results in 1.1 with SVM using other kernels (**Polynomial Kernel, Gaussian Kernel, Sigmoid Kernel, Radial Basis Function Kernel**). Some metrics could be used: accuracy, precision, recall, f1 measures\n",
        "\n",
        "\n",
        "\n"
      ],
      "metadata": {
        "id": "S43IoUT-0OQq"
      }
    },
    {
      "cell_type": "code",
      "source": [
        "# code\n",
        "data = datasets.load_iris()\n",
        "X = data['data']\n",
        "Y = data['target']\n",
        "\n",
        "X_train,X_test,Y_train,Y_test = train_test_split(X, Y, test_size = 0.2, random_state = 1)"
      ],
      "metadata": {
        "id": "_xhPpF5b033h"
      },
      "execution_count": null,
      "outputs": []
    },
    {
      "cell_type": "code",
      "source": [
        "clf = svm.SVC(kernel = 'linear')\n",
        "clf.fit(X_train,Y_train)\n",
        "y_pred = clf.predict(X_test)\n",
        "\n",
        "cm_svm = confusion_matrix(Y_test,y_pred);\n",
        "accuracy_svm = accuracy_score(Y_test,y_pred);\n",
        "precision_svm = precision_score(Y_test,y_pred,average='macro')\n",
        "recall_svm = recall_score(Y_test,y_pred,average='macro');\n",
        "f1_svm = f1_score(Y_test,y_pred,average='macro')\n",
        "\n",
        "print(y_pred)\n",
        "print(accuracy_svm)\n",
        "\n"
      ],
      "metadata": {
        "colab": {
          "base_uri": "https://localhost:8080/"
        },
        "id": "94nMyUMfQfoq",
        "outputId": "da237606-6e00-419d-8679-e569ce057141"
      },
      "execution_count": null,
      "outputs": [
        {
          "output_type": "stream",
          "name": "stdout",
          "text": [
            "[0 1 1 0 2 1 2 0 0 2 1 0 2 1 1 0 1 1 0 0 1 1 1 0 2 1 0 0 1 2]\n",
            "1.0\n"
          ]
        }
      ]
    },
    {
      "cell_type": "code",
      "source": [
        "poly = svm.SVC(kernel ='poly',degree = 4,gamma='scale',coef0=0.0)\n",
        "poly.fit(X_train,Y_train)\n",
        "\n",
        "y_pred_poly = poly.predict(X_test)\n",
        "\n",
        "cm_poly = confusion_matrix(Y_test,y_pred_poly);\n",
        "accuracy_poly = accuracy_score(Y_test,y_pred_poly);\n",
        "precision_poly = precision_score(Y_test,y_pred_poly,average='macro')\n",
        "recall_poly = recall_score(Y_test,y_pred_poly,average='macro');\n",
        "f1_poly = f1_score(Y_test,y_pred_poly,average='macro')\n",
        "\n",
        "print(y_pred_poly)\n",
        "print(accuracy_poly)\n"
      ],
      "metadata": {
        "colab": {
          "base_uri": "https://localhost:8080/"
        },
        "id": "Vio50PtXPXmx",
        "outputId": "14285092-e6a3-4909-a5bc-108aa3eb3bee"
      },
      "execution_count": null,
      "outputs": [
        {
          "output_type": "stream",
          "name": "stdout",
          "text": [
            "[0 1 1 0 2 1 2 0 0 2 1 0 2 1 1 0 1 1 0 0 1 1 1 0 2 1 0 0 1 2]\n",
            "1.0\n"
          ]
        }
      ]
    },
    {
      "cell_type": "code",
      "source": [
        "sigmoid = svm.SVC(kernel ='sigmoid',degree = 3);\n",
        "sigmoid.fit(X_train,Y_train)\n",
        "\n",
        "y_pred_sigmoid = sigmoid.predict(X_test)\n",
        "\n",
        "cm_sigmoid = confusion_matrix(Y_test,y_pred_sigmoid);\n",
        "accuracy_sigmoid = accuracy_score(Y_test,y_pred_sigmoid);\n",
        "precision_sigmoid = precision_score(Y_test,y_pred_sigmoid,average='macro')\n",
        "recall_sigmoid = recall_score(Y_test,y_pred_sigmoid,average='macro');\n",
        "f1_sigmoid = f1_score(Y_test,y_pred_sigmoid,average='macro')\n",
        "\n",
        "print(y_pred_sigmoid)\n",
        "print(accuracy_sigmoid)\n",
        "\n"
      ],
      "metadata": {
        "colab": {
          "base_uri": "https://localhost:8080/"
        },
        "id": "60cqxlXzRSKC",
        "outputId": "4f682802-72c7-4514-bd8d-d45f5faa5dd7"
      },
      "execution_count": null,
      "outputs": [
        {
          "output_type": "stream",
          "name": "stdout",
          "text": [
            "[2 2 2 2 2 2 2 2 2 2 2 2 2 2 2 2 2 2 2 2 2 2 2 2 2 2 2 2 2 2]\n",
            "0.2\n"
          ]
        },
        {
          "output_type": "stream",
          "name": "stderr",
          "text": [
            "/usr/local/lib/python3.9/dist-packages/sklearn/metrics/_classification.py:1344: UndefinedMetricWarning: Precision is ill-defined and being set to 0.0 in labels with no predicted samples. Use `zero_division` parameter to control this behavior.\n",
            "  _warn_prf(average, modifier, msg_start, len(result))\n"
          ]
        }
      ]
    },
    {
      "cell_type": "code",
      "source": [
        "rbf = svm.SVC(kernel ='rbf',degree = 5,gamma='auto');\n",
        "rbf.fit(X_train,Y_train)\n",
        "\n",
        "y_pred_rbf = rbf.predict(X_test)\n",
        "\n",
        "cm_rbf = confusion_matrix(Y_test,y_pred_rbf);\n",
        "accuracy_rbf = accuracy_score(Y_test,y_pred_rbf);\n",
        "precision_rbf = precision_score(Y_test,y_pred_rbf,average='macro')\n",
        "recall_rbf = recall_score(Y_test,y_pred_rbf,average='macro');\n",
        "f1_rbf = f1_score(Y_test,y_pred_rbf,average='macro')\n",
        "\n",
        "print(y_pred_rbf)\n",
        "print(accuracy_rbf)"
      ],
      "metadata": {
        "colab": {
          "base_uri": "https://localhost:8080/"
        },
        "id": "50lGWD5OXBdw",
        "outputId": "16fc825b-9f35-4ca7-c32e-2dfe990e25df"
      },
      "execution_count": null,
      "outputs": [
        {
          "output_type": "stream",
          "name": "stdout",
          "text": [
            "[0 1 1 0 2 1 2 0 0 2 1 0 2 1 1 0 1 1 0 0 1 1 2 0 2 1 0 0 1 2]\n",
            "0.9666666666666667\n"
          ]
        }
      ]
    },
    {
      "cell_type": "code",
      "source": [
        "t = PrettyTable([\"Algorithms\",\"Accuracy\",\"Precision\",\"Recall\",\"F1\"])\n",
        "t.add_row(['Linear kernel.',accuracy_svm,precision_svm,recall_svm,f1_svm])\n",
        "t.add_row(['Polynomial Kernel',accuracy_poly,precision_poly,recall_poly,f1_poly])\n",
        "t.add_row(['Sigmoid Kernel',accuracy_sigmoid,precision_sigmoid,recall_sigmoid,f1_sigmoid])\n",
        "t.add_row(['Radial Basis Function Kernel',accuracy_rbf,precision_rbf,recall_rbf,f1_rbf])\n",
        "print(t)"
      ],
      "metadata": {
        "colab": {
          "base_uri": "https://localhost:8080/"
        },
        "id": "VQvaqYvcX6b0",
        "outputId": "a0333ddf-15b0-4c7e-f9df-9f54a3930fe7"
      },
      "execution_count": null,
      "outputs": [
        {
          "output_type": "stream",
          "name": "stdout",
          "text": [
            "+------------------------------+--------------------+---------------------+--------------------+---------------------+\n",
            "|          Algorithms          |      Accuracy      |      Precision      |       Recall       |          F1         |\n",
            "+------------------------------+--------------------+---------------------+--------------------+---------------------+\n",
            "|        Linear kernel.        |        1.0         |         1.0         |        1.0         |         1.0         |\n",
            "|      Polynomial Kernel       |        1.0         |         1.0         |        1.0         |         1.0         |\n",
            "|        Sigmoid Kernel        |        0.2         | 0.06666666666666667 | 0.3333333333333333 | 0.11111111111111112 |\n",
            "| Radial Basis Function Kernel | 0.9666666666666667 |  0.9523809523809524 | 0.9743589743589745 |  0.9610256410256409 |\n",
            "+------------------------------+--------------------+---------------------+--------------------+---------------------+\n"
          ]
        }
      ]
    },
    {
      "cell_type": "markdown",
      "source": [
        "#Task 3. \n",
        "Compare the performance of selected classification algorithms (Decision Tree, kNN, Logistic Regression) and SVM (using different kernels) with mnist dataset based on accuracy, precision, recall, f1 measures.\n"
      ],
      "metadata": {
        "id": "b52OPWPD2afi"
      }
    },
    {
      "cell_type": "code",
      "source": [
        "mnist = datasets.load_digits()\n",
        "X = mnist['data']\n",
        "Y = mnist['target']\n",
        "X_train,X_test,Y_train,Y_test = train_test_split(X, Y, test_size = 0.2, random_state = 1)\n"
      ],
      "metadata": {
        "id": "rOCGQawTZ-5q"
      },
      "execution_count": null,
      "outputs": []
    },
    {
      "cell_type": "code",
      "source": [
        "knm = KNeighborsClassifier(n_neighbors=7)\n",
        "knm.fit(X_train,Y_train)\n",
        "\n",
        "y_pred_knm = knm.predict(X_test);\n",
        "accuracy_knm = accuracy_score(Y_test,y_pred_knm)\n",
        "precision_knm = precision_score(Y_test,y_pred_knm,average='macro')\n",
        "recall_knm = recall_score(Y_test,y_pred_knm,average='macro');\n",
        "f1_knm = f1_score(Y_test,y_pred_knm,average='macro')\n",
        "\n",
        "print(accuracy_knm)\n"
      ],
      "metadata": {
        "colab": {
          "base_uri": "https://localhost:8080/"
        },
        "id": "I_aWFsd-a--x",
        "outputId": "ee74ceb8-b518-4e31-b940-27d150ab3700"
      },
      "execution_count": null,
      "outputs": [
        {
          "output_type": "stream",
          "name": "stdout",
          "text": [
            "0.9972222222222222\n"
          ]
        }
      ]
    },
    {
      "cell_type": "code",
      "source": [
        "classfilder = LogisticRegression(random_state=0)\n",
        "classfilder.fit(X_train,Y_train)\n",
        "\n",
        "y_pred_reg = classfilder.predict(X_test)\n",
        "cm_reg = confusion_matrix(Y_test,y_pred_reg);\n",
        "\n",
        "accuracy_reg = accuracy_score(Y_test,y_pred_reg);\n",
        "precision_reg = precision_score(Y_test,y_pred_reg,average='macro')\n",
        "recall_reg = recall_score(Y_test,y_pred_reg,average='macro')\n",
        "f1_reg = f1_score(Y_test,y_pred_reg,average='macro')\n",
        "\n"
      ],
      "metadata": {
        "id": "i6svKx4IcgWi"
      },
      "execution_count": null,
      "outputs": []
    },
    {
      "cell_type": "code",
      "source": [
        "clf = svm.SVC(kernel = 'linear')\n",
        "clf.fit(X_train,Y_train)\n",
        "y_pred = clf.predict(X_test)\n",
        "\n",
        "cm_svm = confusion_matrix(Y_test,y_pred);\n",
        "accuracy_svm = accuracy_score(Y_test,y_pred);\n",
        "precision_svm = precision_score(Y_test,y_pred,average='macro')\n",
        "recall_svm = recall_score(Y_test,y_pred,average='macro');\n",
        "f1_svm = f1_score(Y_test,y_pred,average='macro')\n",
        "print(accuracy_svm)"
      ],
      "metadata": {
        "colab": {
          "base_uri": "https://localhost:8080/"
        },
        "id": "MR72cD0B2Bwc",
        "outputId": "ae1e63b8-e0b9-4b7f-a05a-9df18e91027b"
      },
      "execution_count": null,
      "outputs": [
        {
          "output_type": "stream",
          "name": "stdout",
          "text": [
            "0.9916666666666667\n"
          ]
        }
      ]
    },
    {
      "cell_type": "code",
      "source": [
        "poly = svm.SVC(kernel ='poly',degree = 4,gamma='scale',coef0=0.0)\n",
        "poly.fit(X_train,Y_train)\n",
        "\n",
        "y_pred_poly = poly.predict(X_test)\n",
        "\n",
        "cm_poly = confusion_matrix(Y_test,y_pred_poly);\n",
        "accuracy_poly = accuracy_score(Y_test,y_pred_poly);\n",
        "precision_poly = precision_score(Y_test,y_pred_poly,average='macro')\n",
        "recall_poly = recall_score(Y_test,y_pred_poly,average='macro');\n",
        "f1_poly = f1_score(Y_test,y_pred_poly,average='macro')\n"
      ],
      "metadata": {
        "id": "XhyJVUUh2KnC"
      },
      "execution_count": null,
      "outputs": []
    },
    {
      "cell_type": "code",
      "source": [
        "sigmoid = svm.SVC(kernel ='sigmoid',degree = 3);\n",
        "sigmoid.fit(X_train,Y_train)\n",
        "\n",
        "y_pred_sigmoid = sigmoid.predict(X_test)\n",
        "\n",
        "cm_sigmoid = confusion_matrix(Y_test,y_pred_sigmoid);\n",
        "accuracy_sigmoid = accuracy_score(Y_test,y_pred_sigmoid);\n",
        "precision_sigmoid = precision_score(Y_test,y_pred_sigmoid,average='macro')\n",
        "recall_sigmoid = recall_score(Y_test,y_pred_sigmoid,average='macro');\n",
        "f1_sigmoid = f1_score(Y_test,y_pred_sigmoid,average='macro')\n",
        "\n",
        "print(y_pred_sigmoid)\n",
        "print(accuracy_sigmoid)"
      ],
      "metadata": {
        "colab": {
          "base_uri": "https://localhost:8080/"
        },
        "id": "_4uL74Tc2Rlc",
        "outputId": "272e6049-a958-44ac-c974-930bfd1ed1e2"
      },
      "execution_count": null,
      "outputs": [
        {
          "output_type": "stream",
          "name": "stdout",
          "text": [
            "[8 5 0 7 1 0 6 1 5 4 9 2 7 8 4 6 9 3 7 4 7 4 8 6 0 7 6 1 3 7 5 9 8 3 2 9 8\n",
            " 1 7 0 7 9 0 0 8 7 2 7 1 3 4 3 4 0 4 7 0 5 5 5 2 1 7 0 5 1 8 3 3 4 0 3 7 4\n",
            " 8 0 2 1 7 3 1 5 3 4 1 5 5 2 5 2 2 2 2 7 0 8 1 5 4 2 3 9 2 3 3 0 2 9 9 2 3\n",
            " 2 8 1 7 9 1 2 0 1 8 5 4 4 7 6 7 6 6 1 7 5 6 3 8 3 7 1 8 5 3 4 7 8 5 0 6 0\n",
            " 6 3 7 6 5 6 2 2 2 3 0 7 6 5 6 4 1 0 6 0 6 4 0 9 8 5 1 2 3 1 9 0 7 6 2 9 3\n",
            " 5 3 4 6 3 3 7 4 7 2 7 6 1 6 8 4 0 3 1 0 9 9 9 4 1 8 6 8 0 9 5 9 9 2 3 5 3\n",
            " 0 8 7 4 0 3 3 3 6 3 3 2 9 1 6 9 0 4 2 2 7 9 1 6 7 6 1 9 1 0 3 4 0 6 4 8 5\n",
            " 3 6 3 1 4 0 4 4 9 7 9 1 5 2 7 0 9 0 4 4 0 1 4 6 4 8 9 5 0 2 6 0 1 8 2 0 9\n",
            " 5 6 2 0 5 0 9 1 4 7 1 7 0 6 6 8 0 2 2 6 9 9 7 5 9 7 6 4 6 1 9 4 7 1 3 7 8\n",
            " 7 6 9 8 1 2 6 8 7 5 5 6 9 9 9 1 0 0 4 9 3 0 4 9 4 2 5]\n",
            "0.9111111111111111\n"
          ]
        }
      ]
    },
    {
      "cell_type": "code",
      "source": [
        "t = PrettyTable([\"Algorithms\",\"Accuracy\",\"Precision\",\"Recall\",\"F1\"])\n",
        "t.add_row(['Linear kernel.',accuracy_svm,precision_svm,recall_svm,f1_svm])\n",
        "t.add_row(['Polynomial Kernel',accuracy_poly,precision_poly,recall_poly,f1_poly])\n",
        "t.add_row(['Sigmoid Kernel',accuracy_sigmoid,precision_sigmoid,recall_sigmoid,f1_sigmoid])\n",
        "t.add_row(['KNN',accuracy_knm,precision_knm,recall_knm,f1_knm])\n",
        "t.add_row(['LogisticRegression',accuracy_reg,precision_reg,recall_reg,f1_reg])\n",
        "print(t)"
      ],
      "metadata": {
        "colab": {
          "base_uri": "https://localhost:8080/"
        },
        "id": "FlVW3EIi2aFp",
        "outputId": "e2d8bf7b-4714-438d-83b2-f66fcc2f9eb9"
      },
      "execution_count": null,
      "outputs": [
        {
          "output_type": "stream",
          "name": "stdout",
          "text": [
            "+--------------------+--------------------+--------------------+--------------------+--------------------+\n",
            "|     Algorithms     |      Accuracy      |     Precision      |       Recall       |         F1         |\n",
            "+--------------------+--------------------+--------------------+--------------------+--------------------+\n",
            "|   Linear kernel.   | 0.9916666666666667 | 0.9908088235294118 | 0.9909078449646401 | 0.9907087680991878 |\n",
            "| Polynomial Kernel  | 0.9861111111111112 | 0.9857931025672961 | 0.9858044857915134 | 0.9856721183919716 |\n",
            "|   Sigmoid Kernel   | 0.9111111111111111 | 0.9097758458425927 | 0.9077266355048661 | 0.9077113548578971 |\n",
            "|        KNN         | 0.9972222222222222 | 0.9973684210526315 | 0.9972222222222221 | 0.9972582159624412 |\n",
            "| LogisticRegression | 0.9694444444444444 | 0.9689970075227248 | 0.9685113215471297 | 0.9682540010104479 |\n",
            "+--------------------+--------------------+--------------------+--------------------+--------------------+\n"
          ]
        }
      ]
    },
    {
      "cell_type": "markdown",
      "source": [
        "#Task 4. \n",
        "Compare the performance of selected classification algorithms (Decision Tree, kNN, Logistic Regression) and SVM (using different kernels) with **credit card dataset** based on accuracy, precision, recall, f1 measures.\n",
        "\n",
        "*   Give some comments on the obtained results\n",
        "*   Identify issues with dataset, and propose the solutions to these issues\n",
        "\n"
      ],
      "metadata": {
        "id": "Z5pp7_h-aP2u"
      }
    },
    {
      "cell_type": "code",
      "source": [
        "# code\n",
        "data = pd.read_csv('creditcard.csv')\n",
        "colums = data.columns\n",
        "X = data[colums[1:colums.size - 1]]\n",
        "Y = data[colums[colums.size - 1]]\n",
        "\n",
        "X_train, X_test, Y_train, Y_test = train_test_split(X, Y,train_size=0.03,test_size = 0.005, random_state=1)\n",
        "\n",
        "\n",
        "X_train\n",
        "\n"
      ],
      "metadata": {
        "id": "Rw_-8FIf2KxW",
        "colab": {
          "base_uri": "https://localhost:8080/",
          "height": 488
        },
        "outputId": "9867cfd7-33b4-4c7a-d059-35da0aba376d"
      },
      "execution_count": 9,
      "outputs": [
        {
          "output_type": "execute_result",
          "data": {
            "text/plain": [
              "              V1        V2        V3        V4        V5        V6        V7  \\\n",
              "267513  1.843622 -1.278361 -1.791309 -0.490594 -0.357106 -0.461457 -0.113794   \n",
              "28142  -1.206546 -0.628322  2.546442 -1.697820 -0.224453  1.370008 -1.234930   \n",
              "246904  2.061296  0.018447 -1.909363  0.509459  0.570061 -0.364648  0.032227   \n",
              "15774   0.856056 -1.380201  0.337182 -1.993857 -1.240149 -0.068273 -0.618927   \n",
              "63314  -6.096454 -6.185073  0.681515  2.404273  3.848683 -3.284217 -2.603696   \n",
              "...          ...       ...       ...       ...       ...       ...       ...   \n",
              "231695  2.108906 -0.036505 -1.729322 -0.006799  0.594977 -0.414454  0.167962   \n",
              "177878 -3.969891 -1.897168 -2.373768  0.238259  2.996898 -2.503003 -0.518992   \n",
              "217081 -0.126135  0.925721 -1.052858 -1.139520  1.101531 -0.929912  1.417703   \n",
              "129012 -1.662264 -1.120169  0.199325 -1.029611 -0.301686 -1.564318  0.092304   \n",
              "126641 -0.272708  0.209767  2.065921 -0.741569 -0.955945 -0.337446 -0.234273   \n",
              "\n",
              "              V8        V9       V10  ...       V20       V21       V22  \\\n",
              "267513 -0.281807 -0.548511  0.881628  ... -0.191531 -0.052619 -0.053262   \n",
              "28142   0.709553  0.126221 -0.022018  ...  0.095178  0.134141  0.752877   \n",
              "246904 -0.125226  1.091275 -0.666047  ... -0.190996 -0.011591  0.277816   \n",
              "15774   0.201422  2.317865 -1.566622  ...  0.231269  0.310451  0.760740   \n",
              "63314   0.608798  0.109404 -0.353648  ...  1.038551  0.130026 -1.072545   \n",
              "...          ...       ...       ...  ...       ...       ...       ...   \n",
              "231695 -0.220672  0.330188  0.170454  ... -0.166839  0.231473  0.833535   \n",
              "177878 -1.802641 -0.014455  0.129257  ... -1.317695  1.624625  0.397715   \n",
              "217081 -0.254060 -0.305718 -0.038574  ... -0.157975  0.232478  0.674464   \n",
              "129012  0.270447 -1.203862 -0.032383  ...  0.128940 -0.112121 -0.470342   \n",
              "126641  0.257291  1.363543 -1.237780  ... -0.100563  0.136930  0.605658   \n",
              "\n",
              "             V23       V24       V25       V26       V27       V28  Amount  \n",
              "267513 -0.054587  0.299963 -0.087869  0.773179 -0.102848 -0.028924  203.00  \n",
              "28142  -0.594134 -1.073340  0.571066 -0.035712  0.284071  0.077212    5.00  \n",
              "246904 -0.026232  0.107774  0.348148 -0.139436  0.011000 -0.029262    5.90  \n",
              "15774  -0.340053 -0.250547  0.528575 -0.625579  0.077578  0.046041  192.66  \n",
              "63314  -0.708372  0.023216  0.266455  0.362879 -0.235158 -0.215650   44.17  \n",
              "...          ...       ...       ...       ...       ...       ...     ...  \n",
              "231695 -0.151937 -1.046125  0.400704 -0.062815 -0.021197 -0.078745    0.89  \n",
              "177878 -1.698909  0.906747 -0.118657  0.377350  0.558600 -0.058415    2.37  \n",
              "217081 -0.189594  0.722589  0.205538  0.114625 -0.072454  0.027636   24.00  \n",
              "129012  0.397058  0.412273 -0.544452  0.821624  0.181256 -0.011205  158.00  \n",
              "126641 -0.053385  0.384910 -0.546905 -0.609185  0.253334  0.164604    1.00  \n",
              "\n",
              "[8544 rows x 29 columns]"
            ],
            "text/html": [
              "\n",
              "  <div id=\"df-2ae10c51-283f-4753-83fe-9b2e38ed254e\">\n",
              "    <div class=\"colab-df-container\">\n",
              "      <div>\n",
              "<style scoped>\n",
              "    .dataframe tbody tr th:only-of-type {\n",
              "        vertical-align: middle;\n",
              "    }\n",
              "\n",
              "    .dataframe tbody tr th {\n",
              "        vertical-align: top;\n",
              "    }\n",
              "\n",
              "    .dataframe thead th {\n",
              "        text-align: right;\n",
              "    }\n",
              "</style>\n",
              "<table border=\"1\" class=\"dataframe\">\n",
              "  <thead>\n",
              "    <tr style=\"text-align: right;\">\n",
              "      <th></th>\n",
              "      <th>V1</th>\n",
              "      <th>V2</th>\n",
              "      <th>V3</th>\n",
              "      <th>V4</th>\n",
              "      <th>V5</th>\n",
              "      <th>V6</th>\n",
              "      <th>V7</th>\n",
              "      <th>V8</th>\n",
              "      <th>V9</th>\n",
              "      <th>V10</th>\n",
              "      <th>...</th>\n",
              "      <th>V20</th>\n",
              "      <th>V21</th>\n",
              "      <th>V22</th>\n",
              "      <th>V23</th>\n",
              "      <th>V24</th>\n",
              "      <th>V25</th>\n",
              "      <th>V26</th>\n",
              "      <th>V27</th>\n",
              "      <th>V28</th>\n",
              "      <th>Amount</th>\n",
              "    </tr>\n",
              "  </thead>\n",
              "  <tbody>\n",
              "    <tr>\n",
              "      <th>267513</th>\n",
              "      <td>1.843622</td>\n",
              "      <td>-1.278361</td>\n",
              "      <td>-1.791309</td>\n",
              "      <td>-0.490594</td>\n",
              "      <td>-0.357106</td>\n",
              "      <td>-0.461457</td>\n",
              "      <td>-0.113794</td>\n",
              "      <td>-0.281807</td>\n",
              "      <td>-0.548511</td>\n",
              "      <td>0.881628</td>\n",
              "      <td>...</td>\n",
              "      <td>-0.191531</td>\n",
              "      <td>-0.052619</td>\n",
              "      <td>-0.053262</td>\n",
              "      <td>-0.054587</td>\n",
              "      <td>0.299963</td>\n",
              "      <td>-0.087869</td>\n",
              "      <td>0.773179</td>\n",
              "      <td>-0.102848</td>\n",
              "      <td>-0.028924</td>\n",
              "      <td>203.00</td>\n",
              "    </tr>\n",
              "    <tr>\n",
              "      <th>28142</th>\n",
              "      <td>-1.206546</td>\n",
              "      <td>-0.628322</td>\n",
              "      <td>2.546442</td>\n",
              "      <td>-1.697820</td>\n",
              "      <td>-0.224453</td>\n",
              "      <td>1.370008</td>\n",
              "      <td>-1.234930</td>\n",
              "      <td>0.709553</td>\n",
              "      <td>0.126221</td>\n",
              "      <td>-0.022018</td>\n",
              "      <td>...</td>\n",
              "      <td>0.095178</td>\n",
              "      <td>0.134141</td>\n",
              "      <td>0.752877</td>\n",
              "      <td>-0.594134</td>\n",
              "      <td>-1.073340</td>\n",
              "      <td>0.571066</td>\n",
              "      <td>-0.035712</td>\n",
              "      <td>0.284071</td>\n",
              "      <td>0.077212</td>\n",
              "      <td>5.00</td>\n",
              "    </tr>\n",
              "    <tr>\n",
              "      <th>246904</th>\n",
              "      <td>2.061296</td>\n",
              "      <td>0.018447</td>\n",
              "      <td>-1.909363</td>\n",
              "      <td>0.509459</td>\n",
              "      <td>0.570061</td>\n",
              "      <td>-0.364648</td>\n",
              "      <td>0.032227</td>\n",
              "      <td>-0.125226</td>\n",
              "      <td>1.091275</td>\n",
              "      <td>-0.666047</td>\n",
              "      <td>...</td>\n",
              "      <td>-0.190996</td>\n",
              "      <td>-0.011591</td>\n",
              "      <td>0.277816</td>\n",
              "      <td>-0.026232</td>\n",
              "      <td>0.107774</td>\n",
              "      <td>0.348148</td>\n",
              "      <td>-0.139436</td>\n",
              "      <td>0.011000</td>\n",
              "      <td>-0.029262</td>\n",
              "      <td>5.90</td>\n",
              "    </tr>\n",
              "    <tr>\n",
              "      <th>15774</th>\n",
              "      <td>0.856056</td>\n",
              "      <td>-1.380201</td>\n",
              "      <td>0.337182</td>\n",
              "      <td>-1.993857</td>\n",
              "      <td>-1.240149</td>\n",
              "      <td>-0.068273</td>\n",
              "      <td>-0.618927</td>\n",
              "      <td>0.201422</td>\n",
              "      <td>2.317865</td>\n",
              "      <td>-1.566622</td>\n",
              "      <td>...</td>\n",
              "      <td>0.231269</td>\n",
              "      <td>0.310451</td>\n",
              "      <td>0.760740</td>\n",
              "      <td>-0.340053</td>\n",
              "      <td>-0.250547</td>\n",
              "      <td>0.528575</td>\n",
              "      <td>-0.625579</td>\n",
              "      <td>0.077578</td>\n",
              "      <td>0.046041</td>\n",
              "      <td>192.66</td>\n",
              "    </tr>\n",
              "    <tr>\n",
              "      <th>63314</th>\n",
              "      <td>-6.096454</td>\n",
              "      <td>-6.185073</td>\n",
              "      <td>0.681515</td>\n",
              "      <td>2.404273</td>\n",
              "      <td>3.848683</td>\n",
              "      <td>-3.284217</td>\n",
              "      <td>-2.603696</td>\n",
              "      <td>0.608798</td>\n",
              "      <td>0.109404</td>\n",
              "      <td>-0.353648</td>\n",
              "      <td>...</td>\n",
              "      <td>1.038551</td>\n",
              "      <td>0.130026</td>\n",
              "      <td>-1.072545</td>\n",
              "      <td>-0.708372</td>\n",
              "      <td>0.023216</td>\n",
              "      <td>0.266455</td>\n",
              "      <td>0.362879</td>\n",
              "      <td>-0.235158</td>\n",
              "      <td>-0.215650</td>\n",
              "      <td>44.17</td>\n",
              "    </tr>\n",
              "    <tr>\n",
              "      <th>...</th>\n",
              "      <td>...</td>\n",
              "      <td>...</td>\n",
              "      <td>...</td>\n",
              "      <td>...</td>\n",
              "      <td>...</td>\n",
              "      <td>...</td>\n",
              "      <td>...</td>\n",
              "      <td>...</td>\n",
              "      <td>...</td>\n",
              "      <td>...</td>\n",
              "      <td>...</td>\n",
              "      <td>...</td>\n",
              "      <td>...</td>\n",
              "      <td>...</td>\n",
              "      <td>...</td>\n",
              "      <td>...</td>\n",
              "      <td>...</td>\n",
              "      <td>...</td>\n",
              "      <td>...</td>\n",
              "      <td>...</td>\n",
              "      <td>...</td>\n",
              "    </tr>\n",
              "    <tr>\n",
              "      <th>231695</th>\n",
              "      <td>2.108906</td>\n",
              "      <td>-0.036505</td>\n",
              "      <td>-1.729322</td>\n",
              "      <td>-0.006799</td>\n",
              "      <td>0.594977</td>\n",
              "      <td>-0.414454</td>\n",
              "      <td>0.167962</td>\n",
              "      <td>-0.220672</td>\n",
              "      <td>0.330188</td>\n",
              "      <td>0.170454</td>\n",
              "      <td>...</td>\n",
              "      <td>-0.166839</td>\n",
              "      <td>0.231473</td>\n",
              "      <td>0.833535</td>\n",
              "      <td>-0.151937</td>\n",
              "      <td>-1.046125</td>\n",
              "      <td>0.400704</td>\n",
              "      <td>-0.062815</td>\n",
              "      <td>-0.021197</td>\n",
              "      <td>-0.078745</td>\n",
              "      <td>0.89</td>\n",
              "    </tr>\n",
              "    <tr>\n",
              "      <th>177878</th>\n",
              "      <td>-3.969891</td>\n",
              "      <td>-1.897168</td>\n",
              "      <td>-2.373768</td>\n",
              "      <td>0.238259</td>\n",
              "      <td>2.996898</td>\n",
              "      <td>-2.503003</td>\n",
              "      <td>-0.518992</td>\n",
              "      <td>-1.802641</td>\n",
              "      <td>-0.014455</td>\n",
              "      <td>0.129257</td>\n",
              "      <td>...</td>\n",
              "      <td>-1.317695</td>\n",
              "      <td>1.624625</td>\n",
              "      <td>0.397715</td>\n",
              "      <td>-1.698909</td>\n",
              "      <td>0.906747</td>\n",
              "      <td>-0.118657</td>\n",
              "      <td>0.377350</td>\n",
              "      <td>0.558600</td>\n",
              "      <td>-0.058415</td>\n",
              "      <td>2.37</td>\n",
              "    </tr>\n",
              "    <tr>\n",
              "      <th>217081</th>\n",
              "      <td>-0.126135</td>\n",
              "      <td>0.925721</td>\n",
              "      <td>-1.052858</td>\n",
              "      <td>-1.139520</td>\n",
              "      <td>1.101531</td>\n",
              "      <td>-0.929912</td>\n",
              "      <td>1.417703</td>\n",
              "      <td>-0.254060</td>\n",
              "      <td>-0.305718</td>\n",
              "      <td>-0.038574</td>\n",
              "      <td>...</td>\n",
              "      <td>-0.157975</td>\n",
              "      <td>0.232478</td>\n",
              "      <td>0.674464</td>\n",
              "      <td>-0.189594</td>\n",
              "      <td>0.722589</td>\n",
              "      <td>0.205538</td>\n",
              "      <td>0.114625</td>\n",
              "      <td>-0.072454</td>\n",
              "      <td>0.027636</td>\n",
              "      <td>24.00</td>\n",
              "    </tr>\n",
              "    <tr>\n",
              "      <th>129012</th>\n",
              "      <td>-1.662264</td>\n",
              "      <td>-1.120169</td>\n",
              "      <td>0.199325</td>\n",
              "      <td>-1.029611</td>\n",
              "      <td>-0.301686</td>\n",
              "      <td>-1.564318</td>\n",
              "      <td>0.092304</td>\n",
              "      <td>0.270447</td>\n",
              "      <td>-1.203862</td>\n",
              "      <td>-0.032383</td>\n",
              "      <td>...</td>\n",
              "      <td>0.128940</td>\n",
              "      <td>-0.112121</td>\n",
              "      <td>-0.470342</td>\n",
              "      <td>0.397058</td>\n",
              "      <td>0.412273</td>\n",
              "      <td>-0.544452</td>\n",
              "      <td>0.821624</td>\n",
              "      <td>0.181256</td>\n",
              "      <td>-0.011205</td>\n",
              "      <td>158.00</td>\n",
              "    </tr>\n",
              "    <tr>\n",
              "      <th>126641</th>\n",
              "      <td>-0.272708</td>\n",
              "      <td>0.209767</td>\n",
              "      <td>2.065921</td>\n",
              "      <td>-0.741569</td>\n",
              "      <td>-0.955945</td>\n",
              "      <td>-0.337446</td>\n",
              "      <td>-0.234273</td>\n",
              "      <td>0.257291</td>\n",
              "      <td>1.363543</td>\n",
              "      <td>-1.237780</td>\n",
              "      <td>...</td>\n",
              "      <td>-0.100563</td>\n",
              "      <td>0.136930</td>\n",
              "      <td>0.605658</td>\n",
              "      <td>-0.053385</td>\n",
              "      <td>0.384910</td>\n",
              "      <td>-0.546905</td>\n",
              "      <td>-0.609185</td>\n",
              "      <td>0.253334</td>\n",
              "      <td>0.164604</td>\n",
              "      <td>1.00</td>\n",
              "    </tr>\n",
              "  </tbody>\n",
              "</table>\n",
              "<p>8544 rows × 29 columns</p>\n",
              "</div>\n",
              "      <button class=\"colab-df-convert\" onclick=\"convertToInteractive('df-2ae10c51-283f-4753-83fe-9b2e38ed254e')\"\n",
              "              title=\"Convert this dataframe to an interactive table.\"\n",
              "              style=\"display:none;\">\n",
              "        \n",
              "  <svg xmlns=\"http://www.w3.org/2000/svg\" height=\"24px\"viewBox=\"0 0 24 24\"\n",
              "       width=\"24px\">\n",
              "    <path d=\"M0 0h24v24H0V0z\" fill=\"none\"/>\n",
              "    <path d=\"M18.56 5.44l.94 2.06.94-2.06 2.06-.94-2.06-.94-.94-2.06-.94 2.06-2.06.94zm-11 1L8.5 8.5l.94-2.06 2.06-.94-2.06-.94L8.5 2.5l-.94 2.06-2.06.94zm10 10l.94 2.06.94-2.06 2.06-.94-2.06-.94-.94-2.06-.94 2.06-2.06.94z\"/><path d=\"M17.41 7.96l-1.37-1.37c-.4-.4-.92-.59-1.43-.59-.52 0-1.04.2-1.43.59L10.3 9.45l-7.72 7.72c-.78.78-.78 2.05 0 2.83L4 21.41c.39.39.9.59 1.41.59.51 0 1.02-.2 1.41-.59l7.78-7.78 2.81-2.81c.8-.78.8-2.07 0-2.86zM5.41 20L4 18.59l7.72-7.72 1.47 1.35L5.41 20z\"/>\n",
              "  </svg>\n",
              "      </button>\n",
              "      \n",
              "  <style>\n",
              "    .colab-df-container {\n",
              "      display:flex;\n",
              "      flex-wrap:wrap;\n",
              "      gap: 12px;\n",
              "    }\n",
              "\n",
              "    .colab-df-convert {\n",
              "      background-color: #E8F0FE;\n",
              "      border: none;\n",
              "      border-radius: 50%;\n",
              "      cursor: pointer;\n",
              "      display: none;\n",
              "      fill: #1967D2;\n",
              "      height: 32px;\n",
              "      padding: 0 0 0 0;\n",
              "      width: 32px;\n",
              "    }\n",
              "\n",
              "    .colab-df-convert:hover {\n",
              "      background-color: #E2EBFA;\n",
              "      box-shadow: 0px 1px 2px rgba(60, 64, 67, 0.3), 0px 1px 3px 1px rgba(60, 64, 67, 0.15);\n",
              "      fill: #174EA6;\n",
              "    }\n",
              "\n",
              "    [theme=dark] .colab-df-convert {\n",
              "      background-color: #3B4455;\n",
              "      fill: #D2E3FC;\n",
              "    }\n",
              "\n",
              "    [theme=dark] .colab-df-convert:hover {\n",
              "      background-color: #434B5C;\n",
              "      box-shadow: 0px 1px 3px 1px rgba(0, 0, 0, 0.15);\n",
              "      filter: drop-shadow(0px 1px 2px rgba(0, 0, 0, 0.3));\n",
              "      fill: #FFFFFF;\n",
              "    }\n",
              "  </style>\n",
              "\n",
              "      <script>\n",
              "        const buttonEl =\n",
              "          document.querySelector('#df-2ae10c51-283f-4753-83fe-9b2e38ed254e button.colab-df-convert');\n",
              "        buttonEl.style.display =\n",
              "          google.colab.kernel.accessAllowed ? 'block' : 'none';\n",
              "\n",
              "        async function convertToInteractive(key) {\n",
              "          const element = document.querySelector('#df-2ae10c51-283f-4753-83fe-9b2e38ed254e');\n",
              "          const dataTable =\n",
              "            await google.colab.kernel.invokeFunction('convertToInteractive',\n",
              "                                                     [key], {});\n",
              "          if (!dataTable) return;\n",
              "\n",
              "          const docLinkHtml = 'Like what you see? Visit the ' +\n",
              "            '<a target=\"_blank\" href=https://colab.research.google.com/notebooks/data_table.ipynb>data table notebook</a>'\n",
              "            + ' to learn more about interactive tables.';\n",
              "          element.innerHTML = '';\n",
              "          dataTable['output_type'] = 'display_data';\n",
              "          await google.colab.output.renderOutput(dataTable, element);\n",
              "          const docLink = document.createElement('div');\n",
              "          docLink.innerHTML = docLinkHtml;\n",
              "          element.appendChild(docLink);\n",
              "        }\n",
              "      </script>\n",
              "    </div>\n",
              "  </div>\n",
              "  "
            ]
          },
          "metadata": {},
          "execution_count": 9
        }
      ]
    },
    {
      "cell_type": "code",
      "source": [
        "knm = KNeighborsClassifier(n_neighbors=7)\n",
        "knm.fit(X_train,Y_train)\n",
        "\n",
        "y_pred_knm = knm.predict(X_test);\n",
        "accuracy_knm = accuracy_score(Y_test,y_pred_knm)\n",
        "precision_knm = precision_score(Y_test,y_pred_knm,average='macro')\n",
        "recall_knm = recall_score(Y_test,y_pred_knm,average='macro');\n",
        "f1_knm = f1_score(Y_test,y_pred_knm,average='macro')\n",
        "\n",
        "print(accuracy_knm)"
      ],
      "metadata": {
        "colab": {
          "base_uri": "https://localhost:8080/"
        },
        "id": "ldDHzeb_ZNdp",
        "outputId": "a05f2b4c-ece0-4770-9dff-3d1e46630961"
      },
      "execution_count": 10,
      "outputs": [
        {
          "output_type": "stream",
          "name": "stdout",
          "text": [
            "0.9985964912280701\n"
          ]
        }
      ]
    },
    {
      "cell_type": "code",
      "source": [
        "classfilder = LogisticRegression(random_state=0)\n",
        "classfilder.fit(X_train,Y_train)\n",
        "\n",
        "y_pred_reg = classfilder.predict(X_test)\n",
        "cm_reg = confusion_matrix(Y_test,y_pred_reg);\n",
        "\n",
        "accuracy_reg = accuracy_score(Y_test,y_pred_reg);\n",
        "precision_reg = precision_score(Y_test,y_pred_reg,average='macro')\n",
        "recall_reg = recall_score(Y_test,y_pred_reg,average='macro')\n",
        "f1_reg = f1_score(Y_test,y_pred_reg,average='macro')\n"
      ],
      "metadata": {
        "colab": {
          "base_uri": "https://localhost:8080/"
        },
        "id": "hb6x2XQ1ZTNn",
        "outputId": "1d733e0f-ecc5-4c4a-d0ae-814c760c603b"
      },
      "execution_count": 11,
      "outputs": [
        {
          "output_type": "stream",
          "name": "stderr",
          "text": [
            "/usr/local/lib/python3.9/dist-packages/sklearn/linear_model/_logistic.py:458: ConvergenceWarning: lbfgs failed to converge (status=1):\n",
            "STOP: TOTAL NO. of ITERATIONS REACHED LIMIT.\n",
            "\n",
            "Increase the number of iterations (max_iter) or scale the data as shown in:\n",
            "    https://scikit-learn.org/stable/modules/preprocessing.html\n",
            "Please also refer to the documentation for alternative solver options:\n",
            "    https://scikit-learn.org/stable/modules/linear_model.html#logistic-regression\n",
            "  n_iter_i = _check_optimize_result(\n"
          ]
        }
      ]
    },
    {
      "cell_type": "code",
      "source": [
        "clf = svm.SVC(kernel = 'linear')\n",
        "clf.fit(X_train,Y_train)\n",
        "y_pred = clf.predict(X_test)\n",
        "\n",
        "cm_svm = confusion_matrix(Y_test,y_pred);\n",
        "accuracy_svm = accuracy_score(Y_test,y_pred);\n",
        "precision_svm = precision_score(Y_test,y_pred,average='macro')\n",
        "recall_svm = recall_score(Y_test,y_pred,average='macro');\n",
        "f1_svm = f1_score(Y_test,y_pred,average='macro')\n",
        "print(accuracy_svm)"
      ],
      "metadata": {
        "colab": {
          "base_uri": "https://localhost:8080/"
        },
        "id": "fXcXZ8n2ZcFn",
        "outputId": "3fb15fb2-0a38-452d-cd12-880753e25a19"
      },
      "execution_count": 13,
      "outputs": [
        {
          "output_type": "stream",
          "name": "stdout",
          "text": [
            "0.9992982456140351\n"
          ]
        }
      ]
    },
    {
      "cell_type": "code",
      "source": [
        "poly = svm.SVC(kernel ='poly',degree = 4,gamma='scale',coef0=0.0)\n",
        "poly.fit(X_train,Y_train)\n",
        "\n",
        "y_pred_poly = poly.predict(X_test)\n",
        "\n",
        "cm_poly = confusion_matrix(Y_test,y_pred_poly);\n",
        "accuracy_poly = accuracy_score(Y_test,y_pred_poly);\n",
        "precision_poly = precision_score(Y_test,y_pred_poly,average='macro')\n",
        "recall_poly = recall_score(Y_test,y_pred_poly,average='macro');\n",
        "f1_poly = f1_score(Y_test,y_pred_poly,average='macro')"
      ],
      "metadata": {
        "colab": {
          "base_uri": "https://localhost:8080/"
        },
        "id": "cpe9cNdnZplK",
        "outputId": "25d8a6b3-5d2a-41f5-d195-914710827db7"
      },
      "execution_count": 12,
      "outputs": [
        {
          "output_type": "stream",
          "name": "stderr",
          "text": [
            "/usr/local/lib/python3.9/dist-packages/sklearn/metrics/_classification.py:1344: UndefinedMetricWarning: Precision is ill-defined and being set to 0.0 in labels with no predicted samples. Use `zero_division` parameter to control this behavior.\n",
            "  _warn_prf(average, modifier, msg_start, len(result))\n"
          ]
        }
      ]
    },
    {
      "cell_type": "code",
      "source": [
        "sigmoid = svm.SVC(kernel ='sigmoid',degree = 3);\n",
        "sigmoid.fit(X_train,Y_train)\n",
        "\n",
        "y_pred_sigmoid = sigmoid.predict(X_test)\n",
        "\n",
        "cm_sigmoid = confusion_matrix(Y_test,y_pred_sigmoid);\n",
        "accuracy_sigmoid = accuracy_score(Y_test,y_pred_sigmoid);\n",
        "precision_sigmoid = precision_score(Y_test,y_pred_sigmoid,average='macro')\n",
        "recall_sigmoid = recall_score(Y_test,y_pred_sigmoid,average='macro');\n",
        "f1_sigmoid = f1_score(Y_test,y_pred_sigmoid,average='macro')\n",
        "\n",
        "print(y_pred_sigmoid)\n",
        "print(accuracy_sigmoid)"
      ],
      "metadata": {
        "colab": {
          "base_uri": "https://localhost:8080/"
        },
        "id": "ZgQWclFbZtUS",
        "outputId": "4de3afab-a73d-494b-e7c3-9de4d4baf46d"
      },
      "execution_count": 14,
      "outputs": [
        {
          "output_type": "stream",
          "name": "stdout",
          "text": [
            "[0 0 0 ... 0 0 0]\n",
            "0.9978947368421053\n"
          ]
        },
        {
          "output_type": "stream",
          "name": "stderr",
          "text": [
            "/usr/local/lib/python3.9/dist-packages/sklearn/metrics/_classification.py:1344: UndefinedMetricWarning: Precision is ill-defined and being set to 0.0 in labels with no predicted samples. Use `zero_division` parameter to control this behavior.\n",
            "  _warn_prf(average, modifier, msg_start, len(result))\n"
          ]
        }
      ]
    },
    {
      "cell_type": "code",
      "source": [
        "t = PrettyTable([\"Algorithms\",\"Accuracy\",\"Precision\",\"Recall\",\"F1\"])\n",
        "t.add_row(['Linear kernel.',accuracy_svm,precision_svm,recall_svm,f1_svm])\n",
        "t.add_row(['Polynomial Kernel',accuracy_poly,precision_poly,recall_poly,f1_poly])\n",
        "t.add_row(['Sigmoid Kernel',accuracy_sigmoid,precision_sigmoid,recall_sigmoid,f1_sigmoid])\n",
        "t.add_row(['KNN',accuracy_knm,precision_knm,recall_knm,f1_knm])\n",
        "t.add_row(['LogisticRegression',accuracy_reg,precision_reg,recall_reg,f1_reg])\n",
        "print(t)"
      ],
      "metadata": {
        "colab": {
          "base_uri": "https://localhost:8080/"
        },
        "id": "lyhk-jssbUVy",
        "outputId": "f1d361fc-ccda-4035-fe91-f7fb4b20f2b1"
      },
      "execution_count": 15,
      "outputs": [
        {
          "output_type": "stream",
          "name": "stdout",
          "text": [
            "+--------------------+--------------------+---------------------+--------------------+--------------------+\n",
            "|     Algorithms     |      Accuracy      |      Precision      |       Recall       |         F1         |\n",
            "+--------------------+--------------------+---------------------+--------------------+--------------------+\n",
            "|   Linear kernel.   | 0.9992982456140351 |  0.999648629655657  | 0.8333333333333333 | 0.8998242530755711 |\n",
            "| Polynomial Kernel  | 0.9978947368421053 | 0.49894736842105264 |        0.5         | 0.4994731296101159 |\n",
            "|   Sigmoid Kernel   | 0.9978947368421053 | 0.49894736842105264 |        0.5         | 0.4994731296101159 |\n",
            "|        KNN         | 0.9985964912280701 |  0.9992977528089888 | 0.6666666666666666 | 0.749648629655657  |\n",
            "| LogisticRegression | 0.9992982456140351 |  0.999648629655657  | 0.8333333333333333 | 0.8998242530755711 |\n",
            "+--------------------+--------------------+---------------------+--------------------+--------------------+\n"
          ]
        }
      ]
    },
    {
      "cell_type": "markdown",
      "source": [
        "#Finally,\n",
        "Save a copy in your Github. Remember renaming the notebook."
      ],
      "metadata": {
        "id": "Ok7RGkea_b7n"
      }
    }
  ]
}
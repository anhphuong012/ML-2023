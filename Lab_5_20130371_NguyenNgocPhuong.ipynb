{
  "nbformat": 4,
  "nbformat_minor": 0,
  "metadata": {
    "colab": {
      "provenance": [],
      "include_colab_link": true
    },
    "kernelspec": {
      "name": "python3",
      "display_name": "Python 3"
    },
    "language_info": {
      "name": "python"
    }
  },
  "cells": [
    {
      "cell_type": "markdown",
      "metadata": {
        "id": "view-in-github",
        "colab_type": "text"
      },
      "source": [
        "<a href=\"https://colab.research.google.com/github/anhphuong012/ML-2023/blob/main/Lab_5_20130371_NguyenNgocPhuong.ipynb\" target=\"_parent\"><img src=\"https://colab.research.google.com/assets/colab-badge.svg\" alt=\"Open In Colab\"/></a>"
      ]
    },
    {
      "cell_type": "markdown",
      "source": [
        "# This lab is to deal with **SVM** to classification tasks and compare its performance with other competitive algorithms. In general, **SVM** is one of the most popular and widely used supervised machine learning algorithms.\n",
        "\n",
        "*   **Deadline: 23:59, 17/03/2023**\n",
        "\n"
      ],
      "metadata": {
        "id": "LMzehe0sy5wr"
      }
    },
    {
      "cell_type": "markdown",
      "source": [
        "# Import libraries"
      ],
      "metadata": {
        "id": "H4nJmxp9zGX4"
      }
    },
    {
      "cell_type": "code",
      "execution_count": 2,
      "metadata": {
        "id": "DoVWQ8AEyc-C"
      },
      "outputs": [],
      "source": [
        "# code\n",
        "from sklearn.linear_model import LogisticRegression\n",
        "from sklearn.metrics import confusion_matrix,classification_report\n",
        "from sklearn.metrics import accuracy_score\n",
        "from sklearn.metrics import precision_score\n",
        "from sklearn.metrics import recall_score\n",
        "from sklearn.metrics import f1_score\n",
        "from sklearn import datasets\n",
        "from sklearn.model_selection import train_test_split\n",
        "from sklearn.metrics import ConfusionMatrixDisplay\n",
        "from sklearn.tree import DecisionTreeClassifier\n",
        "from sklearn.neighbors import KNeighborsClassifier\n",
        "from sklearn import svm\n",
        "import matplotlib.pyplot as plt\n",
        "from prettytable import PrettyTable\n",
        "import pandas as pd\n"
      ]
    },
    {
      "cell_type": "code",
      "source": [
        "from google.colab import drive\n",
        "drive.mount('/content/gdrive')\n",
        "%cd '/content/gdrive/MyDrive/lab'"
      ],
      "metadata": {
        "colab": {
          "base_uri": "https://localhost:8080/"
        },
        "id": "TDu3Nbd5FrfS",
        "outputId": "18bf9009-40af-4e65-8fb5-0e7e17a27ea4"
      },
      "execution_count": 3,
      "outputs": [
        {
          "output_type": "stream",
          "name": "stdout",
          "text": [
            "Mounted at /content/gdrive\n",
            "/content/gdrive/MyDrive/lab\n"
          ]
        }
      ]
    },
    {
      "cell_type": "markdown",
      "source": [
        "#Task 1. \n",
        "For breast cancer dataset (https://tinyurl.com/3vme8hr3) which could be loaded from datasets in sklearn as follows:\n",
        "\n",
        "```\n",
        "#Import scikit-learn dataset library\n",
        "from sklearn import datasets\n",
        "\n",
        "#Load dataset\n",
        "cancer = datasets.load_breast_cancer()\n",
        "```\n",
        "\n",
        "*   1.1.\tApply SVM algorithm to above dataset using linear kernel.\n",
        "*   1.2.\tCompare the obtained results with other competitive algorithms (Logistic Regression, Decision Tree, kNN) based on metrics: accuracy, precision, recall, f1 measures.\n",
        "\n"
      ],
      "metadata": {
        "id": "kNv07ARGzOUm"
      }
    },
    {
      "cell_type": "code",
      "source": [
        "# code\n",
        "\n",
        "# Load dataset\n",
        "cancer = datasets.load_breast_cancer()\n",
        "\n",
        "X = cancer['data']\n",
        "Y = cancer['target']\n",
        "\n",
        "X_train,X_test,Y_train,Y_test = train_test_split(X, Y, test_size = 0.2, random_state = 1)"
      ],
      "metadata": {
        "id": "sOsg77IBzEyo"
      },
      "execution_count": null,
      "outputs": []
    },
    {
      "cell_type": "code",
      "source": [
        "clf = svm.SVC(kernel = 'linear')\n",
        "clf.fit(X_train,Y_train)\n",
        "y_pred = clf.predict(X_test)\n",
        "\n",
        "cm_svm = confusion_matrix(Y_test,y_pred);\n",
        "accuracy_svm = accuracy_score(Y_test,y_pred)\n",
        "precision_svm = precision_score(Y_test,y_pred,average='macro')\n",
        "recall_svm = recall_score(Y_test,y_pred,average='macro')\n",
        "f1_svm = f1_score(Y_test,y_pred,average='macro')\n",
        "\n",
        "\n"
      ],
      "metadata": {
        "id": "8bDiuRcxK20S"
      },
      "execution_count": null,
      "outputs": []
    },
    {
      "cell_type": "code",
      "source": [
        "classfilder = LogisticRegression(random_state=0)\n",
        "classfilder.fit(X_train,Y_train)\n",
        "\n",
        "y_pred_reg = classfilder.predict(X_test)\n",
        "cm_reg = confusion_matrix(Y_test,y_pred_reg);\n",
        "\n",
        "accuracy_reg = accuracy_score(Y_test,y_pred_reg);\n",
        "precision_reg = precision_score(Y_test,y_pred_reg,average='macro')\n",
        "recall_reg = recall_score(Y_test,y_pred_reg,average='macro')\n",
        "f1_reg = f1_score(Y_test,y_pred_reg,average='macro')\n"
      ],
      "metadata": {
        "id": "26CXcIhgMi4q"
      },
      "execution_count": null,
      "outputs": []
    },
    {
      "cell_type": "code",
      "source": [
        "t = PrettyTable([\"Name\",\"Accuracy\",\"Precision\",\"Recall\",\"F1\"])\n",
        "t.add_row(['SVM Linear Kernel',accuracy_svm,precision_svm,recall_svm,f1_svm])\n",
        "t.add_row(['Logistic Regression',accuracy_reg,precision_reg,recall_reg,f1_reg])\n",
        "print(t)"
      ],
      "metadata": {
        "colab": {
          "base_uri": "https://localhost:8080/"
        },
        "id": "lPGFb4c_Nimy",
        "outputId": "5b6175ea-3df1-497b-f65b-9044bb76516d"
      },
      "execution_count": null,
      "outputs": [
        {
          "output_type": "stream",
          "name": "stdout",
          "text": [
            "+---------------------+--------------------+--------------------+--------------------+-------------------+\n",
            "|         Name        |      Accuracy      |     Precision      |       Recall       |         F1        |\n",
            "+---------------------+--------------------+--------------------+--------------------+-------------------+\n",
            "|  SVM Linear Kernel  | 0.956140350877193  | 0.9675324675324675 | 0.9404761904761905 | 0.951575906889814 |\n",
            "| Logistic Regression | 0.9473684210526315 | 0.9479729729729729 | 0.9384920634920635 | 0.942866688940862 |\n",
            "+---------------------+--------------------+--------------------+--------------------+-------------------+\n"
          ]
        }
      ]
    },
    {
      "cell_type": "markdown",
      "source": [
        "#Task 2. \n",
        "\n",
        "*   1.1.\tPerform SVM algorithm to **Iris dataset** using **linear kernel**.\n",
        "*   1.2.\tCompare the obtained results in 1.1 with SVM using other kernels (**Polynomial Kernel, Gaussian Kernel, Sigmoid Kernel, Radial Basis Function Kernel**). Some metrics could be used: accuracy, precision, recall, f1 measures\n",
        "\n",
        "\n",
        "\n"
      ],
      "metadata": {
        "id": "S43IoUT-0OQq"
      }
    },
    {
      "cell_type": "code",
      "source": [
        "# code\n",
        "data = datasets.load_iris()\n",
        "X = data['data']\n",
        "Y = data['target']\n",
        "\n",
        "X_train,X_test,Y_train,Y_test = train_test_split(X, Y, test_size = 0.2, random_state = 1)"
      ],
      "metadata": {
        "id": "_xhPpF5b033h"
      },
      "execution_count": null,
      "outputs": []
    },
    {
      "cell_type": "code",
      "source": [
        "clf = svm.SVC(kernel = 'linear')\n",
        "clf.fit(X_train,Y_train)\n",
        "y_pred = clf.predict(X_test)\n",
        "\n",
        "cm_svm = confusion_matrix(Y_test,y_pred);\n",
        "accuracy_svm = accuracy_score(Y_test,y_pred);\n",
        "precision_svm = precision_score(Y_test,y_pred,average='macro')\n",
        "recall_svm = recall_score(Y_test,y_pred,average='macro');\n",
        "f1_svm = f1_score(Y_test,y_pred,average='macro')\n",
        "\n",
        "print(y_pred)\n",
        "print(accuracy_svm)\n",
        "\n"
      ],
      "metadata": {
        "colab": {
          "base_uri": "https://localhost:8080/"
        },
        "id": "94nMyUMfQfoq",
        "outputId": "da237606-6e00-419d-8679-e569ce057141"
      },
      "execution_count": null,
      "outputs": [
        {
          "output_type": "stream",
          "name": "stdout",
          "text": [
            "[0 1 1 0 2 1 2 0 0 2 1 0 2 1 1 0 1 1 0 0 1 1 1 0 2 1 0 0 1 2]\n",
            "1.0\n"
          ]
        }
      ]
    },
    {
      "cell_type": "code",
      "source": [
        "poly = svm.SVC(kernel ='poly',degree = 4,gamma='scale',coef0=0.0)\n",
        "poly.fit(X_train,Y_train)\n",
        "\n",
        "y_pred_poly = poly.predict(X_test)\n",
        "\n",
        "cm_poly = confusion_matrix(Y_test,y_pred_poly);\n",
        "accuracy_poly = accuracy_score(Y_test,y_pred_poly);\n",
        "precision_poly = precision_score(Y_test,y_pred_poly,average='macro')\n",
        "recall_poly = recall_score(Y_test,y_pred_poly,average='macro');\n",
        "f1_poly = f1_score(Y_test,y_pred_poly,average='macro')\n",
        "\n",
        "print(y_pred_poly)\n",
        "print(accuracy_poly)\n"
      ],
      "metadata": {
        "colab": {
          "base_uri": "https://localhost:8080/"
        },
        "id": "Vio50PtXPXmx",
        "outputId": "14285092-e6a3-4909-a5bc-108aa3eb3bee"
      },
      "execution_count": null,
      "outputs": [
        {
          "output_type": "stream",
          "name": "stdout",
          "text": [
            "[0 1 1 0 2 1 2 0 0 2 1 0 2 1 1 0 1 1 0 0 1 1 1 0 2 1 0 0 1 2]\n",
            "1.0\n"
          ]
        }
      ]
    },
    {
      "cell_type": "code",
      "source": [
        "sigmoid = svm.SVC(kernel ='sigmoid',degree = 3);\n",
        "sigmoid.fit(X_train,Y_train)\n",
        "\n",
        "y_pred_sigmoid = sigmoid.predict(X_test)\n",
        "\n",
        "cm_sigmoid = confusion_matrix(Y_test,y_pred_sigmoid);\n",
        "accuracy_sigmoid = accuracy_score(Y_test,y_pred_sigmoid);\n",
        "precision_sigmoid = precision_score(Y_test,y_pred_sigmoid,average='macro')\n",
        "recall_sigmoid = recall_score(Y_test,y_pred_sigmoid,average='macro');\n",
        "f1_sigmoid = f1_score(Y_test,y_pred_sigmoid,average='macro')\n",
        "\n",
        "print(y_pred_sigmoid)\n",
        "print(accuracy_sigmoid)\n",
        "\n"
      ],
      "metadata": {
        "colab": {
          "base_uri": "https://localhost:8080/"
        },
        "id": "60cqxlXzRSKC",
        "outputId": "4f682802-72c7-4514-bd8d-d45f5faa5dd7"
      },
      "execution_count": null,
      "outputs": [
        {
          "output_type": "stream",
          "name": "stdout",
          "text": [
            "[2 2 2 2 2 2 2 2 2 2 2 2 2 2 2 2 2 2 2 2 2 2 2 2 2 2 2 2 2 2]\n",
            "0.2\n"
          ]
        },
        {
          "output_type": "stream",
          "name": "stderr",
          "text": [
            "/usr/local/lib/python3.9/dist-packages/sklearn/metrics/_classification.py:1344: UndefinedMetricWarning: Precision is ill-defined and being set to 0.0 in labels with no predicted samples. Use `zero_division` parameter to control this behavior.\n",
            "  _warn_prf(average, modifier, msg_start, len(result))\n"
          ]
        }
      ]
    },
    {
      "cell_type": "code",
      "source": [
        "rbf = svm.SVC(kernel ='rbf',degree = 5,gamma='auto');\n",
        "rbf.fit(X_train,Y_train)\n",
        "\n",
        "y_pred_rbf = rbf.predict(X_test)\n",
        "\n",
        "cm_rbf = confusion_matrix(Y_test,y_pred_rbf);\n",
        "accuracy_rbf = accuracy_score(Y_test,y_pred_rbf);\n",
        "precision_rbf = precision_score(Y_test,y_pred_rbf,average='macro')\n",
        "recall_rbf = recall_score(Y_test,y_pred_rbf,average='macro');\n",
        "f1_rbf = f1_score(Y_test,y_pred_rbf,average='macro')\n",
        "\n",
        "print(y_pred_rbf)\n",
        "print(accuracy_rbf)"
      ],
      "metadata": {
        "colab": {
          "base_uri": "https://localhost:8080/"
        },
        "id": "50lGWD5OXBdw",
        "outputId": "16fc825b-9f35-4ca7-c32e-2dfe990e25df"
      },
      "execution_count": null,
      "outputs": [
        {
          "output_type": "stream",
          "name": "stdout",
          "text": [
            "[0 1 1 0 2 1 2 0 0 2 1 0 2 1 1 0 1 1 0 0 1 1 2 0 2 1 0 0 1 2]\n",
            "0.9666666666666667\n"
          ]
        }
      ]
    },
    {
      "cell_type": "code",
      "source": [
        "t = PrettyTable([\"Algorithms\",\"Accuracy\",\"Precision\",\"Recall\",\"F1\"])\n",
        "t.add_row(['Linear kernel.',accuracy_svm,precision_svm,recall_svm,f1_svm])\n",
        "t.add_row(['Polynomial Kernel',accuracy_poly,precision_poly,recall_poly,f1_poly])\n",
        "t.add_row(['Sigmoid Kernel',accuracy_sigmoid,precision_sigmoid,recall_sigmoid,f1_sigmoid])\n",
        "t.add_row(['Radial Basis Function Kernel',accuracy_rbf,precision_rbf,recall_rbf,f1_rbf])\n",
        "print(t)"
      ],
      "metadata": {
        "colab": {
          "base_uri": "https://localhost:8080/"
        },
        "id": "VQvaqYvcX6b0",
        "outputId": "a0333ddf-15b0-4c7e-f9df-9f54a3930fe7"
      },
      "execution_count": null,
      "outputs": [
        {
          "output_type": "stream",
          "name": "stdout",
          "text": [
            "+------------------------------+--------------------+---------------------+--------------------+---------------------+\n",
            "|          Algorithms          |      Accuracy      |      Precision      |       Recall       |          F1         |\n",
            "+------------------------------+--------------------+---------------------+--------------------+---------------------+\n",
            "|        Linear kernel.        |        1.0         |         1.0         |        1.0         |         1.0         |\n",
            "|      Polynomial Kernel       |        1.0         |         1.0         |        1.0         |         1.0         |\n",
            "|        Sigmoid Kernel        |        0.2         | 0.06666666666666667 | 0.3333333333333333 | 0.11111111111111112 |\n",
            "| Radial Basis Function Kernel | 0.9666666666666667 |  0.9523809523809524 | 0.9743589743589745 |  0.9610256410256409 |\n",
            "+------------------------------+--------------------+---------------------+--------------------+---------------------+\n"
          ]
        }
      ]
    },
    {
      "cell_type": "markdown",
      "source": [
        "#Task 3. \n",
        "Compare the performance of selected classification algorithms (Decision Tree, kNN, Logistic Regression) and SVM (using different kernels) with mnist dataset based on accuracy, precision, recall, f1 measures.\n"
      ],
      "metadata": {
        "id": "b52OPWPD2afi"
      }
    },
    {
      "cell_type": "code",
      "source": [
        "mnist = datasets.load_digits()\n",
        "X = mnist['data']\n",
        "Y = mnist['target']\n",
        "X_train,X_test,Y_train,Y_test = train_test_split(X, Y, test_size = 0.2, random_state = 1)\n"
      ],
      "metadata": {
        "id": "rOCGQawTZ-5q"
      },
      "execution_count": null,
      "outputs": []
    },
    {
      "cell_type": "code",
      "source": [
        "knm = KNeighborsClassifier(n_neighbors=7)\n",
        "knm.fit(X_train,Y_train)\n",
        "\n",
        "y_pred_knm = knm.predict(X_test);\n",
        "accuracy_knm = accuracy_score(Y_test,y_pred_knm)\n",
        "precision_knm = precision_score(Y_test,y_pred_knm,average='macro')\n",
        "recall_knm = recall_score(Y_test,y_pred_knm,average='macro');\n",
        "f1_knm = f1_score(Y_test,y_pred_knm,average='macro')\n",
        "\n",
        "print(accuracy_knm)\n"
      ],
      "metadata": {
        "colab": {
          "base_uri": "https://localhost:8080/"
        },
        "id": "I_aWFsd-a--x",
        "outputId": "ee74ceb8-b518-4e31-b940-27d150ab3700"
      },
      "execution_count": null,
      "outputs": [
        {
          "output_type": "stream",
          "name": "stdout",
          "text": [
            "0.9972222222222222\n"
          ]
        }
      ]
    },
    {
      "cell_type": "code",
      "source": [
        "classfilder = LogisticRegression(random_state=0)\n",
        "classfilder.fit(X_train,Y_train)\n",
        "\n",
        "y_pred_reg = classfilder.predict(X_test)\n",
        "cm_reg = confusion_matrix(Y_test,y_pred_reg);\n",
        "\n",
        "accuracy_reg = accuracy_score(Y_test,y_pred_reg);\n",
        "precision_reg = precision_score(Y_test,y_pred_reg,average='macro')\n",
        "recall_reg = recall_score(Y_test,y_pred_reg,average='macro')\n",
        "f1_reg = f1_score(Y_test,y_pred_reg,average='macro')\n",
        "\n"
      ],
      "metadata": {
        "id": "i6svKx4IcgWi"
      },
      "execution_count": null,
      "outputs": []
    },
    {
      "cell_type": "code",
      "source": [
        "clf = svm.SVC(kernel = 'linear')\n",
        "clf.fit(X_train,Y_train)\n",
        "y_pred = clf.predict(X_test)\n",
        "\n",
        "cm_svm = confusion_matrix(Y_test,y_pred);\n",
        "accuracy_svm = accuracy_score(Y_test,y_pred);\n",
        "precision_svm = precision_score(Y_test,y_pred,average='macro')\n",
        "recall_svm = recall_score(Y_test,y_pred,average='macro');\n",
        "f1_svm = f1_score(Y_test,y_pred,average='macro')\n",
        "print(accuracy_svm)"
      ],
      "metadata": {
        "colab": {
          "base_uri": "https://localhost:8080/"
        },
        "id": "MR72cD0B2Bwc",
        "outputId": "ae1e63b8-e0b9-4b7f-a05a-9df18e91027b"
      },
      "execution_count": null,
      "outputs": [
        {
          "output_type": "stream",
          "name": "stdout",
          "text": [
            "0.9916666666666667\n"
          ]
        }
      ]
    },
    {
      "cell_type": "code",
      "source": [
        "poly = svm.SVC(kernel ='poly',degree = 4,gamma='scale',coef0=0.0)\n",
        "poly.fit(X_train,Y_train)\n",
        "\n",
        "y_pred_poly = poly.predict(X_test)\n",
        "\n",
        "cm_poly = confusion_matrix(Y_test,y_pred_poly);\n",
        "accuracy_poly = accuracy_score(Y_test,y_pred_poly);\n",
        "precision_poly = precision_score(Y_test,y_pred_poly,average='macro')\n",
        "recall_poly = recall_score(Y_test,y_pred_poly,average='macro');\n",
        "f1_poly = f1_score(Y_test,y_pred_poly,average='macro')\n"
      ],
      "metadata": {
        "id": "XhyJVUUh2KnC"
      },
      "execution_count": null,
      "outputs": []
    },
    {
      "cell_type": "code",
      "source": [
        "sigmoid = svm.SVC(kernel ='sigmoid',degree = 3);\n",
        "sigmoid.fit(X_train,Y_train)\n",
        "\n",
        "y_pred_sigmoid = sigmoid.predict(X_test)\n",
        "\n",
        "cm_sigmoid = confusion_matrix(Y_test,y_pred_sigmoid);\n",
        "accuracy_sigmoid = accuracy_score(Y_test,y_pred_sigmoid);\n",
        "precision_sigmoid = precision_score(Y_test,y_pred_sigmoid,average='macro')\n",
        "recall_sigmoid = recall_score(Y_test,y_pred_sigmoid,average='macro');\n",
        "f1_sigmoid = f1_score(Y_test,y_pred_sigmoid,average='macro')\n",
        "\n",
        "print(y_pred_sigmoid)\n",
        "print(accuracy_sigmoid)"
      ],
      "metadata": {
        "colab": {
          "base_uri": "https://localhost:8080/"
        },
        "id": "_4uL74Tc2Rlc",
        "outputId": "272e6049-a958-44ac-c974-930bfd1ed1e2"
      },
      "execution_count": null,
      "outputs": [
        {
          "output_type": "stream",
          "name": "stdout",
          "text": [
            "[8 5 0 7 1 0 6 1 5 4 9 2 7 8 4 6 9 3 7 4 7 4 8 6 0 7 6 1 3 7 5 9 8 3 2 9 8\n",
            " 1 7 0 7 9 0 0 8 7 2 7 1 3 4 3 4 0 4 7 0 5 5 5 2 1 7 0 5 1 8 3 3 4 0 3 7 4\n",
            " 8 0 2 1 7 3 1 5 3 4 1 5 5 2 5 2 2 2 2 7 0 8 1 5 4 2 3 9 2 3 3 0 2 9 9 2 3\n",
            " 2 8 1 7 9 1 2 0 1 8 5 4 4 7 6 7 6 6 1 7 5 6 3 8 3 7 1 8 5 3 4 7 8 5 0 6 0\n",
            " 6 3 7 6 5 6 2 2 2 3 0 7 6 5 6 4 1 0 6 0 6 4 0 9 8 5 1 2 3 1 9 0 7 6 2 9 3\n",
            " 5 3 4 6 3 3 7 4 7 2 7 6 1 6 8 4 0 3 1 0 9 9 9 4 1 8 6 8 0 9 5 9 9 2 3 5 3\n",
            " 0 8 7 4 0 3 3 3 6 3 3 2 9 1 6 9 0 4 2 2 7 9 1 6 7 6 1 9 1 0 3 4 0 6 4 8 5\n",
            " 3 6 3 1 4 0 4 4 9 7 9 1 5 2 7 0 9 0 4 4 0 1 4 6 4 8 9 5 0 2 6 0 1 8 2 0 9\n",
            " 5 6 2 0 5 0 9 1 4 7 1 7 0 6 6 8 0 2 2 6 9 9 7 5 9 7 6 4 6 1 9 4 7 1 3 7 8\n",
            " 7 6 9 8 1 2 6 8 7 5 5 6 9 9 9 1 0 0 4 9 3 0 4 9 4 2 5]\n",
            "0.9111111111111111\n"
          ]
        }
      ]
    },
    {
      "cell_type": "code",
      "source": [
        "t = PrettyTable([\"Algorithms\",\"Accuracy\",\"Precision\",\"Recall\",\"F1\"])\n",
        "t.add_row(['Linear kernel.',accuracy_svm,precision_svm,recall_svm,f1_svm])\n",
        "t.add_row(['Polynomial Kernel',accuracy_poly,precision_poly,recall_poly,f1_poly])\n",
        "t.add_row(['Sigmoid Kernel',accuracy_sigmoid,precision_sigmoid,recall_sigmoid,f1_sigmoid])\n",
        "t.add_row(['KNN',accuracy_knm,precision_knm,recall_knm,f1_knm])\n",
        "t.add_row(['LogisticRegression',accuracy_reg,precision_reg,recall_reg,f1_reg])\n",
        "print(t)"
      ],
      "metadata": {
        "colab": {
          "base_uri": "https://localhost:8080/"
        },
        "id": "FlVW3EIi2aFp",
        "outputId": "e2d8bf7b-4714-438d-83b2-f66fcc2f9eb9"
      },
      "execution_count": null,
      "outputs": [
        {
          "output_type": "stream",
          "name": "stdout",
          "text": [
            "+--------------------+--------------------+--------------------+--------------------+--------------------+\n",
            "|     Algorithms     |      Accuracy      |     Precision      |       Recall       |         F1         |\n",
            "+--------------------+--------------------+--------------------+--------------------+--------------------+\n",
            "|   Linear kernel.   | 0.9916666666666667 | 0.9908088235294118 | 0.9909078449646401 | 0.9907087680991878 |\n",
            "| Polynomial Kernel  | 0.9861111111111112 | 0.9857931025672961 | 0.9858044857915134 | 0.9856721183919716 |\n",
            "|   Sigmoid Kernel   | 0.9111111111111111 | 0.9097758458425927 | 0.9077266355048661 | 0.9077113548578971 |\n",
            "|        KNN         | 0.9972222222222222 | 0.9973684210526315 | 0.9972222222222221 | 0.9972582159624412 |\n",
            "| LogisticRegression | 0.9694444444444444 | 0.9689970075227248 | 0.9685113215471297 | 0.9682540010104479 |\n",
            "+--------------------+--------------------+--------------------+--------------------+--------------------+\n"
          ]
        }
      ]
    },
    {
      "cell_type": "markdown",
      "source": [
        "#Task 4. \n",
        "Compare the performance of selected classification algorithms (Decision Tree, kNN, Logistic Regression) and SVM (using different kernels) with **credit card dataset** based on accuracy, precision, recall, f1 measures.\n",
        "\n",
        "*   Give some comments on the obtained results\n",
        "*   Identify issues with dataset, and propose the solutions to these issues\n",
        "\n"
      ],
      "metadata": {
        "id": "Z5pp7_h-aP2u"
      }
    },
    {
      "cell_type": "code",
      "source": [
        "# code\n",
        "data = pd.read_csv('creditcard.csv')\n",
        "colums = data.columns\n",
        "X = data[colums[0:colums.size - 1]]\n",
        "Y = data[colums[colums.size - 1]]\n",
        "\n",
        "X_train, X_test, Y_train, Y_test = train_test_split(X, Y,train_size=0.03,test_size = 0.005, random_state=1)\n",
        "\n",
        "\n",
        "data\n",
        "\n"
      ],
      "metadata": {
        "id": "Rw_-8FIf2KxW",
        "colab": {
          "base_uri": "https://localhost:8080/",
          "height": 488
        },
        "outputId": "80e2c039-625f-46b2-c5ac-8cc39c7f0515"
      },
      "execution_count": 7,
      "outputs": [
        {
          "output_type": "execute_result",
          "data": {
            "text/plain": [
              "            Time         V1         V2        V3        V4        V5  \\\n",
              "0            0.0  -1.359807  -0.072781  2.536347  1.378155 -0.338321   \n",
              "1            0.0   1.191857   0.266151  0.166480  0.448154  0.060018   \n",
              "2            1.0  -1.358354  -1.340163  1.773209  0.379780 -0.503198   \n",
              "3            1.0  -0.966272  -0.185226  1.792993 -0.863291 -0.010309   \n",
              "4            2.0  -1.158233   0.877737  1.548718  0.403034 -0.407193   \n",
              "...          ...        ...        ...       ...       ...       ...   \n",
              "284802  172786.0 -11.881118  10.071785 -9.834783 -2.066656 -5.364473   \n",
              "284803  172787.0  -0.732789  -0.055080  2.035030 -0.738589  0.868229   \n",
              "284804  172788.0   1.919565  -0.301254 -3.249640 -0.557828  2.630515   \n",
              "284805  172788.0  -0.240440   0.530483  0.702510  0.689799 -0.377961   \n",
              "284806  172792.0  -0.533413  -0.189733  0.703337 -0.506271 -0.012546   \n",
              "\n",
              "              V6        V7        V8        V9  ...       V21       V22  \\\n",
              "0       0.462388  0.239599  0.098698  0.363787  ... -0.018307  0.277838   \n",
              "1      -0.082361 -0.078803  0.085102 -0.255425  ... -0.225775 -0.638672   \n",
              "2       1.800499  0.791461  0.247676 -1.514654  ...  0.247998  0.771679   \n",
              "3       1.247203  0.237609  0.377436 -1.387024  ... -0.108300  0.005274   \n",
              "4       0.095921  0.592941 -0.270533  0.817739  ... -0.009431  0.798278   \n",
              "...          ...       ...       ...       ...  ...       ...       ...   \n",
              "284802 -2.606837 -4.918215  7.305334  1.914428  ...  0.213454  0.111864   \n",
              "284803  1.058415  0.024330  0.294869  0.584800  ...  0.214205  0.924384   \n",
              "284804  3.031260 -0.296827  0.708417  0.432454  ...  0.232045  0.578229   \n",
              "284805  0.623708 -0.686180  0.679145  0.392087  ...  0.265245  0.800049   \n",
              "284806 -0.649617  1.577006 -0.414650  0.486180  ...  0.261057  0.643078   \n",
              "\n",
              "             V23       V24       V25       V26       V27       V28  Amount  \\\n",
              "0      -0.110474  0.066928  0.128539 -0.189115  0.133558 -0.021053  149.62   \n",
              "1       0.101288 -0.339846  0.167170  0.125895 -0.008983  0.014724    2.69   \n",
              "2       0.909412 -0.689281 -0.327642 -0.139097 -0.055353 -0.059752  378.66   \n",
              "3      -0.190321 -1.175575  0.647376 -0.221929  0.062723  0.061458  123.50   \n",
              "4      -0.137458  0.141267 -0.206010  0.502292  0.219422  0.215153   69.99   \n",
              "...          ...       ...       ...       ...       ...       ...     ...   \n",
              "284802  1.014480 -0.509348  1.436807  0.250034  0.943651  0.823731    0.77   \n",
              "284803  0.012463 -1.016226 -0.606624 -0.395255  0.068472 -0.053527   24.79   \n",
              "284804 -0.037501  0.640134  0.265745 -0.087371  0.004455 -0.026561   67.88   \n",
              "284805 -0.163298  0.123205 -0.569159  0.546668  0.108821  0.104533   10.00   \n",
              "284806  0.376777  0.008797 -0.473649 -0.818267 -0.002415  0.013649  217.00   \n",
              "\n",
              "        Class  \n",
              "0           0  \n",
              "1           0  \n",
              "2           0  \n",
              "3           0  \n",
              "4           0  \n",
              "...       ...  \n",
              "284802      0  \n",
              "284803      0  \n",
              "284804      0  \n",
              "284805      0  \n",
              "284806      0  \n",
              "\n",
              "[284807 rows x 31 columns]"
            ],
            "text/html": [
              "\n",
              "  <div id=\"df-370f41d5-eb1b-438e-b548-b8cdbeb13e74\">\n",
              "    <div class=\"colab-df-container\">\n",
              "      <div>\n",
              "<style scoped>\n",
              "    .dataframe tbody tr th:only-of-type {\n",
              "        vertical-align: middle;\n",
              "    }\n",
              "\n",
              "    .dataframe tbody tr th {\n",
              "        vertical-align: top;\n",
              "    }\n",
              "\n",
              "    .dataframe thead th {\n",
              "        text-align: right;\n",
              "    }\n",
              "</style>\n",
              "<table border=\"1\" class=\"dataframe\">\n",
              "  <thead>\n",
              "    <tr style=\"text-align: right;\">\n",
              "      <th></th>\n",
              "      <th>Time</th>\n",
              "      <th>V1</th>\n",
              "      <th>V2</th>\n",
              "      <th>V3</th>\n",
              "      <th>V4</th>\n",
              "      <th>V5</th>\n",
              "      <th>V6</th>\n",
              "      <th>V7</th>\n",
              "      <th>V8</th>\n",
              "      <th>V9</th>\n",
              "      <th>...</th>\n",
              "      <th>V21</th>\n",
              "      <th>V22</th>\n",
              "      <th>V23</th>\n",
              "      <th>V24</th>\n",
              "      <th>V25</th>\n",
              "      <th>V26</th>\n",
              "      <th>V27</th>\n",
              "      <th>V28</th>\n",
              "      <th>Amount</th>\n",
              "      <th>Class</th>\n",
              "    </tr>\n",
              "  </thead>\n",
              "  <tbody>\n",
              "    <tr>\n",
              "      <th>0</th>\n",
              "      <td>0.0</td>\n",
              "      <td>-1.359807</td>\n",
              "      <td>-0.072781</td>\n",
              "      <td>2.536347</td>\n",
              "      <td>1.378155</td>\n",
              "      <td>-0.338321</td>\n",
              "      <td>0.462388</td>\n",
              "      <td>0.239599</td>\n",
              "      <td>0.098698</td>\n",
              "      <td>0.363787</td>\n",
              "      <td>...</td>\n",
              "      <td>-0.018307</td>\n",
              "      <td>0.277838</td>\n",
              "      <td>-0.110474</td>\n",
              "      <td>0.066928</td>\n",
              "      <td>0.128539</td>\n",
              "      <td>-0.189115</td>\n",
              "      <td>0.133558</td>\n",
              "      <td>-0.021053</td>\n",
              "      <td>149.62</td>\n",
              "      <td>0</td>\n",
              "    </tr>\n",
              "    <tr>\n",
              "      <th>1</th>\n",
              "      <td>0.0</td>\n",
              "      <td>1.191857</td>\n",
              "      <td>0.266151</td>\n",
              "      <td>0.166480</td>\n",
              "      <td>0.448154</td>\n",
              "      <td>0.060018</td>\n",
              "      <td>-0.082361</td>\n",
              "      <td>-0.078803</td>\n",
              "      <td>0.085102</td>\n",
              "      <td>-0.255425</td>\n",
              "      <td>...</td>\n",
              "      <td>-0.225775</td>\n",
              "      <td>-0.638672</td>\n",
              "      <td>0.101288</td>\n",
              "      <td>-0.339846</td>\n",
              "      <td>0.167170</td>\n",
              "      <td>0.125895</td>\n",
              "      <td>-0.008983</td>\n",
              "      <td>0.014724</td>\n",
              "      <td>2.69</td>\n",
              "      <td>0</td>\n",
              "    </tr>\n",
              "    <tr>\n",
              "      <th>2</th>\n",
              "      <td>1.0</td>\n",
              "      <td>-1.358354</td>\n",
              "      <td>-1.340163</td>\n",
              "      <td>1.773209</td>\n",
              "      <td>0.379780</td>\n",
              "      <td>-0.503198</td>\n",
              "      <td>1.800499</td>\n",
              "      <td>0.791461</td>\n",
              "      <td>0.247676</td>\n",
              "      <td>-1.514654</td>\n",
              "      <td>...</td>\n",
              "      <td>0.247998</td>\n",
              "      <td>0.771679</td>\n",
              "      <td>0.909412</td>\n",
              "      <td>-0.689281</td>\n",
              "      <td>-0.327642</td>\n",
              "      <td>-0.139097</td>\n",
              "      <td>-0.055353</td>\n",
              "      <td>-0.059752</td>\n",
              "      <td>378.66</td>\n",
              "      <td>0</td>\n",
              "    </tr>\n",
              "    <tr>\n",
              "      <th>3</th>\n",
              "      <td>1.0</td>\n",
              "      <td>-0.966272</td>\n",
              "      <td>-0.185226</td>\n",
              "      <td>1.792993</td>\n",
              "      <td>-0.863291</td>\n",
              "      <td>-0.010309</td>\n",
              "      <td>1.247203</td>\n",
              "      <td>0.237609</td>\n",
              "      <td>0.377436</td>\n",
              "      <td>-1.387024</td>\n",
              "      <td>...</td>\n",
              "      <td>-0.108300</td>\n",
              "      <td>0.005274</td>\n",
              "      <td>-0.190321</td>\n",
              "      <td>-1.175575</td>\n",
              "      <td>0.647376</td>\n",
              "      <td>-0.221929</td>\n",
              "      <td>0.062723</td>\n",
              "      <td>0.061458</td>\n",
              "      <td>123.50</td>\n",
              "      <td>0</td>\n",
              "    </tr>\n",
              "    <tr>\n",
              "      <th>4</th>\n",
              "      <td>2.0</td>\n",
              "      <td>-1.158233</td>\n",
              "      <td>0.877737</td>\n",
              "      <td>1.548718</td>\n",
              "      <td>0.403034</td>\n",
              "      <td>-0.407193</td>\n",
              "      <td>0.095921</td>\n",
              "      <td>0.592941</td>\n",
              "      <td>-0.270533</td>\n",
              "      <td>0.817739</td>\n",
              "      <td>...</td>\n",
              "      <td>-0.009431</td>\n",
              "      <td>0.798278</td>\n",
              "      <td>-0.137458</td>\n",
              "      <td>0.141267</td>\n",
              "      <td>-0.206010</td>\n",
              "      <td>0.502292</td>\n",
              "      <td>0.219422</td>\n",
              "      <td>0.215153</td>\n",
              "      <td>69.99</td>\n",
              "      <td>0</td>\n",
              "    </tr>\n",
              "    <tr>\n",
              "      <th>...</th>\n",
              "      <td>...</td>\n",
              "      <td>...</td>\n",
              "      <td>...</td>\n",
              "      <td>...</td>\n",
              "      <td>...</td>\n",
              "      <td>...</td>\n",
              "      <td>...</td>\n",
              "      <td>...</td>\n",
              "      <td>...</td>\n",
              "      <td>...</td>\n",
              "      <td>...</td>\n",
              "      <td>...</td>\n",
              "      <td>...</td>\n",
              "      <td>...</td>\n",
              "      <td>...</td>\n",
              "      <td>...</td>\n",
              "      <td>...</td>\n",
              "      <td>...</td>\n",
              "      <td>...</td>\n",
              "      <td>...</td>\n",
              "      <td>...</td>\n",
              "    </tr>\n",
              "    <tr>\n",
              "      <th>284802</th>\n",
              "      <td>172786.0</td>\n",
              "      <td>-11.881118</td>\n",
              "      <td>10.071785</td>\n",
              "      <td>-9.834783</td>\n",
              "      <td>-2.066656</td>\n",
              "      <td>-5.364473</td>\n",
              "      <td>-2.606837</td>\n",
              "      <td>-4.918215</td>\n",
              "      <td>7.305334</td>\n",
              "      <td>1.914428</td>\n",
              "      <td>...</td>\n",
              "      <td>0.213454</td>\n",
              "      <td>0.111864</td>\n",
              "      <td>1.014480</td>\n",
              "      <td>-0.509348</td>\n",
              "      <td>1.436807</td>\n",
              "      <td>0.250034</td>\n",
              "      <td>0.943651</td>\n",
              "      <td>0.823731</td>\n",
              "      <td>0.77</td>\n",
              "      <td>0</td>\n",
              "    </tr>\n",
              "    <tr>\n",
              "      <th>284803</th>\n",
              "      <td>172787.0</td>\n",
              "      <td>-0.732789</td>\n",
              "      <td>-0.055080</td>\n",
              "      <td>2.035030</td>\n",
              "      <td>-0.738589</td>\n",
              "      <td>0.868229</td>\n",
              "      <td>1.058415</td>\n",
              "      <td>0.024330</td>\n",
              "      <td>0.294869</td>\n",
              "      <td>0.584800</td>\n",
              "      <td>...</td>\n",
              "      <td>0.214205</td>\n",
              "      <td>0.924384</td>\n",
              "      <td>0.012463</td>\n",
              "      <td>-1.016226</td>\n",
              "      <td>-0.606624</td>\n",
              "      <td>-0.395255</td>\n",
              "      <td>0.068472</td>\n",
              "      <td>-0.053527</td>\n",
              "      <td>24.79</td>\n",
              "      <td>0</td>\n",
              "    </tr>\n",
              "    <tr>\n",
              "      <th>284804</th>\n",
              "      <td>172788.0</td>\n",
              "      <td>1.919565</td>\n",
              "      <td>-0.301254</td>\n",
              "      <td>-3.249640</td>\n",
              "      <td>-0.557828</td>\n",
              "      <td>2.630515</td>\n",
              "      <td>3.031260</td>\n",
              "      <td>-0.296827</td>\n",
              "      <td>0.708417</td>\n",
              "      <td>0.432454</td>\n",
              "      <td>...</td>\n",
              "      <td>0.232045</td>\n",
              "      <td>0.578229</td>\n",
              "      <td>-0.037501</td>\n",
              "      <td>0.640134</td>\n",
              "      <td>0.265745</td>\n",
              "      <td>-0.087371</td>\n",
              "      <td>0.004455</td>\n",
              "      <td>-0.026561</td>\n",
              "      <td>67.88</td>\n",
              "      <td>0</td>\n",
              "    </tr>\n",
              "    <tr>\n",
              "      <th>284805</th>\n",
              "      <td>172788.0</td>\n",
              "      <td>-0.240440</td>\n",
              "      <td>0.530483</td>\n",
              "      <td>0.702510</td>\n",
              "      <td>0.689799</td>\n",
              "      <td>-0.377961</td>\n",
              "      <td>0.623708</td>\n",
              "      <td>-0.686180</td>\n",
              "      <td>0.679145</td>\n",
              "      <td>0.392087</td>\n",
              "      <td>...</td>\n",
              "      <td>0.265245</td>\n",
              "      <td>0.800049</td>\n",
              "      <td>-0.163298</td>\n",
              "      <td>0.123205</td>\n",
              "      <td>-0.569159</td>\n",
              "      <td>0.546668</td>\n",
              "      <td>0.108821</td>\n",
              "      <td>0.104533</td>\n",
              "      <td>10.00</td>\n",
              "      <td>0</td>\n",
              "    </tr>\n",
              "    <tr>\n",
              "      <th>284806</th>\n",
              "      <td>172792.0</td>\n",
              "      <td>-0.533413</td>\n",
              "      <td>-0.189733</td>\n",
              "      <td>0.703337</td>\n",
              "      <td>-0.506271</td>\n",
              "      <td>-0.012546</td>\n",
              "      <td>-0.649617</td>\n",
              "      <td>1.577006</td>\n",
              "      <td>-0.414650</td>\n",
              "      <td>0.486180</td>\n",
              "      <td>...</td>\n",
              "      <td>0.261057</td>\n",
              "      <td>0.643078</td>\n",
              "      <td>0.376777</td>\n",
              "      <td>0.008797</td>\n",
              "      <td>-0.473649</td>\n",
              "      <td>-0.818267</td>\n",
              "      <td>-0.002415</td>\n",
              "      <td>0.013649</td>\n",
              "      <td>217.00</td>\n",
              "      <td>0</td>\n",
              "    </tr>\n",
              "  </tbody>\n",
              "</table>\n",
              "<p>284807 rows × 31 columns</p>\n",
              "</div>\n",
              "      <button class=\"colab-df-convert\" onclick=\"convertToInteractive('df-370f41d5-eb1b-438e-b548-b8cdbeb13e74')\"\n",
              "              title=\"Convert this dataframe to an interactive table.\"\n",
              "              style=\"display:none;\">\n",
              "        \n",
              "  <svg xmlns=\"http://www.w3.org/2000/svg\" height=\"24px\"viewBox=\"0 0 24 24\"\n",
              "       width=\"24px\">\n",
              "    <path d=\"M0 0h24v24H0V0z\" fill=\"none\"/>\n",
              "    <path d=\"M18.56 5.44l.94 2.06.94-2.06 2.06-.94-2.06-.94-.94-2.06-.94 2.06-2.06.94zm-11 1L8.5 8.5l.94-2.06 2.06-.94-2.06-.94L8.5 2.5l-.94 2.06-2.06.94zm10 10l.94 2.06.94-2.06 2.06-.94-2.06-.94-.94-2.06-.94 2.06-2.06.94z\"/><path d=\"M17.41 7.96l-1.37-1.37c-.4-.4-.92-.59-1.43-.59-.52 0-1.04.2-1.43.59L10.3 9.45l-7.72 7.72c-.78.78-.78 2.05 0 2.83L4 21.41c.39.39.9.59 1.41.59.51 0 1.02-.2 1.41-.59l7.78-7.78 2.81-2.81c.8-.78.8-2.07 0-2.86zM5.41 20L4 18.59l7.72-7.72 1.47 1.35L5.41 20z\"/>\n",
              "  </svg>\n",
              "      </button>\n",
              "      \n",
              "  <style>\n",
              "    .colab-df-container {\n",
              "      display:flex;\n",
              "      flex-wrap:wrap;\n",
              "      gap: 12px;\n",
              "    }\n",
              "\n",
              "    .colab-df-convert {\n",
              "      background-color: #E8F0FE;\n",
              "      border: none;\n",
              "      border-radius: 50%;\n",
              "      cursor: pointer;\n",
              "      display: none;\n",
              "      fill: #1967D2;\n",
              "      height: 32px;\n",
              "      padding: 0 0 0 0;\n",
              "      width: 32px;\n",
              "    }\n",
              "\n",
              "    .colab-df-convert:hover {\n",
              "      background-color: #E2EBFA;\n",
              "      box-shadow: 0px 1px 2px rgba(60, 64, 67, 0.3), 0px 1px 3px 1px rgba(60, 64, 67, 0.15);\n",
              "      fill: #174EA6;\n",
              "    }\n",
              "\n",
              "    [theme=dark] .colab-df-convert {\n",
              "      background-color: #3B4455;\n",
              "      fill: #D2E3FC;\n",
              "    }\n",
              "\n",
              "    [theme=dark] .colab-df-convert:hover {\n",
              "      background-color: #434B5C;\n",
              "      box-shadow: 0px 1px 3px 1px rgba(0, 0, 0, 0.15);\n",
              "      filter: drop-shadow(0px 1px 2px rgba(0, 0, 0, 0.3));\n",
              "      fill: #FFFFFF;\n",
              "    }\n",
              "  </style>\n",
              "\n",
              "      <script>\n",
              "        const buttonEl =\n",
              "          document.querySelector('#df-370f41d5-eb1b-438e-b548-b8cdbeb13e74 button.colab-df-convert');\n",
              "        buttonEl.style.display =\n",
              "          google.colab.kernel.accessAllowed ? 'block' : 'none';\n",
              "\n",
              "        async function convertToInteractive(key) {\n",
              "          const element = document.querySelector('#df-370f41d5-eb1b-438e-b548-b8cdbeb13e74');\n",
              "          const dataTable =\n",
              "            await google.colab.kernel.invokeFunction('convertToInteractive',\n",
              "                                                     [key], {});\n",
              "          if (!dataTable) return;\n",
              "\n",
              "          const docLinkHtml = 'Like what you see? Visit the ' +\n",
              "            '<a target=\"_blank\" href=https://colab.research.google.com/notebooks/data_table.ipynb>data table notebook</a>'\n",
              "            + ' to learn more about interactive tables.';\n",
              "          element.innerHTML = '';\n",
              "          dataTable['output_type'] = 'display_data';\n",
              "          await google.colab.output.renderOutput(dataTable, element);\n",
              "          const docLink = document.createElement('div');\n",
              "          docLink.innerHTML = docLinkHtml;\n",
              "          element.appendChild(docLink);\n",
              "        }\n",
              "      </script>\n",
              "    </div>\n",
              "  </div>\n",
              "  "
            ]
          },
          "metadata": {},
          "execution_count": 7
        }
      ]
    },
    {
      "cell_type": "code",
      "source": [
        "knm = KNeighborsClassifier(n_neighbors=7)\n",
        "knm.fit(X_train,Y_train)\n",
        "\n",
        "y_pred_knm = knm.predict(X_test);\n",
        "accuracy_knm = accuracy_score(Y_test,y_pred_knm)\n",
        "precision_knm = precision_score(Y_test,y_pred_knm,average='macro')\n",
        "recall_knm = recall_score(Y_test,y_pred_knm,average='macro');\n",
        "f1_knm = f1_score(Y_test,y_pred_knm,average='macro')\n",
        "\n",
        "print(accuracy_knm)"
      ],
      "metadata": {
        "colab": {
          "base_uri": "https://localhost:8080/"
        },
        "id": "ldDHzeb_ZNdp",
        "outputId": "a05f2b4c-ece0-4770-9dff-3d1e46630961"
      },
      "execution_count": null,
      "outputs": [
        {
          "output_type": "stream",
          "name": "stdout",
          "text": [
            "0.9985964912280701\n"
          ]
        }
      ]
    },
    {
      "cell_type": "code",
      "source": [
        "classfilder = LogisticRegression(random_state=0)\n",
        "classfilder.fit(X_train,Y_train)\n",
        "\n",
        "y_pred_reg = classfilder.predict(X_test)\n",
        "cm_reg = confusion_matrix(Y_test,y_pred_reg);\n",
        "\n",
        "accuracy_reg = accuracy_score(Y_test,y_pred_reg);\n",
        "precision_reg = precision_score(Y_test,y_pred_reg,average='macro')\n",
        "recall_reg = recall_score(Y_test,y_pred_reg,average='macro')\n",
        "f1_reg = f1_score(Y_test,y_pred_reg,average='macro')\n"
      ],
      "metadata": {
        "colab": {
          "base_uri": "https://localhost:8080/"
        },
        "id": "hb6x2XQ1ZTNn",
        "outputId": "1d733e0f-ecc5-4c4a-d0ae-814c760c603b"
      },
      "execution_count": null,
      "outputs": [
        {
          "output_type": "stream",
          "name": "stderr",
          "text": [
            "/usr/local/lib/python3.9/dist-packages/sklearn/linear_model/_logistic.py:458: ConvergenceWarning: lbfgs failed to converge (status=1):\n",
            "STOP: TOTAL NO. of ITERATIONS REACHED LIMIT.\n",
            "\n",
            "Increase the number of iterations (max_iter) or scale the data as shown in:\n",
            "    https://scikit-learn.org/stable/modules/preprocessing.html\n",
            "Please also refer to the documentation for alternative solver options:\n",
            "    https://scikit-learn.org/stable/modules/linear_model.html#logistic-regression\n",
            "  n_iter_i = _check_optimize_result(\n"
          ]
        }
      ]
    },
    {
      "cell_type": "code",
      "source": [
        "clf = svm.SVC(kernel = 'linear')\n",
        "clf.fit(X_train,Y_train)\n",
        "y_pred = clf.predict(X_test)\n",
        "\n",
        "cm_svm = confusion_matrix(Y_test,y_pred);\n",
        "accuracy_svm = accuracy_score(Y_test,y_pred);\n",
        "precision_svm = precision_score(Y_test,y_pred,average='macro')\n",
        "recall_svm = recall_score(Y_test,y_pred,average='macro');\n",
        "f1_svm = f1_score(Y_test,y_pred,average='macro')\n",
        "print(accuracy_svm)"
      ],
      "metadata": {
        "colab": {
          "base_uri": "https://localhost:8080/"
        },
        "id": "fXcXZ8n2ZcFn",
        "outputId": "3fb15fb2-0a38-452d-cd12-880753e25a19"
      },
      "execution_count": null,
      "outputs": [
        {
          "output_type": "stream",
          "name": "stdout",
          "text": [
            "0.9992982456140351\n"
          ]
        }
      ]
    },
    {
      "cell_type": "code",
      "source": [
        "poly = svm.SVC(kernel ='poly',degree = 4,gamma='scale',coef0=0.0)\n",
        "poly.fit(X_train,Y_train)\n",
        "\n",
        "y_pred_poly = poly.predict(X_test)\n",
        "\n",
        "cm_poly = confusion_matrix(Y_test,y_pred_poly);\n",
        "accuracy_poly = accuracy_score(Y_test,y_pred_poly);\n",
        "precision_poly = precision_score(Y_test,y_pred_poly,average='macro')\n",
        "recall_poly = recall_score(Y_test,y_pred_poly,average='macro');\n",
        "f1_poly = f1_score(Y_test,y_pred_poly,average='macro')"
      ],
      "metadata": {
        "colab": {
          "base_uri": "https://localhost:8080/"
        },
        "id": "cpe9cNdnZplK",
        "outputId": "25d8a6b3-5d2a-41f5-d195-914710827db7"
      },
      "execution_count": null,
      "outputs": [
        {
          "output_type": "stream",
          "name": "stderr",
          "text": [
            "/usr/local/lib/python3.9/dist-packages/sklearn/metrics/_classification.py:1344: UndefinedMetricWarning: Precision is ill-defined and being set to 0.0 in labels with no predicted samples. Use `zero_division` parameter to control this behavior.\n",
            "  _warn_prf(average, modifier, msg_start, len(result))\n"
          ]
        }
      ]
    },
    {
      "cell_type": "code",
      "source": [
        "sigmoid = svm.SVC(kernel ='sigmoid',degree = 3);\n",
        "sigmoid.fit(X_train,Y_train)\n",
        "\n",
        "y_pred_sigmoid = sigmoid.predict(X_test)\n",
        "\n",
        "cm_sigmoid = confusion_matrix(Y_test,y_pred_sigmoid);\n",
        "accuracy_sigmoid = accuracy_score(Y_test,y_pred_sigmoid);\n",
        "precision_sigmoid = precision_score(Y_test,y_pred_sigmoid,average='macro')\n",
        "recall_sigmoid = recall_score(Y_test,y_pred_sigmoid,average='macro');\n",
        "f1_sigmoid = f1_score(Y_test,y_pred_sigmoid,average='macro')\n",
        "\n",
        "print(y_pred_sigmoid)\n",
        "print(accuracy_sigmoid)"
      ],
      "metadata": {
        "colab": {
          "base_uri": "https://localhost:8080/"
        },
        "id": "ZgQWclFbZtUS",
        "outputId": "4de3afab-a73d-494b-e7c3-9de4d4baf46d"
      },
      "execution_count": null,
      "outputs": [
        {
          "output_type": "stream",
          "name": "stdout",
          "text": [
            "[0 0 0 ... 0 0 0]\n",
            "0.9978947368421053\n"
          ]
        },
        {
          "output_type": "stream",
          "name": "stderr",
          "text": [
            "/usr/local/lib/python3.9/dist-packages/sklearn/metrics/_classification.py:1344: UndefinedMetricWarning: Precision is ill-defined and being set to 0.0 in labels with no predicted samples. Use `zero_division` parameter to control this behavior.\n",
            "  _warn_prf(average, modifier, msg_start, len(result))\n"
          ]
        }
      ]
    },
    {
      "cell_type": "code",
      "source": [
        "t = PrettyTable([\"Algorithms\",\"Accuracy\",\"Precision\",\"Recall\",\"F1\"])\n",
        "t.add_row(['Linear kernel.',accuracy_svm,precision_svm,recall_svm,f1_svm])\n",
        "t.add_row(['Polynomial Kernel',accuracy_poly,precision_poly,recall_poly,f1_poly])\n",
        "t.add_row(['Sigmoid Kernel',accuracy_sigmoid,precision_sigmoid,recall_sigmoid,f1_sigmoid])\n",
        "t.add_row(['KNN',accuracy_knm,precision_knm,recall_knm,f1_knm])\n",
        "t.add_row(['LogisticRegression',accuracy_reg,precision_reg,recall_reg,f1_reg])\n",
        "print(t)"
      ],
      "metadata": {
        "id": "lyhk-jssbUVy",
        "outputId": "f1d361fc-ccda-4035-fe91-f7fb4b20f2b1",
        "colab": {
          "base_uri": "https://localhost:8080/"
        }
      },
      "execution_count": null,
      "outputs": [
        {
          "output_type": "stream",
          "name": "stdout",
          "text": [
            "+--------------------+--------------------+---------------------+--------------------+--------------------+\n",
            "|     Algorithms     |      Accuracy      |      Precision      |       Recall       |         F1         |\n",
            "+--------------------+--------------------+---------------------+--------------------+--------------------+\n",
            "|   Linear kernel.   | 0.9992982456140351 |  0.999648629655657  | 0.8333333333333333 | 0.8998242530755711 |\n",
            "| Polynomial Kernel  | 0.9978947368421053 | 0.49894736842105264 |        0.5         | 0.4994731296101159 |\n",
            "|   Sigmoid Kernel   | 0.9978947368421053 | 0.49894736842105264 |        0.5         | 0.4994731296101159 |\n",
            "|        KNN         | 0.9985964912280701 |  0.9992977528089888 | 0.6666666666666666 | 0.749648629655657  |\n",
            "| LogisticRegression | 0.9992982456140351 |  0.999648629655657  | 0.8333333333333333 | 0.8998242530755711 |\n",
            "+--------------------+--------------------+---------------------+--------------------+--------------------+\n"
          ]
        }
      ]
    },
    {
      "cell_type": "markdown",
      "source": [
        "#Finally,\n",
        "Save a copy in your Github. Remember renaming the notebook."
      ],
      "metadata": {
        "id": "Ok7RGkea_b7n"
      }
    }
  ]
}
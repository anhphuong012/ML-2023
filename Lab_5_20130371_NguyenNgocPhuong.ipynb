{
  "nbformat": 4,
  "nbformat_minor": 0,
  "metadata": {
    "colab": {
      "provenance": [],
      "include_colab_link": true
    },
    "kernelspec": {
      "name": "python3",
      "display_name": "Python 3"
    },
    "language_info": {
      "name": "python"
    }
  },
  "cells": [
    {
      "cell_type": "markdown",
      "metadata": {
        "id": "view-in-github",
        "colab_type": "text"
      },
      "source": [
        "<a href=\"https://colab.research.google.com/github/anhphuong012/ML-2023/blob/main/Lab_5_20130371_NguyenNgocPhuong.ipynb\" target=\"_parent\"><img src=\"https://colab.research.google.com/assets/colab-badge.svg\" alt=\"Open In Colab\"/></a>"
      ]
    },
    {
      "cell_type": "markdown",
      "source": [
        "# This lab is to deal with **SVM** to classification tasks and compare its performance with other competitive algorithms. In general, **SVM** is one of the most popular and widely used supervised machine learning algorithms.\n",
        "\n",
        "*   **Deadline: 23:59, 17/03/2023**\n",
        "\n"
      ],
      "metadata": {
        "id": "LMzehe0sy5wr"
      }
    },
    {
      "cell_type": "markdown",
      "source": [
        "# Import libraries"
      ],
      "metadata": {
        "id": "H4nJmxp9zGX4"
      }
    },
    {
      "cell_type": "code",
      "execution_count": 1,
      "metadata": {
        "id": "DoVWQ8AEyc-C"
      },
      "outputs": [],
      "source": [
        "# code\n",
        "from sklearn.linear_model import LogisticRegression\n",
        "from sklearn.metrics import confusion_matrix,classification_report\n",
        "from sklearn.metrics import accuracy_score\n",
        "from sklearn.metrics import precision_score\n",
        "from sklearn.metrics import recall_score\n",
        "from sklearn.metrics import f1_score\n",
        "from sklearn import datasets\n",
        "from sklearn.model_selection import train_test_split\n",
        "from sklearn.metrics import ConfusionMatrixDisplay\n",
        "from sklearn.tree import DecisionTreeClassifier\n",
        "from sklearn.neighbors import KNeighborsClassifier\n",
        "from sklearn import svm\n",
        "import matplotlib.pyplot as plt\n",
        "from prettytable import PrettyTable\n"
      ]
    },
    {
      "cell_type": "code",
      "source": [
        "from google.colab import drive\n",
        "drive.mount('/content/gdrive')\n",
        "%cd '/content/gdrive/MyDrive/lab'"
      ],
      "metadata": {
        "colab": {
          "base_uri": "https://localhost:8080/"
        },
        "id": "TDu3Nbd5FrfS",
        "outputId": "214a3e84-489b-42d1-ffd2-c8655e17c37f"
      },
      "execution_count": 2,
      "outputs": [
        {
          "output_type": "stream",
          "name": "stdout",
          "text": [
            "Mounted at /content/gdrive\n",
            "/content/gdrive/MyDrive/lab\n"
          ]
        }
      ]
    },
    {
      "cell_type": "markdown",
      "source": [
        "#Task 1. \n",
        "For breast cancer dataset (https://tinyurl.com/3vme8hr3) which could be loaded from datasets in sklearn as follows:\n",
        "\n",
        "```\n",
        "#Import scikit-learn dataset library\n",
        "from sklearn import datasets\n",
        "\n",
        "#Load dataset\n",
        "cancer = datasets.load_breast_cancer()\n",
        "```\n",
        "\n",
        "*   1.1.\tApply SVM algorithm to above dataset using linear kernel.\n",
        "*   1.2.\tCompare the obtained results with other competitive algorithms (Logistic Regression, Decision Tree, kNN) based on metrics: accuracy, precision, recall, f1 measures.\n",
        "\n"
      ],
      "metadata": {
        "id": "kNv07ARGzOUm"
      }
    },
    {
      "cell_type": "code",
      "source": [
        "# code\n",
        "\n",
        "# Load dataset\n",
        "cancer = datasets.load_breast_cancer()\n",
        "\n",
        "X = cancer['data']\n",
        "Y = cancer['target']\n",
        "\n",
        "X_train,X_test,Y_train,Y_test = train_test_split(X, Y, test_size = 0.2, random_state = 1)"
      ],
      "metadata": {
        "id": "sOsg77IBzEyo"
      },
      "execution_count": null,
      "outputs": []
    },
    {
      "cell_type": "code",
      "source": [
        "clf = svm.SVC(kernel = 'linear')\n",
        "clf.fit(X_train,Y_train)\n",
        "y_pred = clf.predict(X_test)\n",
        "\n",
        "cm_svm = confusion_matrix(Y_test,y_pred);\n",
        "accuracy_svm = accuracy_score(Y_test,y_pred)\n",
        "precision_svm = precision_score(Y_test,y_pred,average='macro')\n",
        "recall_svm = recall_score(Y_test,y_pred,average='macro')\n",
        "f1_svm = f1_score(Y_test,y_pred,average='macro')\n",
        "\n",
        "\n"
      ],
      "metadata": {
        "id": "8bDiuRcxK20S"
      },
      "execution_count": null,
      "outputs": []
    },
    {
      "cell_type": "code",
      "source": [
        "classfilder = LogisticRegression(random_state=0)\n",
        "classfilder.fit(X_train,Y_train)\n",
        "\n",
        "y_pred_reg = classfilder.predict(X_test)\n",
        "cm_reg = confusion_matrix(Y_test,y_pred_reg);\n",
        "\n",
        "accuracy_reg = accuracy_score(Y_test,y_pred_reg);\n",
        "precision_reg = precision_score(Y_test,y_pred_reg,average='macro')\n",
        "recall_reg = recall_score(Y_test,y_pred_reg,average='macro')\n",
        "f1_reg = f1_score(Y_test,y_pred_reg,average='macro')\n"
      ],
      "metadata": {
        "id": "26CXcIhgMi4q"
      },
      "execution_count": null,
      "outputs": []
    },
    {
      "cell_type": "code",
      "source": [
        "t = PrettyTable([\"Name\",\"Accuracy\",\"Precision\",\"Recall\",\"F1\"])\n",
        "t.add_row(['SVM Linear Kernel',accuracy_svm,precision_svm,recall_svm,f1_svm])\n",
        "t.add_row(['Logistic Regression',accuracy_reg,precision_reg,recall_reg,f1_reg])\n",
        "print(t)"
      ],
      "metadata": {
        "colab": {
          "base_uri": "https://localhost:8080/"
        },
        "id": "lPGFb4c_Nimy",
        "outputId": "5b6175ea-3df1-497b-f65b-9044bb76516d"
      },
      "execution_count": null,
      "outputs": [
        {
          "output_type": "stream",
          "name": "stdout",
          "text": [
            "+---------------------+--------------------+--------------------+--------------------+-------------------+\n",
            "|         Name        |      Accuracy      |     Precision      |       Recall       |         F1        |\n",
            "+---------------------+--------------------+--------------------+--------------------+-------------------+\n",
            "|  SVM Linear Kernel  | 0.956140350877193  | 0.9675324675324675 | 0.9404761904761905 | 0.951575906889814 |\n",
            "| Logistic Regression | 0.9473684210526315 | 0.9479729729729729 | 0.9384920634920635 | 0.942866688940862 |\n",
            "+---------------------+--------------------+--------------------+--------------------+-------------------+\n"
          ]
        }
      ]
    },
    {
      "cell_type": "markdown",
      "source": [
        "#Task 2. \n",
        "\n",
        "*   1.1.\tPerform SVM algorithm to **Iris dataset** using **linear kernel**.\n",
        "*   1.2.\tCompare the obtained results in 1.1 with SVM using other kernels (**Polynomial Kernel, Gaussian Kernel, Sigmoid Kernel, Radial Basis Function Kernel**). Some metrics could be used: accuracy, precision, recall, f1 measures\n",
        "\n",
        "\n",
        "\n"
      ],
      "metadata": {
        "id": "S43IoUT-0OQq"
      }
    },
    {
      "cell_type": "code",
      "source": [
        "# code\n",
        "data = datasets.load_iris()\n",
        "X = data['data']\n",
        "Y = data['target']\n",
        "\n",
        "X_train,X_test,Y_train,Y_test = train_test_split(X, Y, test_size = 0.2, random_state = 1)"
      ],
      "metadata": {
        "id": "_xhPpF5b033h"
      },
      "execution_count": null,
      "outputs": []
    },
    {
      "cell_type": "code",
      "source": [
        "clf = svm.SVC(kernel = 'linear')\n",
        "clf.fit(X_train,Y_train)\n",
        "y_pred = clf.predict(X_test)\n",
        "\n",
        "cm_svm = confusion_matrix(Y_test,y_pred);\n",
        "accuracy_svm = accuracy_score(Y_test,y_pred);\n",
        "precision_svm = precision_score(Y_test,y_pred,average='macro')\n",
        "recall_svm = recall_score(Y_test,y_pred,average='macro');\n",
        "f1_svm = f1_score(Y_test,y_pred,average='macro')\n",
        "\n",
        "print(y_pred)\n",
        "print(accuracy_svm)\n",
        "\n"
      ],
      "metadata": {
        "colab": {
          "base_uri": "https://localhost:8080/"
        },
        "id": "94nMyUMfQfoq",
        "outputId": "da237606-6e00-419d-8679-e569ce057141"
      },
      "execution_count": null,
      "outputs": [
        {
          "output_type": "stream",
          "name": "stdout",
          "text": [
            "[0 1 1 0 2 1 2 0 0 2 1 0 2 1 1 0 1 1 0 0 1 1 1 0 2 1 0 0 1 2]\n",
            "1.0\n"
          ]
        }
      ]
    },
    {
      "cell_type": "code",
      "source": [
        "poly = svm.SVC(kernel ='poly',degree = 4,gamma='scale',coef0=0.0)\n",
        "poly.fit(X_train,Y_train)\n",
        "\n",
        "y_pred_poly = poly.predict(X_test)\n",
        "\n",
        "cm_poly = confusion_matrix(Y_test,y_pred_poly);\n",
        "accuracy_poly = accuracy_score(Y_test,y_pred_poly);\n",
        "precision_poly = precision_score(Y_test,y_pred_poly,average='macro')\n",
        "recall_poly = recall_score(Y_test,y_pred_poly,average='macro');\n",
        "f1_poly = f1_score(Y_test,y_pred_poly,average='macro')\n",
        "\n",
        "print(y_pred_poly)\n",
        "print(accuracy_poly)\n"
      ],
      "metadata": {
        "colab": {
          "base_uri": "https://localhost:8080/"
        },
        "id": "Vio50PtXPXmx",
        "outputId": "14285092-e6a3-4909-a5bc-108aa3eb3bee"
      },
      "execution_count": null,
      "outputs": [
        {
          "output_type": "stream",
          "name": "stdout",
          "text": [
            "[0 1 1 0 2 1 2 0 0 2 1 0 2 1 1 0 1 1 0 0 1 1 1 0 2 1 0 0 1 2]\n",
            "1.0\n"
          ]
        }
      ]
    },
    {
      "cell_type": "code",
      "source": [
        "sigmoid = svm.SVC(kernel ='sigmoid',degree = 3);\n",
        "sigmoid.fit(X_train,Y_train)\n",
        "\n",
        "y_pred_sigmoid = sigmoid.predict(X_test)\n",
        "\n",
        "cm_sigmoid = confusion_matrix(Y_test,y_pred_sigmoid);\n",
        "accuracy_sigmoid = accuracy_score(Y_test,y_pred_sigmoid);\n",
        "precision_sigmoid = precision_score(Y_test,y_pred_sigmoid,average='macro')\n",
        "recall_sigmoid = recall_score(Y_test,y_pred_sigmoid,average='macro');\n",
        "f1_sigmoid = f1_score(Y_test,y_pred_sigmoid,average='macro')\n",
        "\n",
        "print(y_pred_sigmoid)\n",
        "print(accuracy_sigmoid)\n",
        "\n"
      ],
      "metadata": {
        "colab": {
          "base_uri": "https://localhost:8080/"
        },
        "id": "60cqxlXzRSKC",
        "outputId": "4f682802-72c7-4514-bd8d-d45f5faa5dd7"
      },
      "execution_count": null,
      "outputs": [
        {
          "output_type": "stream",
          "name": "stdout",
          "text": [
            "[2 2 2 2 2 2 2 2 2 2 2 2 2 2 2 2 2 2 2 2 2 2 2 2 2 2 2 2 2 2]\n",
            "0.2\n"
          ]
        },
        {
          "output_type": "stream",
          "name": "stderr",
          "text": [
            "/usr/local/lib/python3.9/dist-packages/sklearn/metrics/_classification.py:1344: UndefinedMetricWarning: Precision is ill-defined and being set to 0.0 in labels with no predicted samples. Use `zero_division` parameter to control this behavior.\n",
            "  _warn_prf(average, modifier, msg_start, len(result))\n"
          ]
        }
      ]
    },
    {
      "cell_type": "code",
      "source": [
        "rbf = svm.SVC(kernel ='rbf',degree = 5,gamma='auto');\n",
        "rbf.fit(X_train,Y_train)\n",
        "\n",
        "y_pred_rbf = rbf.predict(X_test)\n",
        "\n",
        "cm_rbf = confusion_matrix(Y_test,y_pred_rbf);\n",
        "accuracy_rbf = accuracy_score(Y_test,y_pred_rbf);\n",
        "precision_rbf = precision_score(Y_test,y_pred_rbf,average='macro')\n",
        "recall_rbf = recall_score(Y_test,y_pred_rbf,average='macro');\n",
        "f1_rbf = f1_score(Y_test,y_pred_rbf,average='macro')\n",
        "\n",
        "print(y_pred_rbf)\n",
        "print(accuracy_rbf)"
      ],
      "metadata": {
        "colab": {
          "base_uri": "https://localhost:8080/"
        },
        "id": "50lGWD5OXBdw",
        "outputId": "16fc825b-9f35-4ca7-c32e-2dfe990e25df"
      },
      "execution_count": null,
      "outputs": [
        {
          "output_type": "stream",
          "name": "stdout",
          "text": [
            "[0 1 1 0 2 1 2 0 0 2 1 0 2 1 1 0 1 1 0 0 1 1 2 0 2 1 0 0 1 2]\n",
            "0.9666666666666667\n"
          ]
        }
      ]
    },
    {
      "cell_type": "code",
      "source": [
        "t = PrettyTable([\"Algorithms\",\"Accuracy\",\"Precision\",\"Recall\",\"F1\"])\n",
        "t.add_row(['Linear kernel.',accuracy_svm,precision_svm,recall_svm,f1_svm])\n",
        "t.add_row(['Polynomial Kernel',accuracy_poly,precision_poly,recall_poly,f1_poly])\n",
        "t.add_row(['Sigmoid Kernel',accuracy_sigmoid,precision_sigmoid,recall_sigmoid,f1_sigmoid])\n",
        "t.add_row(['Radial Basis Function Kernel',accuracy_rbf,precision_rbf,recall_rbf,f1_rbf])\n",
        "print(t)"
      ],
      "metadata": {
        "colab": {
          "base_uri": "https://localhost:8080/"
        },
        "id": "VQvaqYvcX6b0",
        "outputId": "a0333ddf-15b0-4c7e-f9df-9f54a3930fe7"
      },
      "execution_count": null,
      "outputs": [
        {
          "output_type": "stream",
          "name": "stdout",
          "text": [
            "+------------------------------+--------------------+---------------------+--------------------+---------------------+\n",
            "|          Algorithms          |      Accuracy      |      Precision      |       Recall       |          F1         |\n",
            "+------------------------------+--------------------+---------------------+--------------------+---------------------+\n",
            "|        Linear kernel.        |        1.0         |         1.0         |        1.0         |         1.0         |\n",
            "|      Polynomial Kernel       |        1.0         |         1.0         |        1.0         |         1.0         |\n",
            "|        Sigmoid Kernel        |        0.2         | 0.06666666666666667 | 0.3333333333333333 | 0.11111111111111112 |\n",
            "| Radial Basis Function Kernel | 0.9666666666666667 |  0.9523809523809524 | 0.9743589743589745 |  0.9610256410256409 |\n",
            "+------------------------------+--------------------+---------------------+--------------------+---------------------+\n"
          ]
        }
      ]
    },
    {
      "cell_type": "markdown",
      "source": [
        "#Task 3. \n",
        "Compare the performance of selected classification algorithms (Decision Tree, kNN, Logistic Regression) and SVM (using different kernels) with mnist dataset based on accuracy, precision, recall, f1 measures.\n"
      ],
      "metadata": {
        "id": "b52OPWPD2afi"
      }
    },
    {
      "cell_type": "code",
      "source": [
        "mnist = datasets.load_digits()\n",
        "X = mnist['data']\n",
        "Y = mnist['target']\n",
        "X_train,X_test,Y_train,Y_test = train_test_split(X, Y, test_size = 0.2, random_state = 1)\n"
      ],
      "metadata": {
        "id": "rOCGQawTZ-5q"
      },
      "execution_count": 11,
      "outputs": []
    },
    {
      "cell_type": "code",
      "source": [
        "knm = KNeighborsClassifier(n_neighbors=7)\n",
        "knm.fit(X_train,Y_train)\n",
        "\n",
        "y_pred_knm = knm.predict(X_test);\n",
        "accuracy_knm = accuracy_score(Y_test,y_pred_knm)\n",
        "precision_knm = precision_score(Y_test,y_pred_knm,average='macro')\n",
        "recall_knm = recall_score(Y_test,y_pred_knm,average='macro');\n",
        "f1_knm = f1_score(Y_test,y_pred_knm,average='macro')\n",
        "\n",
        "print(accuracy_knm)\n"
      ],
      "metadata": {
        "colab": {
          "base_uri": "https://localhost:8080/"
        },
        "id": "I_aWFsd-a--x",
        "outputId": "ee74ceb8-b518-4e31-b940-27d150ab3700"
      },
      "execution_count": 4,
      "outputs": [
        {
          "output_type": "stream",
          "name": "stdout",
          "text": [
            "0.9972222222222222\n"
          ]
        }
      ]
    },
    {
      "cell_type": "code",
      "source": [
        "classfilder = LogisticRegression(random_state=0)\n",
        "classfilder.fit(X_train,Y_train)\n",
        "\n",
        "y_pred_reg = classfilder.predict(X_test)\n",
        "cm_reg = confusion_matrix(Y_test,y_pred_reg);\n",
        "\n",
        "accuracy_reg = accuracy_score(Y_test,y_pred_reg);\n",
        "precision_reg = precision_score(Y_test,y_pred_reg,average='macro')\n",
        "recall_reg = recall_score(Y_test,y_pred_reg,average='macro')\n",
        "f1_reg = f1_score(Y_test,y_pred_reg,average='macro')\n",
        "\n"
      ],
      "metadata": {
        "id": "i6svKx4IcgWi"
      },
      "execution_count": null,
      "outputs": []
    },
    {
      "cell_type": "code",
      "source": [
        "clf = svm.SVC(kernel = 'linear')\n",
        "clf.fit(X_train,Y_train)\n",
        "y_pred = clf.predict(X_test)\n",
        "\n",
        "cm_svm = confusion_matrix(Y_test,y_pred);\n",
        "accuracy_svm = accuracy_score(Y_test,y_pred);\n",
        "precision_svm = precision_score(Y_test,y_pred,average='macro')\n",
        "recall_svm = recall_score(Y_test,y_pred,average='macro');\n",
        "f1_svm = f1_score(Y_test,y_pred,average='macro')\n",
        "print(accuracy_svm)"
      ],
      "metadata": {
        "colab": {
          "base_uri": "https://localhost:8080/"
        },
        "id": "MR72cD0B2Bwc",
        "outputId": "ae1e63b8-e0b9-4b7f-a05a-9df18e91027b"
      },
      "execution_count": 8,
      "outputs": [
        {
          "output_type": "stream",
          "name": "stdout",
          "text": [
            "0.9916666666666667\n"
          ]
        }
      ]
    },
    {
      "cell_type": "code",
      "source": [
        "poly = svm.SVC(kernel ='poly',degree = 4,gamma='scale',coef0=0.0)\n",
        "poly.fit(X_train,Y_train)\n",
        "\n",
        "y_pred_poly = poly.predict(X_test)\n",
        "\n",
        "cm_poly = confusion_matrix(Y_test,y_pred_poly);\n",
        "accuracy_poly = accuracy_score(Y_test,y_pred_poly);\n",
        "precision_poly = precision_score(Y_test,y_pred_poly,average='macro')\n",
        "recall_poly = recall_score(Y_test,y_pred_poly,average='macro');\n",
        "f1_poly = f1_score(Y_test,y_pred_poly,average='macro')\n"
      ],
      "metadata": {
        "id": "XhyJVUUh2KnC"
      },
      "execution_count": 9,
      "outputs": []
    },
    {
      "cell_type": "code",
      "source": [
        "sigmoid = svm.SVC(kernel ='sigmoid',degree = 3);\n",
        "sigmoid.fit(X_train,Y_train)\n",
        "\n",
        "y_pred_sigmoid = sigmoid.predict(X_test)\n",
        "\n",
        "cm_sigmoid = confusion_matrix(Y_test,y_pred_sigmoid);\n",
        "accuracy_sigmoid = accuracy_score(Y_test,y_pred_sigmoid);\n",
        "precision_sigmoid = precision_score(Y_test,y_pred_sigmoid,average='macro')\n",
        "recall_sigmoid = recall_score(Y_test,y_pred_sigmoid,average='macro');\n",
        "f1_sigmoid = f1_score(Y_test,y_pred_sigmoid,average='macro')\n",
        "\n",
        "print(y_pred_sigmoid)\n",
        "print(accuracy_sigmoid)"
      ],
      "metadata": {
        "colab": {
          "base_uri": "https://localhost:8080/"
        },
        "id": "_4uL74Tc2Rlc",
        "outputId": "272e6049-a958-44ac-c974-930bfd1ed1e2"
      },
      "execution_count": 12,
      "outputs": [
        {
          "output_type": "stream",
          "name": "stdout",
          "text": [
            "[8 5 0 7 1 0 6 1 5 4 9 2 7 8 4 6 9 3 7 4 7 4 8 6 0 7 6 1 3 7 5 9 8 3 2 9 8\n",
            " 1 7 0 7 9 0 0 8 7 2 7 1 3 4 3 4 0 4 7 0 5 5 5 2 1 7 0 5 1 8 3 3 4 0 3 7 4\n",
            " 8 0 2 1 7 3 1 5 3 4 1 5 5 2 5 2 2 2 2 7 0 8 1 5 4 2 3 9 2 3 3 0 2 9 9 2 3\n",
            " 2 8 1 7 9 1 2 0 1 8 5 4 4 7 6 7 6 6 1 7 5 6 3 8 3 7 1 8 5 3 4 7 8 5 0 6 0\n",
            " 6 3 7 6 5 6 2 2 2 3 0 7 6 5 6 4 1 0 6 0 6 4 0 9 8 5 1 2 3 1 9 0 7 6 2 9 3\n",
            " 5 3 4 6 3 3 7 4 7 2 7 6 1 6 8 4 0 3 1 0 9 9 9 4 1 8 6 8 0 9 5 9 9 2 3 5 3\n",
            " 0 8 7 4 0 3 3 3 6 3 3 2 9 1 6 9 0 4 2 2 7 9 1 6 7 6 1 9 1 0 3 4 0 6 4 8 5\n",
            " 3 6 3 1 4 0 4 4 9 7 9 1 5 2 7 0 9 0 4 4 0 1 4 6 4 8 9 5 0 2 6 0 1 8 2 0 9\n",
            " 5 6 2 0 5 0 9 1 4 7 1 7 0 6 6 8 0 2 2 6 9 9 7 5 9 7 6 4 6 1 9 4 7 1 3 7 8\n",
            " 7 6 9 8 1 2 6 8 7 5 5 6 9 9 9 1 0 0 4 9 3 0 4 9 4 2 5]\n",
            "0.9111111111111111\n"
          ]
        }
      ]
    },
    {
      "cell_type": "code",
      "source": [
        "t = PrettyTable([\"Algorithms\",\"Accuracy\",\"Precision\",\"Recall\",\"F1\"])\n",
        "t.add_row(['Linear kernel.',accuracy_svm,precision_svm,recall_svm,f1_svm])\n",
        "t.add_row(['Polynomial Kernel',accuracy_poly,precision_poly,recall_poly,f1_poly])\n",
        "t.add_row(['Sigmoid Kernel',accuracy_sigmoid,precision_sigmoid,recall_sigmoid,f1_sigmoid])\n",
        "t.add_row(['KNN',accuracy_knm,precision_knm,recall_knm,f1_knm])\n",
        "t.add_row(['LogisticRegression',accuracy_reg,precision_reg,recall_reg,f1_reg])\n",
        "print(t)"
      ],
      "metadata": {
        "colab": {
          "base_uri": "https://localhost:8080/"
        },
        "id": "FlVW3EIi2aFp",
        "outputId": "e2d8bf7b-4714-438d-83b2-f66fcc2f9eb9"
      },
      "execution_count": 13,
      "outputs": [
        {
          "output_type": "stream",
          "name": "stdout",
          "text": [
            "+--------------------+--------------------+--------------------+--------------------+--------------------+\n",
            "|     Algorithms     |      Accuracy      |     Precision      |       Recall       |         F1         |\n",
            "+--------------------+--------------------+--------------------+--------------------+--------------------+\n",
            "|   Linear kernel.   | 0.9916666666666667 | 0.9908088235294118 | 0.9909078449646401 | 0.9907087680991878 |\n",
            "| Polynomial Kernel  | 0.9861111111111112 | 0.9857931025672961 | 0.9858044857915134 | 0.9856721183919716 |\n",
            "|   Sigmoid Kernel   | 0.9111111111111111 | 0.9097758458425927 | 0.9077266355048661 | 0.9077113548578971 |\n",
            "|        KNN         | 0.9972222222222222 | 0.9973684210526315 | 0.9972222222222221 | 0.9972582159624412 |\n",
            "| LogisticRegression | 0.9694444444444444 | 0.9689970075227248 | 0.9685113215471297 | 0.9682540010104479 |\n",
            "+--------------------+--------------------+--------------------+--------------------+--------------------+\n"
          ]
        }
      ]
    },
    {
      "cell_type": "markdown",
      "source": [
        "#Task 4. \n",
        "Compare the performance of selected classification algorithms (Decision Tree, kNN, Logistic Regression) and SVM (using different kernels) with **credit card dataset** based on accuracy, precision, recall, f1 measures.\n",
        "\n",
        "*   Give some comments on the obtained results\n",
        "*   Identify issues with dataset, and propose the solutions to these issues\n",
        "\n"
      ],
      "metadata": {
        "id": "Z5pp7_h-aP2u"
      }
    },
    {
      "cell_type": "code",
      "source": [
        "# code"
      ],
      "metadata": {
        "id": "Rw_-8FIf2KxW"
      },
      "execution_count": null,
      "outputs": []
    },
    {
      "cell_type": "markdown",
      "source": [
        "#Finally,\n",
        "Save a copy in your Github. Remember renaming the notebook."
      ],
      "metadata": {
        "id": "Ok7RGkea_b7n"
      }
    }
  ]
}
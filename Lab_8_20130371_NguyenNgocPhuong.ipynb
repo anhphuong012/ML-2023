{
  "cells": [
    {
      "cell_type": "markdown",
      "metadata": {
        "id": "view-in-github",
        "colab_type": "text"
      },
      "source": [
        "<a href=\"https://colab.research.google.com/github/anhphuong012/ML-2023/blob/main/Lab_8_20130371_NguyenNgocPhuong.ipynb\" target=\"_parent\"><img src=\"https://colab.research.google.com/assets/colab-badge.svg\" alt=\"Open In Colab\"/></a>"
      ]
    },
    {
      "cell_type": "markdown",
      "metadata": {
        "id": "LMzehe0sy5wr"
      },
      "source": [
        "# This lab deals with **GridSearchCV** for tuning the hyper-parameters of an estimator and applying vectorization techniques to the **movie reviews dataset** for classification task. \n",
        "\n",
        "*   **Deadline: 23:59, 17/4/2023**\n",
        "\n"
      ]
    },
    {
      "cell_type": "markdown",
      "metadata": {
        "id": "H4nJmxp9zGX4"
      },
      "source": [
        "# Import libraries"
      ]
    },
    {
      "cell_type": "code",
      "execution_count": 2,
      "metadata": {
        "id": "DoVWQ8AEyc-C"
      },
      "outputs": [],
      "source": [
        "# code\n",
        "from sklearn.linear_model import LogisticRegression\n",
        "from sklearn.metrics import confusion_matrix,classification_report\n",
        "from sklearn.metrics import accuracy_score\n",
        "from sklearn.metrics import precision_score\n",
        "from sklearn.metrics import recall_score\n",
        "from sklearn.metrics import f1_score\n",
        "from sklearn import datasets\n",
        "from sklearn.model_selection import train_test_split\n",
        "from sklearn.metrics import ConfusionMatrixDisplay\n",
        "from sklearn.tree import DecisionTreeClassifier\n",
        "from sklearn.neighbors import KNeighborsClassifier\n",
        "from sklearn import svm\n",
        "from sklearn.svm import SVC\n",
        "import matplotlib.pyplot as plt\n",
        "from prettytable import PrettyTable\n",
        "from sklearn.ensemble import RandomForestClassifier\n",
        "from sklearn.naive_bayes import GaussianNB\n",
        "from sklearn.feature_selection import SelectKBest\n",
        "from sklearn.feature_selection import f_classif\n",
        "from sklearn.feature_selection import RFE\n",
        "from sklearn.linear_model import LogisticRegression\n",
        "from sklearn.decomposition import PCA\n",
        "from sklearn.ensemble import ExtraTreesClassifier\n",
        "import pandas as pd\n",
        "import numpy as np\n",
        "from sklearn.preprocessing import StandardScaler\n",
        "from sklearn.preprocessing import OneHotEncoder\n",
        "from sklearn.preprocessing import LabelEncoder \n",
        "from sklearn import tree\n",
        "from sklearn.model_selection import cross_validate\n",
        "from sklearn.model_selection import KFold\n",
        "from sklearn.model_selection import cross_val_score\n",
        "from sklearn.cluster import KMeans\n",
        "from scipy.stats import mode\n",
        "from sklearn.metrics.cluster import completeness_score\n",
        "from sklearn.cluster import AgglomerativeClustering\n",
        "from scipy import special\n",
        "from scipy.cluster.hierarchy import linkage, dendrogram\n",
        "from sklearn.model_selection import GridSearchCV"
      ]
    },
    {
      "cell_type": "code",
      "execution_count": 2,
      "metadata": {
        "colab": {
          "base_uri": "https://localhost:8080/"
        },
        "id": "jh1KO1yqSRDz",
        "outputId": "57689f2b-3cbe-4f94-de7e-c80d0a5b8591"
      },
      "outputs": [
        {
          "output_type": "stream",
          "name": "stdout",
          "text": [
            "Mounted at /content/gdrive\n",
            "/content/gdrive/MyDrive/lab\n"
          ]
        }
      ],
      "source": [
        "from google.colab import drive\n",
        "drive.mount('/content/gdrive')\n",
        "%cd '/content/gdrive/MyDrive/lab'"
      ]
    },
    {
      "cell_type": "markdown",
      "metadata": {
        "id": "x_dG9SA5OhGT"
      },
      "source": [
        "#Task 1. With **iris** dataset\n",
        "*  1.1. Apply **GridSearchCV** for **SVM** to find the best hyperparameters using the following param_grid.\n",
        "\n",
        "```\n",
        "param_grid = {'C': [0.1, 1, 10, 100, 1000],\n",
        "              'gamma': [1, 0.1, 0.01, 0.001, 0.0001],\n",
        "              'kernel': ['rbf','linear']}\n",
        "```\n",
        "\n",
        "\n"
      ]
    },
    {
      "cell_type": "code",
      "execution_count": null,
      "metadata": {
        "id": "SQZJh9Gddj9U"
      },
      "outputs": [],
      "source": [
        "data = datasets.load_iris()\n",
        "X = data['data']\n",
        "Y = data['target']\n",
        "\n",
        "X_train,X_test,Y_train,Y_test = train_test_split(X, Y, test_size = 0.2, random_state = 1)"
      ]
    },
    {
      "cell_type": "code",
      "execution_count": null,
      "metadata": {
        "colab": {
          "base_uri": "https://localhost:8080/"
        },
        "id": "62jExOZ952fF",
        "outputId": "fb6999f3-6905-484e-f156-c03fb88bbe2e"
      },
      "outputs": [
        {
          "output_type": "stream",
          "name": "stdout",
          "text": [
            "{'C': 1, 'gamma': 1, 'kernel': 'linear'}\n",
            "Accuracy:1.0\n",
            "Precision:1.0\n",
            "Recall:1.0\n",
            "F1:1.0\n"
          ]
        }
      ],
      "source": [
        "#code\n",
        "param_grid = {'C': [0.1, 1, 10, 100, 1000],\n",
        "              'gamma': [1, 0.1, 0.01, 0.001, 0.0001],\n",
        "              'kernel': ['rbf','linear']}\n",
        "\n",
        "svm = svm.SVC(random_state=0)\n",
        "\n",
        "grid_search = GridSearchCV(estimator=svm,param_grid=param_grid,scoring=\"accuracy\",refit=True,return_train_score=True)\n",
        "\n",
        "grid_search.fit(X_train,Y_train)\n",
        "y_pre = grid_search.predict(X_test)\n",
        "\n",
        "print(grid_search.best_params_)\n",
        "accuracy_svm = accuracy_score(Y_test,y_pre)\n",
        "pre_svm =precision_score(Y_test,y_pre,average=\"macro\")\n",
        "recall_svm = recall_score(Y_test,y_pre,average=\"macro\")\n",
        "f1_svm = f1_score(Y_test,y_pre,average=\"macro\")\n",
        "\n",
        "print(\"Accuracy:\" + str(accuracy_svm))\n",
        "print(\"Precision:\" +str(pre_svm ))\n",
        "print(\"Recall:\" + str(recall_svm))\n",
        "print(\"F1:\" + str(f1_svm))\n",
        "\n",
        "\n",
        "\n"
      ]
    },
    {
      "cell_type": "markdown",
      "metadata": {
        "id": "2g--8cng53sY"
      },
      "source": [
        "*  1.2. Apply **GridSearchCV** for **kNN** to find the best hyperparameters using the following param_grid.\n",
        "\n",
        "```\n",
        "grid_params = { 'n_neighbors' : [5,7,9,11,13,15],\n",
        "               'weights' : ['uniform','distance'],\n",
        "               'metric' : ['minkowski','euclidean','manhattan']}\n",
        "```\n",
        "where\n",
        "\n",
        "    *  **n_neighbors**: Decide the best k based on the values we have computed earlier.\n",
        "    *  **weights**: Check whether adding weights to the data points is beneficial to the model or not. 'uniform' assigns no weight, while 'distance' weighs points by the inverse of their distances meaning nearer points will have more weight than the farther points.\n",
        "    *  **metric**: The distance metric to be used will calculating the similarity.\n"
      ]
    },
    {
      "cell_type": "code",
      "execution_count": null,
      "metadata": {
        "colab": {
          "base_uri": "https://localhost:8080/"
        },
        "id": "fX0_kItYPism",
        "outputId": "9997d91b-3a01-411e-c4f5-cf5c7b0fcc6a"
      },
      "outputs": [
        {
          "output_type": "stream",
          "name": "stdout",
          "text": [
            "{'metric': 'minkowski', 'n_neighbors': 11, 'weights': 'uniform'}\n",
            "Accuracy:0.9666666666666667\n",
            "Precision:0.9523809523809524\n",
            "Recall:0.9743589743589745\n",
            "F1:0.9610256410256409\n"
          ]
        }
      ],
      "source": [
        "#code\n",
        "grid_params = { 'n_neighbors' : [5,7,9,11,13,15],\n",
        "               'weights' : ['uniform','distance'],\n",
        "               'metric' : ['minkowski','euclidean','manhattan']}\n",
        "\n",
        "knn = KNeighborsClassifier()\n",
        "grid_search = GridSearchCV(estimator=knn,param_grid=grid_params,scoring=\"accuracy\",refit=True,return_train_score=True)\n",
        "\n",
        "grid_search.fit(X_train,Y_train)\n",
        "y_pre = grid_search.predict(X_test)\n",
        "\n",
        "print(grid_search.best_params_)\n",
        "accuracy_knm = accuracy_score(Y_test,y_pre)\n",
        "pre_knm =precision_score(Y_test,y_pre,average=\"macro\")\n",
        "recall_knm = recall_score(Y_test,y_pre,average=\"macro\")\n",
        "f1_knm = f1_score(Y_test,y_pre,average=\"macro\")\n",
        "\n",
        "print(\"Accuracy:\" + str(accuracy_knm))\n",
        "print(\"Precision:\" +str(pre_knm ))\n",
        "print(\"Recall:\" + str(recall_knm))\n",
        "print(\"F1:\" + str(f1_knm))\n",
        "\n"
      ]
    },
    {
      "cell_type": "markdown",
      "metadata": {
        "id": "3lQSOcjL_TIW"
      },
      "source": [
        "*  1.3. Apply **GridSearchCV** for **Random Forest** to find the best hyperparameters using the following param_grid.\n",
        "\n",
        "```\n",
        "param_grid = {\n",
        "    'n_estimators': [25, 50, 100, 150],\n",
        "    'max_features': ['sqrt', 'log2', None],\n",
        "    'max_depth': [3, 6, 9],\n",
        "    'max_leaf_nodes': [3, 6, 9],\n",
        "}\n",
        "```"
      ]
    },
    {
      "cell_type": "code",
      "execution_count": null,
      "metadata": {
        "colab": {
          "base_uri": "https://localhost:8080/"
        },
        "id": "OlyF9WpN_01p",
        "outputId": "d82cbf5d-cef0-4b51-c14c-c2d9c2d855f4"
      },
      "outputs": [
        {
          "output_type": "stream",
          "name": "stdout",
          "text": [
            "{'max_depth': 3, 'max_features': 'sqrt', 'max_leaf_nodes': 3, 'n_estimators': 25}\n",
            "Accuracy:0.9666666666666667\n",
            "Precision:0.9523809523809524\n",
            "Recall:0.9743589743589745\n",
            "F1:0.9610256410256409\n"
          ]
        }
      ],
      "source": [
        "\n",
        "#code\n",
        "param_grid = {\n",
        "    'n_estimators': [25, 50, 100, 150],\n",
        "    'max_features': ['sqrt', 'log2', None],\n",
        "    'max_depth': [3, 6, 9],\n",
        "    'max_leaf_nodes': [3, 6, 9],\n",
        "}\n",
        "random = RandomForestClassifier(criterion='entropy')\n",
        "grid_search = GridSearchCV(estimator=random,param_grid=param_grid,scoring=\"accuracy\",refit=True,return_train_score=True)\n",
        "\n",
        "grid_search.fit(X_train,Y_train)\n",
        "y_pre = grid_search.predict(X_test)\n",
        "\n",
        "print(grid_search.best_params_)\n",
        "accuracy_rd = accuracy_score(Y_test,y_pre)\n",
        "pre_rd =precision_score(Y_test,y_pre,average=\"macro\")\n",
        "recall_rd = recall_score(Y_test,y_pre,average=\"macro\")\n",
        "f1_rd = f1_score(Y_test,y_pre,average=\"macro\")\n",
        "\n",
        "print(\"Accuracy:\" + str(accuracy_rd))\n",
        "print(\"Precision:\" +str(pre_rd ))\n",
        "print(\"Recall:\" + str(recall_rd))\n",
        "print(\"F1:\" + str(f1_rd))\n",
        "\n",
        "\n"
      ]
    },
    {
      "cell_type": "markdown",
      "metadata": {
        "id": "G3N7TD7s_3Kp"
      },
      "source": [
        "*   1.4 Compare the best obtained results from 1.1 to 1.3 (use PrettyTable to dispaly the results)"
      ]
    },
    {
      "cell_type": "code",
      "execution_count": null,
      "metadata": {
        "colab": {
          "base_uri": "https://localhost:8080/"
        },
        "id": "jvUKPFRnmJnl",
        "outputId": "f304a1c2-64bb-4da7-8cac-a7737cef15a4"
      },
      "outputs": [
        {
          "output_type": "stream",
          "name": "stdout",
          "text": [
            "+----------------+--------------------+--------------------+--------------------+--------------------+\n",
            "|   Algorithms   |      Accuracy      |     Precision      |       Recall       |         F1         |\n",
            "+----------------+--------------------+--------------------+--------------------+--------------------+\n",
            "|      SVM.      |        1.0         |        1.0         |        1.0         |        1.0         |\n",
            "| Random forest. | 0.9666666666666667 | 0.9523809523809524 | 0.9743589743589745 | 0.9610256410256409 |\n",
            "|      KNN.      | 0.9666666666666667 | 0.9523809523809524 | 0.9743589743589745 | 0.9610256410256409 |\n",
            "+----------------+--------------------+--------------------+--------------------+--------------------+\n"
          ]
        }
      ],
      "source": [
        "t = PrettyTable([\"Algorithms\",\"Accuracy\",\"Precision\",\"Recall\",\"F1\"])\n",
        "t.add_row(['SVM.',accuracy_svm,pre_svm,recall_svm,f1_svm])\n",
        "t.add_row(['Random forest.',accuracy_rd,pre_rd,recall_rd,f1_rd])\n",
        "t.add_row([' KNN.',accuracy_knm,pre_knm,recall_knm,f1_knm])\n",
        "print(t)"
      ]
    },
    {
      "cell_type": "markdown",
      "metadata": {
        "id": "kNv07ARGzOUm"
      },
      "source": [
        "#Task 2. \n",
        "For breast cancer dataset (https://tinyurl.com/3vme8hr3) which could be loaded from datasets in sklearn as follows:\n",
        "\n",
        "```\n",
        "#Import scikit-learn dataset library\n",
        "from sklearn import datasets\n",
        "\n",
        "#Load dataset\n",
        "cancer = datasets.load_breast_cancer()\n",
        "```\n",
        "\n",
        "*   Apply **GridSearchCV** to different classification algorithms such as **SVM, kNN, LogisticRegression, RandomForest**.\n",
        "*   Compare the results obtained by the best hyperparameters among classification algorithms."
      ]
    },
    {
      "cell_type": "code",
      "execution_count": 4,
      "metadata": {
        "id": "XLHt3zn9jk79"
      },
      "outputs": [],
      "source": [
        "cancer = datasets.load_breast_cancer()\n",
        "X = cancer['data']\n",
        "Y = cancer['target']\n",
        "\n",
        "X_train,X_test,Y_train,Y_test = train_test_split(X, Y, test_size = 0.2, random_state = 1)"
      ]
    },
    {
      "cell_type": "markdown",
      "metadata": {
        "id": "pnoVB8J4vV36"
      },
      "source": [
        "*   2.1. Apply **GridSearchCV** to **SVM** \n"
      ]
    },
    {
      "cell_type": "code",
      "execution_count": null,
      "metadata": {
        "colab": {
          "base_uri": "https://localhost:8080/"
        },
        "id": "-ZTSvsJdvYqI",
        "outputId": "e869b1a3-adda-431f-b874-ce77caacaf6d"
      },
      "outputs": [
        {
          "output_type": "stream",
          "name": "stdout",
          "text": [
            "{'C': 0.1, 'gamma': 1, 'kernel': 'linear'}\n",
            "Accuracy: 0.9473684210526315\n",
            "Precision: 0.9615384615384616\n",
            "Recall: 0.9285714285714286\n",
            "F1: 0.9415384615384615\n"
          ]
        }
      ],
      "source": [
        "# code\n",
        "param_grid = {'C': [0.1, 1, 10, 100, 1000],\n",
        "              'gamma': [1, 0.1, 0.01, 0.001, 0.0001],\n",
        "              'kernel': ['rbf','linear']}\n",
        "\n",
        "svm = svm.SVC(random_state=0)\n",
        "\n",
        "grid_search = GridSearchCV(estimator=svm,param_grid=param_grid,scoring=\"accuracy\",refit=True,return_train_score=True)\n",
        "\n",
        "grid_search.fit(X_train,Y_train)\n",
        "y_pre = grid_search.predict(X_test)\n",
        "\n",
        "print(grid_search.best_params_)\n",
        "accuracy_svm = accuracy_score(Y_test,y_pre)\n",
        "pre_svm =precision_score(Y_test,y_pre,average=\"macro\")\n",
        "recall_svm = recall_score(Y_test,y_pre,average=\"macro\")\n",
        "f1_svm = f1_score(Y_test,y_pre,average=\"macro\")\n",
        "\n",
        "print(\"Accuracy:\", accuracy_svm)\n",
        "print(\"Precision:\" ,pre_svm )\n",
        "print(\"Recall:\" ,recall_svm)\n",
        "print(\"F1:\" ,f1_svm)\n",
        "\n"
      ]
    },
    {
      "cell_type": "markdown",
      "metadata": {
        "id": "ol1U_T_NvcqV"
      },
      "source": [
        "*   2.2. Apply **GridSearchCV** to **kNN** "
      ]
    },
    {
      "cell_type": "code",
      "execution_count": null,
      "metadata": {
        "id": "kt71yrAoBwYE",
        "colab": {
          "base_uri": "https://localhost:8080/"
        },
        "outputId": "1e14b633-1245-4cee-ef07-dad18563cdc1"
      },
      "outputs": [
        {
          "output_type": "stream",
          "name": "stdout",
          "text": [
            "{'metric': 'manhattan', 'n_neighbors': 7, 'weights': 'uniform'}\n",
            "Accuracy:0.9473684210526315\n",
            "Precision:0.9539473684210527\n",
            "Recall:0.933531746031746\n",
            "F1:0.9422297297297297\n"
          ]
        }
      ],
      "source": [
        "#code\n",
        "grid_params = { 'n_neighbors' : [5,7,9,11,13,15],\n",
        "               'weights' : ['uniform','distance'],\n",
        "               'metric' : ['minkowski','euclidean','manhattan']}\n",
        "\n",
        "knn = KNeighborsClassifier()\n",
        "grid_search = GridSearchCV(estimator=knn,param_grid=grid_params,scoring=\"accuracy\",refit=True,return_train_score=True)\n",
        "\n",
        "grid_search.fit(X_train,Y_train)\n",
        "y_pre = grid_search.predict(X_test)\n",
        "\n",
        "print(grid_search.best_params_)\n",
        "accuracy_knm = accuracy_score(Y_test,y_pre)\n",
        "pre_knm =precision_score(Y_test,y_pre,average=\"macro\")\n",
        "recall_knm = recall_score(Y_test,y_pre,average=\"macro\")\n",
        "f1_knm = f1_score(Y_test,y_pre,average=\"macro\")\n",
        "\n",
        "print(\"Accuracy:\" + str(accuracy_knm))\n",
        "print(\"Precision:\" +str(pre_knm ))\n",
        "print(\"Recall:\" + str(recall_knm))\n",
        "print(\"F1:\" + str(f1_knm))"
      ]
    },
    {
      "cell_type": "markdown",
      "metadata": {
        "id": "pPkAvse-BxNa"
      },
      "source": [
        "*   2.3. Apply **GridSearchCV** to **LogisticRegression** "
      ]
    },
    {
      "cell_type": "code",
      "execution_count": 6,
      "metadata": {
        "id": "nyYjpHFbB1Ci",
        "colab": {
          "base_uri": "https://localhost:8080/"
        },
        "outputId": "aed27ba4-0145-4cdd-8004-606d57478b3e"
      },
      "outputs": [
        {
          "output_type": "stream",
          "name": "stderr",
          "text": [
            "/usr/local/lib/python3.9/dist-packages/sklearn/linear_model/_sag.py:350: ConvergenceWarning: The max_iter was reached which means the coef_ did not converge\n",
            "  warnings.warn(\n",
            "/usr/local/lib/python3.9/dist-packages/sklearn/linear_model/_sag.py:350: ConvergenceWarning: The max_iter was reached which means the coef_ did not converge\n",
            "  warnings.warn(\n",
            "/usr/local/lib/python3.9/dist-packages/sklearn/linear_model/_sag.py:350: ConvergenceWarning: The max_iter was reached which means the coef_ did not converge\n",
            "  warnings.warn(\n",
            "/usr/local/lib/python3.9/dist-packages/sklearn/linear_model/_sag.py:350: ConvergenceWarning: The max_iter was reached which means the coef_ did not converge\n",
            "  warnings.warn(\n",
            "/usr/local/lib/python3.9/dist-packages/sklearn/linear_model/_sag.py:350: ConvergenceWarning: The max_iter was reached which means the coef_ did not converge\n",
            "  warnings.warn(\n",
            "/usr/local/lib/python3.9/dist-packages/sklearn/linear_model/_sag.py:350: ConvergenceWarning: The max_iter was reached which means the coef_ did not converge\n",
            "  warnings.warn(\n",
            "/usr/local/lib/python3.9/dist-packages/sklearn/linear_model/_sag.py:350: ConvergenceWarning: The max_iter was reached which means the coef_ did not converge\n",
            "  warnings.warn(\n",
            "/usr/local/lib/python3.9/dist-packages/sklearn/linear_model/_sag.py:350: ConvergenceWarning: The max_iter was reached which means the coef_ did not converge\n",
            "  warnings.warn(\n",
            "/usr/local/lib/python3.9/dist-packages/sklearn/linear_model/_sag.py:350: ConvergenceWarning: The max_iter was reached which means the coef_ did not converge\n",
            "  warnings.warn(\n",
            "/usr/local/lib/python3.9/dist-packages/sklearn/linear_model/_sag.py:350: ConvergenceWarning: The max_iter was reached which means the coef_ did not converge\n",
            "  warnings.warn(\n",
            "/usr/local/lib/python3.9/dist-packages/sklearn/linear_model/_sag.py:350: ConvergenceWarning: The max_iter was reached which means the coef_ did not converge\n",
            "  warnings.warn(\n",
            "/usr/local/lib/python3.9/dist-packages/sklearn/linear_model/_sag.py:350: ConvergenceWarning: The max_iter was reached which means the coef_ did not converge\n",
            "  warnings.warn(\n",
            "/usr/local/lib/python3.9/dist-packages/sklearn/linear_model/_sag.py:350: ConvergenceWarning: The max_iter was reached which means the coef_ did not converge\n",
            "  warnings.warn(\n",
            "/usr/local/lib/python3.9/dist-packages/sklearn/linear_model/_sag.py:350: ConvergenceWarning: The max_iter was reached which means the coef_ did not converge\n",
            "  warnings.warn(\n",
            "/usr/local/lib/python3.9/dist-packages/sklearn/linear_model/_sag.py:350: ConvergenceWarning: The max_iter was reached which means the coef_ did not converge\n",
            "  warnings.warn(\n",
            "/usr/local/lib/python3.9/dist-packages/sklearn/utils/optimize.py:210: ConvergenceWarning: newton-cg failed to converge. Increase the number of iterations.\n",
            "  warnings.warn(\n",
            "/usr/local/lib/python3.9/dist-packages/sklearn/utils/optimize.py:210: ConvergenceWarning: newton-cg failed to converge. Increase the number of iterations.\n",
            "  warnings.warn(\n"
          ]
        },
        {
          "output_type": "stream",
          "name": "stdout",
          "text": [
            "{'C': 100, 'solver': 'newton-cholesky'}\n",
            "Accuracy:0.9736842105263158\n",
            "Precision:0.98\n",
            "Recall:0.9642857142857143\n",
            "F1:0.9712773998488284\n"
          ]
        },
        {
          "output_type": "stream",
          "name": "stderr",
          "text": [
            "/usr/local/lib/python3.9/dist-packages/sklearn/utils/optimize.py:210: ConvergenceWarning: newton-cg failed to converge. Increase the number of iterations.\n",
            "  warnings.warn(\n"
          ]
        }
      ],
      "source": [
        "#code\n",
        "grid_params = { 'C': [ 1, 10, 100],\n",
        "               'solver':['newton-cholesky', 'sag', 'liblinear', 'newton-cg']}\n",
        "classifier = LogisticRegression()\n",
        "\n",
        "grid_search = GridSearchCV(estimator=classifier,param_grid=grid_params,scoring=\"accuracy\",refit=True,return_train_score=True)\n",
        "\n",
        "grid_search.fit(X_train,Y_train)\n",
        "y_pre = grid_search.predict(X_test)\n",
        "\n",
        "print(grid_search.best_params_)\n",
        "accuracy_clf = accuracy_score(Y_test,y_pre)\n",
        "pre_clf =precision_score(Y_test,y_pre,average=\"macro\")\n",
        "recall_clf = recall_score(Y_test,y_pre,average=\"macro\")\n",
        "f1_clf = f1_score(Y_test,y_pre,average=\"macro\")\n",
        "\n",
        "print(\"Accuracy:\" + str(accuracy_clf))\n",
        "print(\"Precision:\" +str(pre_clf ))\n",
        "print(\"Recall:\" + str(recall_clf))\n",
        "print(\"F1:\" + str(f1_clf))"
      ]
    },
    {
      "cell_type": "markdown",
      "metadata": {
        "id": "3NjSLo5jB1xY"
      },
      "source": [
        "*   2.4. Apply **GridSearchCV** to **RandomForest** "
      ]
    },
    {
      "cell_type": "code",
      "execution_count": null,
      "metadata": {
        "id": "nktGtM0PB7XB",
        "colab": {
          "base_uri": "https://localhost:8080/"
        },
        "outputId": "b3c78e30-18be-4bee-aa31-72a568b20cfc"
      },
      "outputs": [
        {
          "output_type": "stream",
          "name": "stdout",
          "text": [
            "{'max_depth': 6, 'max_features': 'sqrt', 'max_leaf_nodes': 9, 'n_estimators': 25}\n",
            "Accuracy:0.9473684210526315\n",
            "Precision:0.9539473684210527\n",
            "Recall:0.933531746031746\n",
            "F1:0.9422297297297297\n"
          ]
        }
      ],
      "source": [
        "#code\n",
        "param_grid = {\n",
        "    'n_estimators': [25, 50, 100, 150],\n",
        "    'max_features': ['sqrt', 'log2', None],\n",
        "    'max_depth': [3, 6, 9],\n",
        "    'max_leaf_nodes': [3, 6, 9],\n",
        "}\n",
        "random = RandomForestClassifier(criterion='entropy')\n",
        "grid_search = GridSearchCV(estimator=random,param_grid=param_grid,scoring=\"accuracy\",refit=True,return_train_score=True)\n",
        "\n",
        "grid_search.fit(X_train,Y_train)\n",
        "y_pre = grid_search.predict(X_test)\n",
        "\n",
        "print(grid_search.best_params_)\n",
        "accuracy_rd = accuracy_score(Y_test,y_pre)\n",
        "pre_rd =precision_score(Y_test,y_pre,average=\"macro\")\n",
        "recall_rd = recall_score(Y_test,y_pre,average=\"macro\")\n",
        "f1_rd = f1_score(Y_test,y_pre,average=\"macro\")\n",
        "\n",
        "print(\"Accuracy:\" + str(accuracy_rd))\n",
        "print(\"Precision:\" +str(pre_rd ))\n",
        "print(\"Recall:\" + str(recall_rd))\n",
        "print(\"F1:\" + str(f1_rd))"
      ]
    },
    {
      "cell_type": "markdown",
      "metadata": {
        "id": "NZJ3BSHpB9Dx"
      },
      "source": [
        "*   2.5. Compare the best obtained results among classification algorithms (use PrettyTable to dispaly the results) "
      ]
    },
    {
      "cell_type": "code",
      "execution_count": null,
      "metadata": {
        "id": "8LS_IYfNCFEj",
        "colab": {
          "base_uri": "https://localhost:8080/"
        },
        "outputId": "c3734fd5-10cc-452a-b1ca-805df285df66"
      },
      "outputs": [
        {
          "output_type": "stream",
          "name": "stdout",
          "text": [
            "+----------------------+--------------------+--------------------+--------------------+--------------------+\n",
            "|      Algorithms      |      Accuracy      |     Precision      |       Recall       |         F1         |\n",
            "+----------------------+--------------------+--------------------+--------------------+--------------------+\n",
            "|         SVM.         | 0.9473684210526315 | 0.9615384615384616 | 0.9285714285714286 | 0.9415384615384615 |\n",
            "|    Random forest.    | 0.9473684210526315 | 0.9539473684210527 | 0.933531746031746  | 0.9422297297297297 |\n",
            "|         KNN.         | 0.9473684210526315 | 0.9539473684210527 | 0.933531746031746  | 0.9422297297297297 |\n",
            "|  LogisticRegression. | 0.9649122807017544 | 0.9672297297297296 | 0.9573412698412699 | 0.9619111259605747 |\n",
            "+----------------------+--------------------+--------------------+--------------------+--------------------+\n"
          ]
        }
      ],
      "source": [
        "#code\n",
        "\n",
        "t = PrettyTable([\"Algorithms\",\"Accuracy\",\"Precision\",\"Recall\",\"F1\"])\n",
        "t.add_row(['SVM.',accuracy_svm,pre_svm,recall_svm,f1_svm])\n",
        "t.add_row(['Random forest.',accuracy_rd,pre_rd,recall_rd,f1_rd])\n",
        "t.add_row([' KNN.',accuracy_knm,pre_knm,recall_knm,f1_knm])\n",
        "t.add_row([' LogisticRegression.',accuracy_clf,pre_clf,recall_clf,f1_clf])\n",
        "print(t)"
      ]
    },
    {
      "cell_type": "markdown",
      "metadata": {
        "id": "b52OPWPD2afi"
      },
      "source": [
        "#Task 3. \n",
        "The dataset consists of **2000 user-created movie reviews** archived on the IMDb(Internet Movie Database). The reviews are equally partitioned into a positive set and a negative set (1000+1000). Each review consists of a plain text file (.txt) and a class label representing the overall user opinion. \n",
        "The class attribute has only two values: **pos** (positive) or **neg** (negative).\n"
      ]
    },
    {
      "cell_type": "markdown",
      "metadata": {
        "id": "lDcxOQRmDz_h"
      },
      "source": [
        "*   3.1 Importing additional libraries"
      ]
    },
    {
      "cell_type": "code",
      "execution_count": 4,
      "metadata": {
        "id": "ZjyW06skDwvL",
        "colab": {
          "base_uri": "https://localhost:8080/"
        },
        "outputId": "f837dc28-08a5-4a31-aa3f-cadde04c593e"
      },
      "outputs": [
        {
          "output_type": "stream",
          "name": "stderr",
          "text": [
            "[nltk_data] Downloading package movie_reviews to /root/nltk_data...\n",
            "[nltk_data]   Unzipping corpora/movie_reviews.zip.\n"
          ]
        }
      ],
      "source": [
        "import nltk, random\n",
        "nltk.download('movie_reviews')#download movie reviews dataset\n",
        "from nltk.corpus import movie_reviews\n",
        "import pandas as pd\n",
        "import matplotlib.pyplot as plt\n",
        "import numpy as np\n",
        "from sklearn.model_selection import cross_val_score\n",
        "from collections import Counter\n",
        "from sklearn.model_selection import train_test_split"
      ]
    },
    {
      "cell_type": "markdown",
      "metadata": {
        "id": "RJpsTIiyv-1h"
      },
      "source": [
        "*   3.2. Movie reviews information"
      ]
    },
    {
      "cell_type": "code",
      "execution_count": null,
      "metadata": {
        "id": "5ZE7A0Au1Pg0",
        "colab": {
          "base_uri": "https://localhost:8080/"
        },
        "outputId": "5b5823ee-5352-4c93-f664-95b33e9db248"
      },
      "outputs": [
        {
          "output_type": "stream",
          "name": "stdout",
          "text": [
            "2000\n",
            "['neg', 'pos']\n",
            "['plot', ':', 'two', 'teen', 'couples', 'go', 'to', ...]\n",
            "['neg/cv000_29416.txt', 'neg/cv001_19502.txt', 'neg/cv002_17424.txt', 'neg/cv003_12683.txt', 'neg/cv004_12641.txt', 'neg/cv005_29357.txt', 'neg/cv006_17022.txt', 'neg/cv007_4992.txt', 'neg/cv008_29326.txt', 'neg/cv009_29417.txt']\n"
          ]
        }
      ],
      "source": [
        "#code\n",
        "print(len(movie_reviews.fileids()))\n",
        "print(movie_reviews.categories())\n",
        "print(movie_reviews.words()[:100])\n",
        "print(movie_reviews.fileids()[:10])"
      ]
    },
    {
      "cell_type": "markdown",
      "metadata": {
        "id": "6pHmMpqMHS23"
      },
      "source": [
        "*   3.3. Create dataset from movie reviews"
      ]
    },
    {
      "cell_type": "code",
      "execution_count": 5,
      "metadata": {
        "id": "45aY6woMHSH5"
      },
      "outputs": [],
      "source": [
        "documents = [(list(movie_reviews.words(fileid)), category)\n",
        "             for category in movie_reviews.categories()\n",
        "             for fileid in movie_reviews.fileids(category)]\n",
        "random.seed(123)\n",
        "random.shuffle(documents)"
      ]
    },
    {
      "cell_type": "code",
      "execution_count": null,
      "metadata": {
        "id": "NNke0Da5HqFa",
        "colab": {
          "base_uri": "https://localhost:8080/"
        },
        "outputId": "5d1708cc-8099-446b-8dbe-4531a7fa649a"
      },
      "outputs": [
        {
          "output_type": "stream",
          "name": "stdout",
          "text": [
            "Number of Reviews/Documents: 2000\n",
            "Corpus Size (words): 1583820\n",
            "Sample Text of Doc 1:\n",
            "------------------------------\n",
            "most movies seem to release a third movie just so it can be called a trilogy . rocky iii seems to kind of fit in that category , but manages to be slightly unique . the rocky formula of \" rocky loses fight / rocky trains / rocky wins fight\n"
          ]
        }
      ],
      "source": [
        "print('Number of Reviews/Documents: {}'.format(len(documents)))\n",
        "print('Corpus Size (words): {}'.format(np.sum([len(d) for (d,l) in documents])))\n",
        "print('Sample Text of Doc 1:')\n",
        "print('-'*30)\n",
        "print(' '.join(documents[0][0][:50])) # first 50 words of the first document"
      ]
    },
    {
      "cell_type": "code",
      "execution_count": 6,
      "metadata": {
        "id": "vVFUEhnXHsGd",
        "colab": {
          "base_uri": "https://localhost:8080/"
        },
        "outputId": "512fe73d-931a-4953-ffd4-6cb55366fe7c"
      },
      "outputs": [
        {
          "output_type": "stream",
          "name": "stdout",
          "text": [
            "Counter({'pos': 1000, 'neg': 1000})\n"
          ]
        }
      ],
      "source": [
        "sentiment_distr = Counter([label for (words, label) in documents])\n",
        "print(sentiment_distr)"
      ]
    },
    {
      "cell_type": "markdown",
      "metadata": {
        "id": "jTXiEbMzHgVC"
      },
      "source": [
        "*   3.4. Train test split"
      ]
    },
    {
      "cell_type": "code",
      "execution_count": 7,
      "metadata": {
        "id": "v_-0gZZFHvJN"
      },
      "outputs": [],
      "source": [
        "train, test = train_test_split(documents, test_size = 0.33, random_state=42)"
      ]
    },
    {
      "cell_type": "code",
      "execution_count": null,
      "metadata": {
        "id": "UUGlm5TGHvpV",
        "colab": {
          "base_uri": "https://localhost:8080/"
        },
        "outputId": "694a2560-8003-4e7b-ac05-efa49562151a"
      },
      "outputs": [
        {
          "output_type": "stream",
          "name": "stdout",
          "text": [
            "Counter({'neg': 674, 'pos': 666})\n",
            "Counter({'pos': 334, 'neg': 326})\n"
          ]
        }
      ],
      "source": [
        "## Sentiment Distrubtion for Train and Test\n",
        "print(Counter([label for (words, label) in train]))\n",
        "print(Counter([label for (words, label) in test]))"
      ]
    },
    {
      "cell_type": "code",
      "execution_count": 8,
      "metadata": {
        "id": "l1ppl_0RHx1P"
      },
      "outputs": [],
      "source": [
        "X_train = [' '.join(words) for (words, label) in train]\n",
        "X_test = [' '.join(words) for (words, label) in test]\n",
        "y_train = [label for (words, label) in train]\n",
        "y_test = [label for (words, label) in test]"
      ]
    },
    {
      "cell_type": "markdown",
      "metadata": {
        "id": "7xUaXrjxH6Ee"
      },
      "source": [
        "*   3.5. Text Vectorization"
      ]
    },
    {
      "cell_type": "code",
      "execution_count": 9,
      "metadata": {
        "id": "fzwM0nsIH-8l"
      },
      "outputs": [],
      "source": [
        "from sklearn.feature_extraction.text import CountVectorizer, TfidfVectorizer\n",
        "\n",
        "tfidf_vec = TfidfVectorizer(min_df = 10, token_pattern = r'[a-zA-Z]+')\n",
        "X_train_bow = tfidf_vec.fit_transform(X_train) # fit train\n",
        "X_test_bow = tfidf_vec.transform(X_test) # transform test"
      ]
    },
    {
      "cell_type": "markdown",
      "metadata": {
        "id": "BP1vB3loIF28"
      },
      "source": [
        "*   3.6. Apply **SVM** with **GridSearchCV** "
      ]
    },
    {
      "cell_type": "code",
      "execution_count": 13,
      "metadata": {
        "id": "b3FHQqh1Hlrd",
        "colab": {
          "base_uri": "https://localhost:8080/"
        },
        "outputId": "19235eb0-9c42-4e6b-a002-37531a21bf28"
      },
      "outputs": [
        {
          "output_type": "stream",
          "name": "stdout",
          "text": [
            "{'C': 10, 'gamma': 0.1, 'kernel': 'rbf'}\n",
            "Accuracy: 0.8121212121212121\n",
            "Precision: 0.8122242647058824\n",
            "Recall: 0.8119833951728446\n",
            "F1: 0.8120366372380594\n"
          ]
        }
      ],
      "source": [
        "#code\n",
        "\n",
        "param_grid = {'C': [0.1, 1, 10, 100, 1000],\n",
        "              'gamma': [1, 0.1, 0.01, 0.001, 0.0001],\n",
        "              'kernel': ['rbf','linear']}\n",
        "\n",
        "svm = svm.SVC(random_state=0)\n",
        "\n",
        "grid_search = GridSearchCV(estimator=svm,param_grid=param_grid,scoring=\"accuracy\",refit=True,return_train_score=True)\n",
        "\n",
        "grid_search.fit(X_train_bow,y_train)\n",
        "y_pre = grid_search.predict(X_test_bow)\n",
        "\n",
        "print(grid_search.best_params_)\n",
        "accuracy_svm = accuracy_score(y_test,y_pre)\n",
        "pre_svm =precision_score(y_test,y_pre,average=\"macro\")\n",
        "recall_svm = recall_score(y_test,y_pre,average=\"macro\")\n",
        "f1_svm = f1_score(y_test,y_pre,average=\"macro\")\n",
        "\n",
        "print(\"Accuracy:\", accuracy_svm)\n",
        "print(\"Precision:\" ,pre_svm )\n",
        "print(\"Recall:\" ,recall_svm)\n",
        "print(\"F1:\" ,f1_svm)\n"
      ]
    },
    {
      "cell_type": "markdown",
      "metadata": {
        "id": "N1Fy8jYBIdxi"
      },
      "source": [
        "*   3.7. Apply **RandomForest** with **GridSearchCV** "
      ]
    },
    {
      "cell_type": "code",
      "execution_count": 11,
      "metadata": {
        "id": "Fyfw2R-gIhWl",
        "colab": {
          "base_uri": "https://localhost:8080/"
        },
        "outputId": "7a99e22d-9b00-46e8-e372-dff2b601287c"
      },
      "outputs": [
        {
          "output_type": "stream",
          "name": "stdout",
          "text": [
            "{'max_depth': 6, 'max_features': 'sqrt', 'max_leaf_nodes': 9, 'n_estimators': 150}\n",
            "Accuracy:0.803030303030303\n",
            "Precision:0.8036030061892131\n",
            "Recall:0.80274420484185\n",
            "F1:0.8028112043684901\n"
          ]
        }
      ],
      "source": [
        "#code\n",
        "param_grid = {\n",
        "    'n_estimators': [25, 50, 100, 150],\n",
        "    'max_features': ['sqrt', 'log2', None],\n",
        "    'max_depth': [3, 6, 9],\n",
        "    'max_leaf_nodes': [3, 6, 9],\n",
        "}\n",
        "random = RandomForestClassifier(criterion='entropy')\n",
        "grid_search = GridSearchCV(estimator=random,param_grid=param_grid,scoring=\"accuracy\",refit=True,return_train_score=True)\n",
        "\n",
        "grid_search.fit(X_train_bow,y_train)\n",
        "y_pre = grid_search.predict(X_test_bow)\n",
        "\n",
        "print(grid_search.best_params_)\n",
        "accuracy_rd = accuracy_score(y_test,y_pre)\n",
        "pre_rd =precision_score(y_test,y_pre,average=\"macro\")\n",
        "recall_rd = recall_score(y_test,y_pre,average=\"macro\")\n",
        "f1_rd = f1_score(y_test,y_pre,average=\"macro\")\n",
        "\n",
        "print(\"Accuracy:\" + str(accuracy_rd))\n",
        "print(\"Precision:\" +str(pre_rd ))\n",
        "print(\"Recall:\" + str(recall_rd))\n",
        "print(\"F1:\" + str(f1_rd))"
      ]
    },
    {
      "cell_type": "markdown",
      "metadata": {
        "id": "_btsVKjIIiLT"
      },
      "source": [
        "*   3.8. Apply **kNN** with **GridSearchCV** "
      ]
    },
    {
      "cell_type": "code",
      "execution_count": 10,
      "metadata": {
        "id": "IZmFu1ZQImhn",
        "colab": {
          "base_uri": "https://localhost:8080/"
        },
        "outputId": "917a411d-16af-454c-86a9-1c1a76ebb175"
      },
      "outputs": [
        {
          "output_type": "stream",
          "name": "stdout",
          "text": [
            "{'metric': 'minkowski', 'n_neighbors': 13, 'weights': 'distance'}\n",
            "Accuracy:0.6257575757575757\n",
            "Precision:0.6623811201127158\n",
            "Recall:0.6227820432754123\n",
            "F1:0.6001579550220622\n"
          ]
        }
      ],
      "source": [
        "#code\n",
        "\n",
        "grid_params = { 'n_neighbors' : [5,7,9,11,13,15],\n",
        "               'weights' : ['uniform','distance'],\n",
        "               'metric' : ['minkowski','euclidean','manhattan']}\n",
        "\n",
        "knn = KNeighborsClassifier()\n",
        "grid_search = GridSearchCV(estimator=knn,param_grid=grid_params,scoring=\"accuracy\",refit=True,return_train_score=True)\n",
        "\n",
        "grid_search.fit(X_train_bow,y_train)\n",
        "y_pre = grid_search.predict(X_test_bow)\n",
        "\n",
        "print(grid_search.best_params_)\n",
        "accuracy_knm = accuracy_score(y_test,y_pre)\n",
        "pre_knm =precision_score(y_test,y_pre,average=\"macro\")\n",
        "recall_knm = recall_score(y_test,y_pre,average=\"macro\")\n",
        "f1_knm = f1_score(y_test,y_pre,average=\"macro\")\n",
        "\n",
        "print(\"Accuracy:\" + str(accuracy_knm))\n",
        "print(\"Precision:\" +str(pre_knm ))\n",
        "print(\"Recall:\" + str(recall_knm))\n",
        "print(\"F1:\" + str(f1_knm))"
      ]
    },
    {
      "cell_type": "markdown",
      "metadata": {
        "id": "0Ix_HeVGIvDu"
      },
      "source": [
        "*   3.9. Apply **LogisticRegression** with **GridSearchCV** "
      ]
    },
    {
      "cell_type": "code",
      "execution_count": 14,
      "metadata": {
        "id": "sTd3alCMIr-i",
        "colab": {
          "base_uri": "https://localhost:8080/"
        },
        "outputId": "2ed94128-4403-43ab-b1cf-b0770f9ca4e5"
      },
      "outputs": [
        {
          "output_type": "stream",
          "name": "stderr",
          "text": [
            "/usr/local/lib/python3.9/dist-packages/sklearn/linear_model/_sag.py:350: ConvergenceWarning: The max_iter was reached which means the coef_ did not converge\n",
            "  warnings.warn(\n",
            "/usr/local/lib/python3.9/dist-packages/sklearn/linear_model/_sag.py:350: ConvergenceWarning: The max_iter was reached which means the coef_ did not converge\n",
            "  warnings.warn(\n",
            "/usr/local/lib/python3.9/dist-packages/sklearn/linear_model/_sag.py:350: ConvergenceWarning: The max_iter was reached which means the coef_ did not converge\n",
            "  warnings.warn(\n",
            "/usr/local/lib/python3.9/dist-packages/sklearn/linear_model/_sag.py:350: ConvergenceWarning: The max_iter was reached which means the coef_ did not converge\n",
            "  warnings.warn(\n",
            "/usr/local/lib/python3.9/dist-packages/sklearn/linear_model/_sag.py:350: ConvergenceWarning: The max_iter was reached which means the coef_ did not converge\n",
            "  warnings.warn(\n",
            "/usr/local/lib/python3.9/dist-packages/sklearn/linear_model/_sag.py:350: ConvergenceWarning: The max_iter was reached which means the coef_ did not converge\n",
            "  warnings.warn(\n",
            "/usr/local/lib/python3.9/dist-packages/sklearn/linear_model/_sag.py:350: ConvergenceWarning: The max_iter was reached which means the coef_ did not converge\n",
            "  warnings.warn(\n",
            "/usr/local/lib/python3.9/dist-packages/sklearn/linear_model/_sag.py:350: ConvergenceWarning: The max_iter was reached which means the coef_ did not converge\n",
            "  warnings.warn(\n",
            "/usr/local/lib/python3.9/dist-packages/sklearn/linear_model/_sag.py:350: ConvergenceWarning: The max_iter was reached which means the coef_ did not converge\n",
            "  warnings.warn(\n",
            "/usr/local/lib/python3.9/dist-packages/sklearn/linear_model/_sag.py:350: ConvergenceWarning: The max_iter was reached which means the coef_ did not converge\n",
            "  warnings.warn(\n"
          ]
        },
        {
          "output_type": "stream",
          "name": "stdout",
          "text": [
            "{'C': 100, 'solver': 'newton-cg'}\n",
            "Accuracy:0.6257575757575757\n",
            "Precision:0.6623811201127158\n",
            "Recall:0.6227820432754123\n",
            "F1:0.6001579550220622\n"
          ]
        }
      ],
      "source": [
        "#code\n",
        "grid_params = { 'C': [ 1, 10, 100],\n",
        "               'solver':['newton-cholesky', 'sag', 'liblinear', 'newton-cg']}\n",
        "classifier = LogisticRegression()\n",
        "\n",
        "grid_search = GridSearchCV(estimator=classifier,param_grid=grid_params,scoring=\"accuracy\",refit=True,return_train_score=True)\n",
        "\n",
        "grid_search.fit(X_train_bow,y_train)\n",
        "y_pre = grid_search.predict(X_test_bow)\n",
        "\n",
        "print(grid_search.best_params_)\n",
        "accuracy_clf = accuracy_score(y_test,y_pre)\n",
        "pre_clf =precision_score(y_test,y_pre,average=\"macro\")\n",
        "recall_clf = recall_score(y_test,y_pre,average=\"macro\")\n",
        "f1_clf = f1_score(y_test,y_pre,average=\"macro\")\n",
        "\n",
        "print(\"Accuracy:\" + str(accuracy_knm))\n",
        "print(\"Precision:\" +str(pre_knm ))\n",
        "print(\"Recall:\" + str(recall_knm))\n",
        "print(\"F1:\" + str(f1_knm))"
      ]
    },
    {
      "cell_type": "markdown",
      "metadata": {
        "id": "nhYF2y6eI058"
      },
      "source": [
        "*   3.10. Compare the best obtained results among classification algorithms (use PrettyTable to dispaly the results) "
      ]
    },
    {
      "cell_type": "code",
      "source": [
        "t = PrettyTable([\"Algorithms\",\"Accuracy\",\"Precision\",\"Recall\",\"F1\"])\n",
        "t.add_row(['SVM.',accuracy_svm,pre_svm,recall_svm,f1_svm])\n",
        "t.add_row(['Random forest.',accuracy_rd,pre_rd,recall_rd,f1_rd])\n",
        "t.add_row([' KNN.',accuracy_knm,pre_knm,recall_knm,f1_knm])\n",
        "t.add_row([' LogisticRegression.',accuracy_clf,pre_clf,recall_clf,f1_clf])\n",
        "print(t)"
      ],
      "metadata": {
        "colab": {
          "base_uri": "https://localhost:8080/"
        },
        "id": "Zv_FsxUWbA_r",
        "outputId": "14e29020-01e9-4002-d415-fa20e3c473ac"
      },
      "execution_count": 15,
      "outputs": [
        {
          "output_type": "stream",
          "name": "stdout",
          "text": [
            "+----------------------+--------------------+--------------------+--------------------+--------------------+\n",
            "|      Algorithms      |      Accuracy      |     Precision      |       Recall       |         F1         |\n",
            "+----------------------+--------------------+--------------------+--------------------+--------------------+\n",
            "|         SVM.         | 0.8121212121212121 | 0.8122242647058824 | 0.8119833951728446 | 0.8120366372380594 |\n",
            "|    Random forest.    | 0.803030303030303  | 0.8036030061892131 |  0.80274420484185  | 0.8028112043684901 |\n",
            "|         KNN.         | 0.6257575757575757 | 0.6623811201127158 | 0.6227820432754123 | 0.6001579550220622 |\n",
            "|  LogisticRegression. | 0.8196969696969697 | 0.8198503387602387 | 0.819541897799493  | 0.819603789836348  |\n",
            "+----------------------+--------------------+--------------------+--------------------+--------------------+\n"
          ]
        }
      ]
    },
    {
      "cell_type": "markdown",
      "metadata": {
        "id": "Ok7RGkea_b7n"
      },
      "source": [
        "#Finally,\n",
        "Save a copy in your Github. Remember renaming the notebook."
      ]
    }
  ],
  "metadata": {
    "colab": {
      "provenance": [],
      "include_colab_link": true
    },
    "kernelspec": {
      "display_name": "Python 3",
      "name": "python3"
    },
    "language_info": {
      "name": "python"
    }
  },
  "nbformat": 4,
  "nbformat_minor": 0
}
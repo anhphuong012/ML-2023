{
  "nbformat": 4,
  "nbformat_minor": 0,
  "metadata": {
    "colab": {
      "provenance": [],
      "include_colab_link": true
    },
    "kernelspec": {
      "name": "python3",
      "display_name": "Python 3"
    },
    "language_info": {
      "name": "python"
    }
  },
  "cells": [
    {
      "cell_type": "markdown",
      "metadata": {
        "id": "view-in-github",
        "colab_type": "text"
      },
      "source": [
        "<a href=\"https://colab.research.google.com/github/anhphuong012/ML-2023/blob/main/Lab_7_20130371_NguyenNgocPhuong.ipynb\" target=\"_parent\"><img src=\"https://colab.research.google.com/assets/colab-badge.svg\" alt=\"Open In Colab\"/></a>"
      ]
    },
    {
      "cell_type": "markdown",
      "source": [
        "# This lab deals with **cross validation** for some classification algorithms and **clustering methods**. \n",
        "\n",
        "*   **Deadline: 23:59, 10/4/2023**\n",
        "\n"
      ],
      "metadata": {
        "id": "LMzehe0sy5wr"
      }
    },
    {
      "cell_type": "markdown",
      "source": [
        "# Import libraries"
      ],
      "metadata": {
        "id": "H4nJmxp9zGX4"
      }
    },
    {
      "cell_type": "code",
      "source": [
        "from google.colab import drive\n",
        "drive.mount('/content/gdrive')\n",
        "%cd '/content/gdrive/MyDrive/lab'"
      ],
      "metadata": {
        "colab": {
          "base_uri": "https://localhost:8080/"
        },
        "id": "nm2xNfOrPU5C",
        "outputId": "20fb35f3-ebfe-4876-86aa-47ef986fcd5e"
      },
      "execution_count": 4,
      "outputs": [
        {
          "output_type": "stream",
          "name": "stdout",
          "text": [
            "Mounted at /content/gdrive\n",
            "/content/gdrive/MyDrive/lab\n"
          ]
        }
      ]
    },
    {
      "cell_type": "code",
      "execution_count": 29,
      "metadata": {
        "id": "DoVWQ8AEyc-C"
      },
      "outputs": [],
      "source": [
        "# code\n",
        "from sklearn.linear_model import LogisticRegression\n",
        "from sklearn.metrics import confusion_matrix,classification_report\n",
        "from sklearn.metrics import accuracy_score\n",
        "from sklearn.metrics import precision_score\n",
        "from sklearn.metrics import recall_score\n",
        "from sklearn.metrics import f1_score\n",
        "from sklearn import datasets\n",
        "from sklearn.model_selection import train_test_split\n",
        "from sklearn.metrics import ConfusionMatrixDisplay\n",
        "from sklearn.tree import DecisionTreeClassifier\n",
        "from sklearn.neighbors import KNeighborsClassifier\n",
        "from sklearn import svm\n",
        "import matplotlib.pyplot as plt\n",
        "from prettytable import PrettyTable\n",
        "from sklearn.ensemble import RandomForestClassifier\n",
        "from sklearn.naive_bayes import GaussianNB\n",
        "from sklearn.feature_selection import SelectKBest\n",
        "from sklearn.feature_selection import f_classif\n",
        "from sklearn.feature_selection import RFE\n",
        "from sklearn.linear_model import LogisticRegression\n",
        "from sklearn.decomposition import PCA\n",
        "from sklearn.ensemble import ExtraTreesClassifier\n",
        "import pandas as pd\n",
        "import numpy as np\n",
        "from sklearn.preprocessing import StandardScaler\n",
        "from sklearn.preprocessing import OneHotEncoder\n",
        "from sklearn.preprocessing import LabelEncoder \n",
        "from sklearn import tree\n",
        "from sklearn.model_selection import cross_validate\n",
        "from sklearn.model_selection import KFold\n",
        "from sklearn.model_selection import cross_val_score\n",
        "from sklearn.cluster import KMeans\n",
        "from scipy.stats import mode\n",
        "from sklearn.metrics.cluster import completeness_score\n",
        "from sklearn.cluster import AgglomerativeClustering\n",
        "from scipy import special\n",
        "from scipy.cluster.hierarchy import linkage, dendrogram\n"
      ]
    },
    {
      "cell_type": "markdown",
      "source": [
        "#Task 1. With **iris** dataset\n",
        "*  1.1. Apply **SVM** algorithm with cross validation\n"
      ],
      "metadata": {
        "id": "x_dG9SA5OhGT"
      }
    },
    {
      "cell_type": "code",
      "source": [
        "data = datasets.load_iris()\n",
        "X = data['data']\n",
        "Y = data['target']\n",
        "\n",
        "sigmod = svm.SVC(kernel = \"linear\",random_state=0);\n",
        "scoring = ['accuracy','precision_macro', 'recall_macro','f1_macro']\n",
        "\n",
        "score = cross_validate(sigmod,X,Y,scoring=scoring,cv= 10)\n",
        "print(sorted(score.keys()))\n",
        "\n",
        "print(\"Accuracy:\" + str(np.mean((score['test_accuracy']))))\n",
        "print(\"F1:\" + str(np.mean(score['test_f1_macro'])))\n",
        "print(\"PrecisionPrecision:\" +str(np.mean(score['test_precision_macro'])))\n",
        "print(\"RecallRecall:\" +str(np.mean(score['test_recall_macro'])))\n"
      ],
      "metadata": {
        "colab": {
          "base_uri": "https://localhost:8080/"
        },
        "id": "RlCicYhOP36r",
        "outputId": "a899247c-8b79-4cb5-b7f1-8c683e9aff5c"
      },
      "execution_count": null,
      "outputs": [
        {
          "output_type": "stream",
          "name": "stdout",
          "text": [
            "['fit_time', 'score_time', 'test_accuracy', 'test_f1_macro', 'test_precision_macro', 'test_recall_macro']\n",
            "Accuracy:0.9733333333333334\n",
            "F1:0.9726430976430975\n",
            "PrecisionPrecision:0.9793650793650794\n",
            "RecallRecall:0.9733333333333333\n"
          ]
        }
      ]
    },
    {
      "cell_type": "code",
      "source": [
        "#code"
      ],
      "metadata": {
        "id": "62jExOZ952fF"
      },
      "execution_count": null,
      "outputs": []
    },
    {
      "cell_type": "markdown",
      "source": [
        "*  1.2 Apply **feature selection** to the dataset and then use **RandomForest** algorithm with cross validation "
      ],
      "metadata": {
        "id": "2g--8cng53sY"
      }
    },
    {
      "cell_type": "code",
      "source": [
        "clf=RandomForestClassifier(n_estimators=100)\n",
        "clf.fit(X, Y)\n",
        "\n",
        "feature_imp = pd.Series(clf.feature_importances_,index=data.feature_names).sort_values(ascending=False)\n",
        "features = feature_imp.index[0:2]\n",
        "\n",
        "df = pd.DataFrame(data['data'], columns = data.feature_names)\n",
        "df['species'] = data['target']\n",
        "X1 = df[features]\n",
        "y1=df['species']       "
      ],
      "metadata": {
        "id": "PTeFs4LieeJ6"
      },
      "execution_count": null,
      "outputs": []
    },
    {
      "cell_type": "code",
      "source": [
        "#code\n",
        "\n",
        "\n",
        "scoring = ['accuracy','precision_macro', 'recall_macro','f1_macro']\n",
        "\n",
        "score = cross_validate(clf,X1,y1,scoring=scoring,cv= 10)\n",
        "print(sorted(score.keys()))\n",
        "\n",
        "print(\"Accuracy:\" + str(np.mean((score['test_accuracy']))))\n",
        "print(\"F1:\" + str(np.mean(score['test_f1_macro'])))\n",
        "print(\"PrecisionPrecision:\" +str(np.mean(score['test_precision_macro'])))\n",
        "print(\"RecallRecall:\" +str(np.mean(score['test_recall_macro'])))"
      ],
      "metadata": {
        "id": "fX0_kItYPism",
        "colab": {
          "base_uri": "https://localhost:8080/"
        },
        "outputId": "0fee9b5a-9d0a-4d01-8c39-cb40723c7ba0"
      },
      "execution_count": null,
      "outputs": [
        {
          "output_type": "stream",
          "name": "stdout",
          "text": [
            "['fit_time', 'score_time', 'test_accuracy', 'test_f1_macro', 'test_precision_macro', 'test_recall_macro']\n",
            "Accuracy:0.9666666666666666\n",
            "F1:0.9663299663299663\n",
            "PrecisionPrecision:0.9722222222222223\n",
            "RecallRecall:0.9666666666666666\n"
          ]
        }
      ]
    },
    {
      "cell_type": "markdown",
      "source": [
        "#Task 2. With mnist dataset: \n",
        "*   2.1. Apply **K-Means** algorithm using k=10, "
      ],
      "metadata": {
        "id": "kNv07ARGzOUm"
      }
    },
    {
      "cell_type": "code",
      "source": [
        "# code\n",
        "\n",
        "mnist = datasets.load_digits()\n",
        "X = mnist['data']\n",
        "Y = mnist['target']\n",
        "\n",
        "kmeans = KMeans(n_clusters = 10, init =\"random\",random_state = 0)\n",
        "kmeans.fit_transform(X,Y)\n",
        "clusters = kmeans.predict(mnist.data)\n",
        "\n",
        "accuracy_kmean = accuracy_score(mnist.target,clusters)\n",
        "precision_kmean = precision_score(mnist.target,clusters,average='macro')\n",
        "recall_kmean = recall_score(mnist.target,clusters,average='macro')\n",
        "f1_kmean = f1_score(mnist.target,clusters,average='macro')\n",
        "\n",
        "print(accuracy_kmean)\n",
        "\n"
      ],
      "metadata": {
        "id": "sOsg77IBzEyo",
        "colab": {
          "base_uri": "https://localhost:8080/"
        },
        "outputId": "bd6668cb-eb3f-48b3-b431-b8288bbd0927"
      },
      "execution_count": 10,
      "outputs": [
        {
          "output_type": "stream",
          "name": "stderr",
          "text": [
            "/usr/local/lib/python3.9/dist-packages/sklearn/cluster/_kmeans.py:870: FutureWarning: The default value of `n_init` will change from 10 to 'auto' in 1.4. Set the value of `n_init` explicitly to suppress the warning\n",
            "  warnings.warn(\n"
          ]
        },
        {
          "output_type": "stream",
          "name": "stdout",
          "text": [
            "0.2598775737340011\n"
          ]
        }
      ]
    },
    {
      "cell_type": "code",
      "source": [],
      "metadata": {
        "id": "LYI04Y5Xv376"
      },
      "execution_count": null,
      "outputs": []
    },
    {
      "cell_type": "markdown",
      "source": [
        "*   2.2. Compare the obtained result with with other classification algorithms such as **Randomforest**, **kNN**, and **Naïve Bayes** in terms of accuracy, precision, recall, f1 using cross validation. \n"
      ],
      "metadata": {
        "id": "pnoVB8J4vV36"
      }
    },
    {
      "cell_type": "code",
      "source": [
        "# code\n",
        "\n",
        "model = GaussianNB()\n",
        "scoring = ['accuracy','precision_macro', 'recall_macro','f1_macro']\n",
        "\n",
        "score = cross_validate(model,X,Y,scoring=scoring,cv= 10)\n",
        "accuracy_navie =  np.mean(score['test_accuracy'])\n",
        "f1_navie = np.mean(score['test_f1_macro'])\n",
        "precision_navie = np.mean(score['test_precision_macro'])\n",
        "recall_navie = np.mean(score['test_recall_macro'])\n",
        "\n",
        "print(accuracy_navie)\n",
        "\n"
      ],
      "metadata": {
        "id": "-ZTSvsJdvYqI",
        "colab": {
          "base_uri": "https://localhost:8080/"
        },
        "outputId": "fe9f7581-7544-4430-85aa-ce682757a8d0"
      },
      "execution_count": 12,
      "outputs": [
        {
          "output_type": "stream",
          "name": "stdout",
          "text": [
            "0.8113904407200497\n"
          ]
        }
      ]
    },
    {
      "cell_type": "code",
      "source": [
        "clf=RandomForestClassifier(n_estimators=100)\n",
        "\n",
        "scoring = ['accuracy','precision_macro', 'recall_macro','f1_macro']\n",
        "\n",
        "score = cross_validate(clf,X,Y,scoring=scoring,cv= 10)\n",
        "accuracy_random =  np.mean(score['test_accuracy'])\n",
        "f1_random = np.mean(score['test_f1_macro'])\n",
        "precision_random = np.mean(score['test_precision_macro'])\n",
        "recall_random = np.mean(score['test_recall_macro'])\n",
        "\n",
        "print(accuracy_random)\n"
      ],
      "metadata": {
        "colab": {
          "base_uri": "https://localhost:8080/"
        },
        "id": "w6Yxurzkyelc",
        "outputId": "6b14f6ac-a117-435f-fbe8-4e3b4a927218"
      },
      "execution_count": 13,
      "outputs": [
        {
          "output_type": "stream",
          "name": "stdout",
          "text": [
            "0.9482464307883302\n"
          ]
        }
      ]
    },
    {
      "cell_type": "code",
      "source": [
        "knm = KNeighborsClassifier(n_neighbors=7)\n",
        "\n",
        "scoring = ['accuracy','precision_macro', 'recall_macro','f1_macro']\n",
        "\n",
        "score = cross_validate(knm,X,Y,scoring=scoring,cv= 10)\n",
        "accuracy_knm =  np.mean(score['test_accuracy'])\n",
        "f1_knm = np.mean(score['test_f1_macro'])\n",
        "precision_knm = np.mean(score['test_precision_macro'])\n",
        "recall_knm = np.mean(score['test_recall_macro'])\n",
        "\n",
        "print(accuracy_knm)\n"
      ],
      "metadata": {
        "colab": {
          "base_uri": "https://localhost:8080/"
        },
        "id": "-Ex7KarEyr9K",
        "outputId": "e666d12d-3d2d-4b19-8182-9443e6e58b78"
      },
      "execution_count": 14,
      "outputs": [
        {
          "output_type": "stream",
          "name": "stdout",
          "text": [
            "0.9677343265052762\n"
          ]
        }
      ]
    },
    {
      "cell_type": "code",
      "source": [
        "t = PrettyTable([\"Algorithms\",\"Accuracy\",\"Precision\",\"Recall\",\"F1\"])\n",
        "t.add_row(['K-Means.',accuracy_kmean,precision_kmean,recall_kmean,f1_kmean])\n",
        "t.add_row(['Randomforest.',accuracy_random,precision_random,recall_random,f1_random])\n",
        "t.add_row(['Naïve Bayes.',accuracy_navie,precision_navie,recall_navie,f1_navie])\n",
        "t.add_row(['KNN.',accuracy_knm,precision_knm,recall_knm,f1_knm])\n",
        "print(t)"
      ],
      "metadata": {
        "colab": {
          "base_uri": "https://localhost:8080/"
        },
        "id": "sFw0ZxE7zH80",
        "outputId": "f4c0c836-829a-468f-f6fa-260d12c4e638"
      },
      "execution_count": 15,
      "outputs": [
        {
          "output_type": "stream",
          "name": "stdout",
          "text": [
            "+---------------+--------------------+---------------------+---------------------+--------------------+\n",
            "|   Algorithms  |      Accuracy      |      Precision      |        Recall       |         F1         |\n",
            "+---------------+--------------------+---------------------+---------------------+--------------------+\n",
            "|    K-Means.   | 0.2598775737340011 | 0.25261630590849576 | 0.26071035038434803 | 0.2550489600288401 |\n",
            "| Randomforest. | 0.9482464307883302 |  0.9544555001877321 |  0.9482301341589269 | 0.9476663511328945 |\n",
            "|  Naïve Bayes. | 0.8113904407200497 |  0.8480837289405493 |  0.8114189886480908 | 0.8090382615408214 |\n",
            "|      KNN.     | 0.9677343265052762 |  0.9709136747841083 |  0.9676590987272103 | 0.9674198694259083 |\n",
            "+---------------+--------------------+---------------------+---------------------+--------------------+\n"
          ]
        }
      ]
    },
    {
      "cell_type": "markdown",
      "source": [
        "*   2.3. From the obtained results, **which approach is better** for this problem: Supervised learning or Unsupervised learning?"
      ],
      "metadata": {
        "id": "uyey-ndXvZlb"
      }
    },
    {
      "cell_type": "code",
      "source": [
        "#code\n",
        "# Randomforest, Naive,Knn bester K-mean => Supervised learning better"
      ],
      "metadata": {
        "id": "Qzh_D-rgvbv9"
      },
      "execution_count": null,
      "outputs": []
    },
    {
      "cell_type": "markdown",
      "source": [
        "2.4. Apply **AgglomerativeClustering** algorithm to mnist dataset using the number of clusters is 10"
      ],
      "metadata": {
        "id": "ol1U_T_NvcqV"
      }
    },
    {
      "cell_type": "code",
      "source": [
        "aggloClus = AgglomerativeClustering(n_clusters=10)\n",
        "\n",
        "aggloClus.fit(mnist.data)\n",
        "cluster = aggloClus.fit_predict(mnist.data)\n",
        "\n",
        "print(accuracy_score(mnist.target,cluster))"
      ],
      "metadata": {
        "colab": {
          "base_uri": "https://localhost:8080/"
        },
        "id": "BFsN-3XW0Ou1",
        "outputId": "6b257c3c-27ac-465f-f7ba-7fb2413f4c32"
      },
      "execution_count": 18,
      "outputs": [
        {
          "output_type": "stream",
          "name": "stdout",
          "text": [
            "0.19365609348914858\n"
          ]
        }
      ]
    },
    {
      "cell_type": "markdown",
      "source": [
        "#Task 3. \n",
        "For given dataset (shopping-data.csv) including 5 attributes: **CustomerID**, **Genre**, **Age**, **Annual Income**, and **Spending Score**.\n",
        "*   3.1. Using the **scipy library** to create the dendrograms for the given dataset (remember drop categorical attributes: **CustomerID**, **Genre**)\n",
        "\n",
        "\n",
        "\n"
      ],
      "metadata": {
        "id": "b52OPWPD2afi"
      }
    },
    {
      "cell_type": "code",
      "source": [
        "#code\n",
        "\n",
        "data = pd.read_csv('shopping-data.csv')\n",
        "clean_data = data.drop([\"CustomerID\",\"Genre\"], axis=1)\n",
        "data_scaler = StandardScaler()\n",
        "\n",
        "scaled_data = data_scaler.fit_transform(clean_data)\n",
        "complete_clustering = linkage(scaled_data, method=\"complete\", metric=\"euclidean\")\n",
        "average_clustering = linkage(clean_data, method=\"average\", metric=\"euclidean\")\n",
        "single_clustering = linkage(scaled_data, method=\"single\", metric=\"euclidean\")\n",
        "\n",
        "\n",
        "\n",
        "dendrogram(average_clustering)\n",
        "plt.show()"
      ],
      "metadata": {
        "id": "YYY2dLtH3P8H",
        "colab": {
          "base_uri": "https://localhost:8080/",
          "height": 429
        },
        "outputId": "20291731-94cd-4679-b0e7-b8df350c7a06"
      },
      "execution_count": 52,
      "outputs": [
        {
          "output_type": "display_data",
          "data": {
            "text/plain": [
              "<Figure size 640x480 with 1 Axes>"
            ],
            "image/png": "[encoded data removed]"
          },
          "metadata": {}
        }
      ]
    },
    {
      "cell_type": "markdown",
      "source": [
        "*   3.2. Apply K-Means to the preprocessed dataset with k belongs to [2,10]. Then compute SSE values and plot them to find the best value of k."
      ],
      "metadata": {
        "id": "eHlh_dWUyEMr"
      }
    },
    {
      "cell_type": "code",
      "source": [
        "#code\n",
        "clean = data.drop([\"CustomerID\"],axis = 1)\n",
        "\n",
        "\n",
        "\n",
        "sse = []\n",
        "k_s =[]\n",
        "for k in range(1,11):\n",
        "  kmeans = KMeans(n_clusters=k, random_state = 0)\n",
        "  kmeans.fit(scaled_data)\n",
        "  sse.append(kmeans.inertia_)\n",
        "  k_s.append(k)\n",
        "\n",
        "\n",
        "plt.plot(k_s,sse)\n",
        "plt.xlabel(\"K\")\n",
        "plt.ylabel(\"SSE\")\n",
        "plt.title(\"The best\")\n",
        "plt.show()\n",
        "\n",
        "\n",
        "\n"
      ],
      "metadata": {
        "id": "8vx3mfIidu4P",
        "colab": {
          "base_uri": "https://localhost:8080/",
          "height": 1000
        },
        "outputId": "c90f29c8-3928-4e56-b5fc-57837d467b55"
      },
      "execution_count": 49,
      "outputs": [
        {
          "output_type": "stream",
          "name": "stderr",
          "text": [
            "/usr/local/lib/python3.9/dist-packages/sklearn/cluster/_kmeans.py:870: FutureWarning: The default value of `n_init` will change from 10 to 'auto' in 1.4. Set the value of `n_init` explicitly to suppress the warning\n",
            "  warnings.warn(\n",
            "/usr/local/lib/python3.9/dist-packages/sklearn/cluster/_kmeans.py:870: FutureWarning: The default value of `n_init` will change from 10 to 'auto' in 1.4. Set the value of `n_init` explicitly to suppress the warning\n",
            "  warnings.warn(\n"
          ]
        },
        {
          "output_type": "stream",
          "name": "stdout",
          "text": [
            "\n",
            "\n",
            "\n"
          ]
        },
        {
          "output_type": "stream",
          "name": "stderr",
          "text": [
            "/usr/local/lib/python3.9/dist-packages/sklearn/cluster/_kmeans.py:870: FutureWarning: The default value of `n_init` will change from 10 to 'auto' in 1.4. Set the value of `n_init` explicitly to suppress the warning\n",
            "  warnings.warn(\n",
            "/usr/local/lib/python3.9/dist-packages/sklearn/cluster/_kmeans.py:870: FutureWarning: The default value of `n_init` will change from 10 to 'auto' in 1.4. Set the value of `n_init` explicitly to suppress the warning\n",
            "  warnings.warn(\n"
          ]
        },
        {
          "output_type": "stream",
          "name": "stdout",
          "text": [
            "\n"
          ]
        },
        {
          "output_type": "stream",
          "name": "stderr",
          "text": [
            "/usr/local/lib/python3.9/dist-packages/sklearn/cluster/_kmeans.py:870: FutureWarning: The default value of `n_init` will change from 10 to 'auto' in 1.4. Set the value of `n_init` explicitly to suppress the warning\n",
            "  warnings.warn(\n"
          ]
        },
        {
          "output_type": "stream",
          "name": "stdout",
          "text": [
            "\n"
          ]
        },
        {
          "output_type": "stream",
          "name": "stderr",
          "text": [
            "/usr/local/lib/python3.9/dist-packages/sklearn/cluster/_kmeans.py:870: FutureWarning: The default value of `n_init` will change from 10 to 'auto' in 1.4. Set the value of `n_init` explicitly to suppress the warning\n",
            "  warnings.warn(\n"
          ]
        },
        {
          "output_type": "stream",
          "name": "stdout",
          "text": [
            "\n",
            "\n",
            "\n"
          ]
        },
        {
          "output_type": "stream",
          "name": "stderr",
          "text": [
            "/usr/local/lib/python3.9/dist-packages/sklearn/cluster/_kmeans.py:870: FutureWarning: The default value of `n_init` will change from 10 to 'auto' in 1.4. Set the value of `n_init` explicitly to suppress the warning\n",
            "  warnings.warn(\n",
            "/usr/local/lib/python3.9/dist-packages/sklearn/cluster/_kmeans.py:870: FutureWarning: The default value of `n_init` will change from 10 to 'auto' in 1.4. Set the value of `n_init` explicitly to suppress the warning\n",
            "  warnings.warn(\n",
            "/usr/local/lib/python3.9/dist-packages/sklearn/cluster/_kmeans.py:870: FutureWarning: The default value of `n_init` will change from 10 to 'auto' in 1.4. Set the value of `n_init` explicitly to suppress the warning\n",
            "  warnings.warn(\n"
          ]
        },
        {
          "output_type": "stream",
          "name": "stdout",
          "text": [
            "\n",
            "\n"
          ]
        },
        {
          "output_type": "stream",
          "name": "stderr",
          "text": [
            "/usr/local/lib/python3.9/dist-packages/sklearn/cluster/_kmeans.py:870: FutureWarning: The default value of `n_init` will change from 10 to 'auto' in 1.4. Set the value of `n_init` explicitly to suppress the warning\n",
            "  warnings.warn(\n"
          ]
        },
        {
          "output_type": "display_data",
          "data": {
            "text/plain": [
              "<Figure size 640x480 with 1 Axes>"
            ],
            "image/png": "[encoded data removed]"
          },
          "metadata": {}
        }
      ]
    },
    {
      "cell_type": "markdown",
      "source": [
        "*   3.2. From the obtained dengrograms, choose an appropriate number of clusters and apply **AgglomerativeClustering** algorithm to the given dataset"
      ],
      "metadata": {
        "id": "RJpsTIiyv-1h"
      }
    },
    {
      "cell_type": "code",
      "source": [
        "#code"
      ],
      "metadata": {
        "id": "5ZE7A0Au1Pg0"
      },
      "execution_count": null,
      "outputs": []
    },
    {
      "cell_type": "markdown",
      "source": [
        "#Finally,\n",
        "Save a copy in your Github. Remember renaming the notebook."
      ],
      "metadata": {
        "id": "Ok7RGkea_b7n"
      }
    }
  ]
}
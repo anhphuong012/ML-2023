{
  "nbformat": 4,
  "nbformat_minor": 0,
  "metadata": {
    "colab": {
      "provenance": [],
      "include_colab_link": true
    },
    "kernelspec": {
      "name": "python3",
      "display_name": "Python 3"
    },
    "language_info": {
      "name": "python"
    }
  },
  "cells": [
    {
      "cell_type": "markdown",
      "metadata": {
        "id": "view-in-github",
        "colab_type": "text"
      },
      "source": [
        "<a href=\"https://colab.research.google.com/github/anhphuong012/ML-2023/blob/main/Lab_6_20130371_NguyenNgocPhuong.ipynb\" target=\"_parent\"><img src=\"https://colab.research.google.com/assets/colab-badge.svg\" alt=\"Open In Colab\"/></a>"
      ]
    },
    {
      "cell_type": "markdown",
      "source": [
        "# This lab is to deal with classification task using **Random Forests** and **Naïve Bayes** algorithms with/without **Feature Selection**. \n",
        "\n",
        "*   **Deadline: 23:59, 25/03/2023**\n",
        "\n"
      ],
      "metadata": {
        "id": "LMzehe0sy5wr"
      }
    },
    {
      "cell_type": "markdown",
      "source": [
        "# Import libraries"
      ],
      "metadata": {
        "id": "H4nJmxp9zGX4"
      }
    },
    {
      "cell_type": "code",
      "execution_count": 43,
      "metadata": {
        "id": "DoVWQ8AEyc-C"
      },
      "outputs": [],
      "source": [
        "from sklearn.linear_model import LogisticRegression\n",
        "from sklearn.metrics import confusion_matrix,classification_report\n",
        "from sklearn.metrics import accuracy_score\n",
        "from sklearn.metrics import precision_score\n",
        "from sklearn.metrics import recall_score\n",
        "from sklearn.metrics import f1_score\n",
        "from sklearn import datasets\n",
        "from sklearn.model_selection import train_test_split\n",
        "from sklearn.metrics import ConfusionMatrixDisplay\n",
        "from sklearn.tree import DecisionTreeClassifier\n",
        "from sklearn.neighbors import KNeighborsClassifier\n",
        "from sklearn import svm\n",
        "import matplotlib.pyplot as plt\n",
        "from prettytable import PrettyTable\n",
        "from sklearn.ensemble import RandomForestClassifier\n",
        "from sklearn.naive_bayes import GaussianNB\n",
        "from sklearn.feature_selection import SelectKBest\n",
        "from sklearn.feature_selection import f_classif\n",
        "from sklearn.feature_selection import RFE\n",
        "from sklearn.linear_model import LogisticRegression\n",
        "from sklearn.decomposition import PCA\n",
        "from sklearn.ensemble import ExtraTreesClassifier\n",
        "import pandas as pd\n",
        "import numpy as np\n",
        "from sklearn.preprocessing import StandardScaler\n",
        "from sklearn.preprocessing import OneHotEncoder\n"
      ]
    },
    {
      "cell_type": "code",
      "source": [
        "from google.colab import drive\n",
        "drive.mount('/content/gdrive')\n",
        "%cd '/content/gdrive/MyDrive/lab'"
      ],
      "metadata": {
        "colab": {
          "base_uri": "https://localhost:8080/"
        },
        "id": "WjBZ6Bw5IMHP",
        "outputId": "5a3c5a3b-1c4f-414c-bb75-6978d77ceafa"
      },
      "execution_count": 18,
      "outputs": [
        {
          "output_type": "stream",
          "name": "stdout",
          "text": [
            "Mounted at /content/gdrive\n",
            "/content/gdrive/MyDrive/lab\n"
          ]
        }
      ]
    },
    {
      "cell_type": "markdown",
      "source": [
        "#Task 1. \n",
        "Task 1. Compare the performance of selected classification algorithms including **Random forest**, **NaiveBayes**, and **SVM** with **mnist** dataset based on **accuracy, precision, recall, f1** measures according to **without using selection feature** and **using selection feature**.\n",
        "\n"
      ],
      "metadata": {
        "id": "kNv07ARGzOUm"
      }
    },
    {
      "cell_type": "code",
      "source": [
        "# code\n",
        "mnist = datasets.load_digits()\n",
        "X = mnist['data']\n",
        "Y = mnist['target']\n",
        "X_train,X_test,Y_train,Y_test = train_test_split(X, Y, test_size = 0.2, random_state = 1)\n"
      ],
      "metadata": {
        "id": "sOsg77IBzEyo"
      },
      "execution_count": 4,
      "outputs": []
    },
    {
      "cell_type": "code",
      "source": [
        "clf=RandomForestClassifier(n_estimators=100)\n",
        "clf.fit(X_train,Y_train)\n",
        "y_pred_rd = clf.predict(X_test)\n",
        "cm_rd = confusion_matrix(Y_test,y_pred_rd);\n",
        "\n",
        "accuracy_rd = accuracy_score(Y_test,y_pred_rd)\n",
        "precision_rd = precision_score(Y_test,y_pred_rd,average='macro')\n",
        "recall_rd = recall_score(Y_test,y_pred_rd,average='macro')\n",
        "f1_rd = f1_score(Y_test,y_pred_rd,average='macro')\n",
        "\n",
        "print(accuracy_rd)"
      ],
      "metadata": {
        "colab": {
          "base_uri": "https://localhost:8080/"
        },
        "id": "CubwaK-rPtpK",
        "outputId": "3a506d57-8b72-4b8f-b88e-67e3151ac587"
      },
      "execution_count": null,
      "outputs": [
        {
          "output_type": "stream",
          "name": "stdout",
          "text": [
            "0.9833333333333333\n"
          ]
        }
      ]
    },
    {
      "cell_type": "code",
      "source": [
        "model = GaussianNB()\n",
        "model.fit(X_train, Y_train)\n",
        "y_pred_naive = model.predict(X_test)\n",
        "\n",
        "accuracy_naive = accuracy_score(Y_test,y_pred_naive)\n",
        "precision_naive = precision_score(Y_test,y_pred_naive,average='macro')\n",
        "recall_naive = recall_score(Y_test,y_pred_naive,average='macro')\n",
        "f1_naive = f1_score(Y_test,y_pred_naive,average='macro')\n",
        "\n",
        "print(accuracy_naive)"
      ],
      "metadata": {
        "colab": {
          "base_uri": "https://localhost:8080/"
        },
        "id": "TFd-8abdQewY",
        "outputId": "1f8db667-9d42-43a0-d743-f5dc510e9f80"
      },
      "execution_count": null,
      "outputs": [
        {
          "output_type": "stream",
          "name": "stdout",
          "text": [
            "0.8527777777777777\n"
          ]
        }
      ]
    },
    {
      "cell_type": "code",
      "source": [
        "clf = svm.SVC(kernel = 'linear')\n",
        "clf.fit(X_train,Y_train)\n",
        "y_pred = clf.predict(X_test)\n",
        "\n",
        "cm_svm = confusion_matrix(Y_test,y_pred);\n",
        "accuracy_svm = accuracy_score(Y_test,y_pred);\n",
        "precision_svm = precision_score(Y_test,y_pred,average='macro')\n",
        "recall_svm = recall_score(Y_test,y_pred,average='macro');\n",
        "f1_svm = f1_score(Y_test,y_pred,average='macro')\n",
        "\n",
        "print(accuracy_svm)"
      ],
      "metadata": {
        "colab": {
          "base_uri": "https://localhost:8080/"
        },
        "id": "sUpkLiD9Q_QI",
        "outputId": "837bf92a-f209-4d2f-dd39-4687c3eb6cb6"
      },
      "execution_count": null,
      "outputs": [
        {
          "output_type": "stream",
          "name": "stdout",
          "text": [
            "0.9916666666666667\n"
          ]
        }
      ]
    },
    {
      "cell_type": "code",
      "source": [
        "t = PrettyTable([\"Algorithms\",\"Accuracy\",\"Precision\",\"Recall\",\"F1\"])\n",
        "t.add_row(['SVM Linear kernel.',accuracy_svm,precision_svm,recall_svm,f1_svm])\n",
        "t.add_row(['Random forest.',accuracy_rd,precision_rd,recall_rd,f1_rd])\n",
        "t.add_row([' NaiveBayes.',accuracy_naive,precision_naive,recall_naive,f1_naive])\n",
        "print(t)"
      ],
      "metadata": {
        "colab": {
          "base_uri": "https://localhost:8080/"
        },
        "id": "5FsDFh-KRN1o",
        "outputId": "6a2a9371-d2d9-4ab0-c12b-71eeb26198a8"
      },
      "execution_count": null,
      "outputs": [
        {
          "output_type": "stream",
          "name": "stdout",
          "text": [
            "+--------------------+--------------------+--------------------+--------------------+--------------------+\n",
            "|     Algorithms     |      Accuracy      |     Precision      |       Recall       |         F1         |\n",
            "+--------------------+--------------------+--------------------+--------------------+--------------------+\n",
            "| SVM Linear kernel. | 0.9916666666666667 | 0.9908088235294118 | 0.9909078449646401 | 0.9907087680991878 |\n",
            "|   Random forest.   | 0.9805555555555555 | 0.9793885726333544 | 0.9813786333934547 | 0.980111364841426  |\n",
            "|     NaiveBayes.    | 0.8527777777777777 | 0.8780510866689003 | 0.8509574994840629 | 0.8476457455473201 |\n",
            "+--------------------+--------------------+--------------------+--------------------+--------------------+\n"
          ]
        }
      ]
    },
    {
      "cell_type": "code",
      "source": [
        "model = ExtraTreesClassifier(n_estimators=10)\n",
        "model.fit(X, Y)\n",
        "\n",
        "feature_imp = pd.Series(model.feature_importances_,index=mnist.feature_names).sort_values(ascending=False)\n",
        "features = feature_imp.index[0:20]\n",
        "print(features)\n"
      ],
      "metadata": {
        "colab": {
          "base_uri": "https://localhost:8080/"
        },
        "id": "dY-u4yxcYvmH",
        "outputId": "0a1a9ec0-129a-48d9-c0f2-09bd46a9f7e4"
      },
      "execution_count": 8,
      "outputs": [
        {
          "output_type": "stream",
          "name": "stdout",
          "text": [
            "Index(['pixel_2_5', 'pixel_7_5', 'pixel_5_2', 'pixel_3_3', 'pixel_3_2',\n",
            "       'pixel_3_4', 'pixel_5_3', 'pixel_4_2', 'pixel_2_4', 'pixel_4_4',\n",
            "       'pixel_1_5', 'pixel_2_3', 'pixel_5_4', 'pixel_2_2', 'pixel_6_2',\n",
            "       'pixel_4_1', 'pixel_3_6', 'pixel_6_6', 'pixel_1_2', 'pixel_5_5'],\n",
            "      dtype='object')\n"
          ]
        }
      ]
    },
    {
      "cell_type": "code",
      "source": [
        "df = pd.DataFrame(mnist['data'], columns = mnist.feature_names)\n",
        "df['species'] = mnist['target']\n",
        "# X1=df[['pixel_2_5', 'pixel_3_2', 'pixel_5_3','pixel_4_4','pixel_5_2','pixel_3_3','pixel_4_1','pixel_4_4','pixel_0_5','pixel_7_4']] \n",
        "X1 = df[features]\n",
        "y1=df['species']                                       \n",
        "# Split dataset into training set and test set\n",
        "X_train1, X_test1, y_train1, y_test1 = train_test_split(X1, y1, test_size=0.2, random_state=1)\n",
        "\n",
        "print(X1)\n",
        "\n"
      ],
      "metadata": {
        "id": "KmzFIchbZZgZ",
        "colab": {
          "base_uri": "https://localhost:8080/"
        },
        "outputId": "c0dde7ae-abd5-4ce2-c4b5-cfec049c3816"
      },
      "execution_count": 9,
      "outputs": [
        {
          "output_type": "stream",
          "name": "stdout",
          "text": [
            "      pixel_2_5  pixel_7_5  pixel_5_2  pixel_3_3  pixel_3_2  pixel_3_4  \\\n",
            "0          11.0        0.0       11.0        0.0       12.0        0.0   \n",
            "1           6.0       10.0        1.0       16.0       15.0       16.0   \n",
            "2          16.0       16.0       16.0        6.0        1.0       15.0   \n",
            "3           0.0        9.0        0.0       15.0        2.0       11.0   \n",
            "4           2.0        4.0       15.0       15.0        7.0        0.0   \n",
            "...         ...        ...        ...        ...        ...        ...   \n",
            "1792       16.0        9.0        0.0       16.0       12.0       16.0   \n",
            "1793       13.0        6.0       16.0        0.0       16.0        0.0   \n",
            "1794       16.0        6.0       16.0       16.0        8.0       16.0   \n",
            "1795       16.0       12.0        0.0       10.0       16.0        7.0   \n",
            "1796       15.0       12.0       16.0       16.0        5.0       16.0   \n",
            "\n",
            "      pixel_5_3  pixel_4_2  pixel_2_4  pixel_4_4  pixel_1_5  pixel_2_3  \\\n",
            "0           0.0        8.0        0.0        0.0       15.0        2.0   \n",
            "1          16.0        1.0       16.0       16.0        9.0       15.0   \n",
            "2          16.0        8.0        8.0       15.0       14.0       13.0   \n",
            "3           0.0        0.0       13.0       12.0        4.0       13.0   \n",
            "4          16.0       16.0        6.0        0.0        0.0       13.0   \n",
            "...         ...        ...        ...        ...        ...        ...   \n",
            "1792        0.0        0.0        3.0        4.0       16.0        6.0   \n",
            "1793        7.0       16.0        0.0        0.0       16.0        7.0   \n",
            "1794       14.0        9.0       10.0       16.0        2.0       15.0   \n",
            "1795        0.0        5.0        3.0       14.0       15.0        7.0   \n",
            "1796        6.0       12.0        8.0       15.0        1.0       15.0   \n",
            "\n",
            "      pixel_5_4  pixel_2_2  pixel_6_2  pixel_4_1  pixel_3_6  pixel_6_6  \\\n",
            "0           1.0       15.0       14.0        5.0        8.0        0.0   \n",
            "1          16.0        3.0        1.0        0.0        0.0        0.0   \n",
            "2           5.0        8.0       13.0        1.0        0.0        5.0   \n",
            "3           1.0        1.0        8.0        0.0        0.0        9.0   \n",
            "4          13.0        1.0        0.0        5.0        8.0        0.0   \n",
            "...         ...        ...        ...        ...        ...        ...   \n",
            "1792        0.0       16.0        5.0        0.0        5.0        4.0   \n",
            "1793        9.0       16.0       15.0        8.0        8.0        1.0   \n",
            "1794       16.0       16.0       15.0        0.0        0.0        0.0   \n",
            "1795        0.0       16.0        4.0        0.0        4.0        2.0   \n",
            "1796        4.0       15.0       16.0        0.0        0.0        8.0   \n",
            "\n",
            "      pixel_1_2  pixel_5_5  \n",
            "0          13.0       12.0  \n",
            "1           0.0        6.0  \n",
            "2           3.0        0.0  \n",
            "3          13.0       10.0  \n",
            "4           0.0       16.0  \n",
            "...         ...        ...  \n",
            "1792       16.0       15.0  \n",
            "1793       16.0       16.0  \n",
            "1794       13.0       15.0  \n",
            "1795       14.0       16.0  \n",
            "1796       16.0       16.0  \n",
            "\n",
            "[1797 rows x 20 columns]\n"
          ]
        }
      ]
    },
    {
      "cell_type": "code",
      "source": [
        "clf=RandomForestClassifier(n_estimators=100)\n",
        "\n",
        "#Train the model using the training sets y_pred=clf.predict(X_test)\n",
        "clf.fit(X_train1,y_train1)\n",
        "\n",
        "# prediction on test set\n",
        "y_pred1=clf.predict(X_test1)\n",
        "\n",
        "accuracy_rd = accuracy_score(y_test1, y_pred1)\n",
        "precision_rd = precision_score(y_test1,y_pred1,average='macro')\n",
        "recall_rd = recall_score(y_test1,y_pred1,average='macro')\n",
        "f1_rd = f1_score(y_test1,y_pred1,average='macro')\n",
        "\n",
        "print(accuracy_rd)\n"
      ],
      "metadata": {
        "colab": {
          "base_uri": "https://localhost:8080/"
        },
        "id": "UvOYljrObkcY",
        "outputId": "5dca8054-a8da-48a0-a4f6-3888c3ac7a95"
      },
      "execution_count": 10,
      "outputs": [
        {
          "output_type": "stream",
          "name": "stdout",
          "text": [
            "0.9694444444444444\n"
          ]
        }
      ]
    },
    {
      "cell_type": "code",
      "source": [
        "gau = GaussianNB()\n",
        "gau.fit(X_train1, y_train1)\n",
        "y_pred_naive = gau.predict(X_test1)\n",
        "\n",
        "accuracy_naive = accuracy_score(y_test1,y_pred_naive)\n",
        "precision_naive = precision_score(y_test1,y_pred_naive,average='macro')\n",
        "recall_naive = recall_score(y_test1,y_pred_naive,average='macro')\n",
        "f1_naive = f1_score(y_test1,y_pred_naive,average='macro')\n",
        "\n",
        "print(accuracy_naive)"
      ],
      "metadata": {
        "colab": {
          "base_uri": "https://localhost:8080/"
        },
        "id": "9sbBzq-bez_A",
        "outputId": "78511ed1-ab48-4d37-b5a8-7b29b0c62874"
      },
      "execution_count": 11,
      "outputs": [
        {
          "output_type": "stream",
          "name": "stdout",
          "text": [
            "0.8888888888888888\n"
          ]
        }
      ]
    },
    {
      "cell_type": "code",
      "source": [
        "clf = svm.SVC(kernel = 'linear')\n",
        "clf.fit(X_train1,y_train1)\n",
        "y_pred = clf.predict(X_test1)\n",
        "\n",
        "cm_svm = confusion_matrix(y_test1,y_pred);\n",
        "accuracy_svm = accuracy_score(y_test1,y_pred);\n",
        "precision_svm = precision_score(y_test1,y_pred,average='macro')\n",
        "recall_svm = recall_score(y_test1,y_pred,average='macro');\n",
        "f1_svm = f1_score(y_test1,y_pred,average='macro')\n",
        "\n",
        "print(accuracy_svm)"
      ],
      "metadata": {
        "colab": {
          "base_uri": "https://localhost:8080/"
        },
        "id": "FYN5Q52Mfaco",
        "outputId": "2deefab3-7c05-4271-e341-aa57b1da8937"
      },
      "execution_count": 12,
      "outputs": [
        {
          "output_type": "stream",
          "name": "stdout",
          "text": [
            "0.9694444444444444\n"
          ]
        }
      ]
    },
    {
      "cell_type": "code",
      "source": [],
      "metadata": {
        "id": "xpmx4GsWB-El"
      },
      "execution_count": null,
      "outputs": []
    },
    {
      "cell_type": "code",
      "source": [
        "t = PrettyTable([\"Algorithms\",\"Accuracy\",\"Precision\",\"Recall\",\"F1\"])\n",
        "t.add_row(['SVM Linear kernel.',accuracy_svm,precision_svm,recall_svm,f1_svm])\n",
        "t.add_row(['Random forest.',accuracy_rd,precision_rd,recall_rd,f1_rd])\n",
        "t.add_row([' NaiveBayes.',accuracy_naive,precision_naive,recall_naive,f1_naive])\n",
        "print(t)"
      ],
      "metadata": {
        "colab": {
          "base_uri": "https://localhost:8080/"
        },
        "id": "z-hI84rRfj_P",
        "outputId": "e0531194-be8a-4259-f0c9-fee9edd104e9"
      },
      "execution_count": 13,
      "outputs": [
        {
          "output_type": "stream",
          "name": "stdout",
          "text": [
            "+--------------------+--------------------+--------------------+--------------------+--------------------+\n",
            "|     Algorithms     |      Accuracy      |     Precision      |       Recall       |         F1         |\n",
            "+--------------------+--------------------+--------------------+--------------------+--------------------+\n",
            "| SVM Linear kernel. | 0.9694444444444444 | 0.969356558192765  | 0.9664095274642943 | 0.9674645430323799 |\n",
            "|   Random forest.   | 0.9694444444444444 | 0.9702341861324939 | 0.9685482751005228 | 0.9687820358206702 |\n",
            "|     NaiveBayes.    | 0.8888888888888888 | 0.8954504312244251 | 0.8835750252371943 | 0.8859060151899467 |\n",
            "+--------------------+--------------------+--------------------+--------------------+--------------------+\n"
          ]
        }
      ]
    },
    {
      "cell_type": "markdown",
      "source": [
        "#Task 2. \n",
        "For given bank dataset (bank.csv) having the following attributes :\n",
        "1.\t**age** (numeric)\n",
        "2.\t**job** : type of job (categorical: 'admin.','blue-collar','entrepreneur','housemaid','management','retired','self-employed','services','student','technician','unemployed','unknown')\n",
        "3.\t**marital** : marital status (categorical: 'divorced','married','single','unknown'; note: 'divorced' means divorced or widowed)\n",
        "4.\t**education** (categorical: 'basic.4y','basic.6y','basic.9y','high.school','illiterate','professional.course','university.degree','unknown')\n",
        "5.\t**default**: has credit in default? (categorical: 'no','yes','unknown')\n",
        "6.\t**housing**: has housing loan? (categorical: 'no','yes','unknown')\n",
        "7.\t**loan**: has personal loan? (categorical: 'no','yes','unknown')\n",
        "8.\t**contact**: contact communication type (categorical: 'cellular','telephone')\n",
        "9.\t**month**: last contact month of year (categorical: 'jan', 'feb', 'mar', ..., 'nov', 'dec')\n",
        "10.\t**day_of_week**: last contact day of the week (categorical: 'mon','tue','wed','thu','fri')\n",
        "11.\t**duration**: last contact duration, in seconds (numeric). Important note: this attribute highly affects the output target (e.g., if duration=0 then y='no'). Yet, the duration is not known before a call is performed. Also, after the end of the call y is obviously known. Thus, this input should only be included for benchmark purposes and should be discarded if the intention is to have a realistic predictive model.\n",
        "12.\t**campaign**: number of contacts performed during this campaign and for this client (numeric, includes last contact)\n",
        "13.\t**pdays**: number of days that passed by after the client was last contacted from a previous campaign (numeric; 999 means client was not previously contacted)\n",
        "14.\t**previous**: number of contacts performed before this campaign and for this client (numeric)\n",
        "15.\t**poutcome**: outcome of the previous marketing campaign (categorical: 'failure','nonexistent','success')\n",
        "Output variable (desired target):\n",
        "16.\t**y**. has the client subscribed a term deposit? (binary: 'yes','no')\n",
        "\n"
      ],
      "metadata": {
        "id": "b52OPWPD2afi"
      }
    },
    {
      "cell_type": "code",
      "source": [
        "data = pd.read_csv(\"bank.csv\")\n",
        "data"
      ],
      "metadata": {
        "colab": {
          "base_uri": "https://localhost:8080/",
          "height": 424
        },
        "id": "z0M5NsYHf3rH",
        "outputId": "e5fa843a-81fb-4c9d-cc99-c0fa8362b1ff"
      },
      "execution_count": 19,
      "outputs": [
        {
          "output_type": "execute_result",
          "data": {
            "text/plain": [
              "       age          job  marital  education default  balance housing loan  \\\n",
              "0       59       admin.  married  secondary      no     2343     yes   no   \n",
              "1       56       admin.  married  secondary      no       45      no   no   \n",
              "2       41   technician  married  secondary      no     1270     yes   no   \n",
              "3       55     services  married  secondary      no     2476     yes   no   \n",
              "4       54       admin.  married   tertiary      no      184      no   no   \n",
              "...    ...          ...      ...        ...     ...      ...     ...  ...   \n",
              "11157   33  blue-collar   single    primary      no        1     yes   no   \n",
              "11158   39     services  married  secondary      no      733      no   no   \n",
              "11159   32   technician   single  secondary      no       29      no   no   \n",
              "11160   43   technician  married  secondary      no        0      no  yes   \n",
              "11161   34   technician  married  secondary      no        0      no   no   \n",
              "\n",
              "        contact  day month  duration  campaign  pdays  previous poutcome  \\\n",
              "0       unknown    5   may      1042         1     -1         0  unknown   \n",
              "1       unknown    5   may      1467         1     -1         0  unknown   \n",
              "2       unknown    5   may      1389         1     -1         0  unknown   \n",
              "3       unknown    5   may       579         1     -1         0  unknown   \n",
              "4       unknown    5   may       673         2     -1         0  unknown   \n",
              "...         ...  ...   ...       ...       ...    ...       ...      ...   \n",
              "11157  cellular   20   apr       257         1     -1         0  unknown   \n",
              "11158   unknown   16   jun        83         4     -1         0  unknown   \n",
              "11159  cellular   19   aug       156         2     -1         0  unknown   \n",
              "11160  cellular    8   may         9         2    172         5  failure   \n",
              "11161  cellular    9   jul       628         1     -1         0  unknown   \n",
              "\n",
              "      deposit  \n",
              "0         yes  \n",
              "1         yes  \n",
              "2         yes  \n",
              "3         yes  \n",
              "4         yes  \n",
              "...       ...  \n",
              "11157      no  \n",
              "11158      no  \n",
              "11159      no  \n",
              "11160      no  \n",
              "11161      no  \n",
              "\n",
              "[11162 rows x 17 columns]"
            ],
            "text/html": [
              "\n",
              "  <div id=\"df-d0ba367c-8f71-4b9f-8e72-b11697c54d00\">\n",
              "    <div class=\"colab-df-container\">\n",
              "      <div>\n",
              "<style scoped>\n",
              "    .dataframe tbody tr th:only-of-type {\n",
              "        vertical-align: middle;\n",
              "    }\n",
              "\n",
              "    .dataframe tbody tr th {\n",
              "        vertical-align: top;\n",
              "    }\n",
              "\n",
              "    .dataframe thead th {\n",
              "        text-align: right;\n",
              "    }\n",
              "</style>\n",
              "<table border=\"1\" class=\"dataframe\">\n",
              "  <thead>\n",
              "    <tr style=\"text-align: right;\">\n",
              "      <th></th>\n",
              "      <th>age</th>\n",
              "      <th>job</th>\n",
              "      <th>marital</th>\n",
              "      <th>education</th>\n",
              "      <th>default</th>\n",
              "      <th>balance</th>\n",
              "      <th>housing</th>\n",
              "      <th>loan</th>\n",
              "      <th>contact</th>\n",
              "      <th>day</th>\n",
              "      <th>month</th>\n",
              "      <th>duration</th>\n",
              "      <th>campaign</th>\n",
              "      <th>pdays</th>\n",
              "      <th>previous</th>\n",
              "      <th>poutcome</th>\n",
              "      <th>deposit</th>\n",
              "    </tr>\n",
              "  </thead>\n",
              "  <tbody>\n",
              "    <tr>\n",
              "      <th>0</th>\n",
              "      <td>59</td>\n",
              "      <td>admin.</td>\n",
              "      <td>married</td>\n",
              "      <td>secondary</td>\n",
              "      <td>no</td>\n",
              "      <td>2343</td>\n",
              "      <td>yes</td>\n",
              "      <td>no</td>\n",
              "      <td>unknown</td>\n",
              "      <td>5</td>\n",
              "      <td>may</td>\n",
              "      <td>1042</td>\n",
              "      <td>1</td>\n",
              "      <td>-1</td>\n",
              "      <td>0</td>\n",
              "      <td>unknown</td>\n",
              "      <td>yes</td>\n",
              "    </tr>\n",
              "    <tr>\n",
              "      <th>1</th>\n",
              "      <td>56</td>\n",
              "      <td>admin.</td>\n",
              "      <td>married</td>\n",
              "      <td>secondary</td>\n",
              "      <td>no</td>\n",
              "      <td>45</td>\n",
              "      <td>no</td>\n",
              "      <td>no</td>\n",
              "      <td>unknown</td>\n",
              "      <td>5</td>\n",
              "      <td>may</td>\n",
              "      <td>1467</td>\n",
              "      <td>1</td>\n",
              "      <td>-1</td>\n",
              "      <td>0</td>\n",
              "      <td>unknown</td>\n",
              "      <td>yes</td>\n",
              "    </tr>\n",
              "    <tr>\n",
              "      <th>2</th>\n",
              "      <td>41</td>\n",
              "      <td>technician</td>\n",
              "      <td>married</td>\n",
              "      <td>secondary</td>\n",
              "      <td>no</td>\n",
              "      <td>1270</td>\n",
              "      <td>yes</td>\n",
              "      <td>no</td>\n",
              "      <td>unknown</td>\n",
              "      <td>5</td>\n",
              "      <td>may</td>\n",
              "      <td>1389</td>\n",
              "      <td>1</td>\n",
              "      <td>-1</td>\n",
              "      <td>0</td>\n",
              "      <td>unknown</td>\n",
              "      <td>yes</td>\n",
              "    </tr>\n",
              "    <tr>\n",
              "      <th>3</th>\n",
              "      <td>55</td>\n",
              "      <td>services</td>\n",
              "      <td>married</td>\n",
              "      <td>secondary</td>\n",
              "      <td>no</td>\n",
              "      <td>2476</td>\n",
              "      <td>yes</td>\n",
              "      <td>no</td>\n",
              "      <td>unknown</td>\n",
              "      <td>5</td>\n",
              "      <td>may</td>\n",
              "      <td>579</td>\n",
              "      <td>1</td>\n",
              "      <td>-1</td>\n",
              "      <td>0</td>\n",
              "      <td>unknown</td>\n",
              "      <td>yes</td>\n",
              "    </tr>\n",
              "    <tr>\n",
              "      <th>4</th>\n",
              "      <td>54</td>\n",
              "      <td>admin.</td>\n",
              "      <td>married</td>\n",
              "      <td>tertiary</td>\n",
              "      <td>no</td>\n",
              "      <td>184</td>\n",
              "      <td>no</td>\n",
              "      <td>no</td>\n",
              "      <td>unknown</td>\n",
              "      <td>5</td>\n",
              "      <td>may</td>\n",
              "      <td>673</td>\n",
              "      <td>2</td>\n",
              "      <td>-1</td>\n",
              "      <td>0</td>\n",
              "      <td>unknown</td>\n",
              "      <td>yes</td>\n",
              "    </tr>\n",
              "    <tr>\n",
              "      <th>...</th>\n",
              "      <td>...</td>\n",
              "      <td>...</td>\n",
              "      <td>...</td>\n",
              "      <td>...</td>\n",
              "      <td>...</td>\n",
              "      <td>...</td>\n",
              "      <td>...</td>\n",
              "      <td>...</td>\n",
              "      <td>...</td>\n",
              "      <td>...</td>\n",
              "      <td>...</td>\n",
              "      <td>...</td>\n",
              "      <td>...</td>\n",
              "      <td>...</td>\n",
              "      <td>...</td>\n",
              "      <td>...</td>\n",
              "      <td>...</td>\n",
              "    </tr>\n",
              "    <tr>\n",
              "      <th>11157</th>\n",
              "      <td>33</td>\n",
              "      <td>blue-collar</td>\n",
              "      <td>single</td>\n",
              "      <td>primary</td>\n",
              "      <td>no</td>\n",
              "      <td>1</td>\n",
              "      <td>yes</td>\n",
              "      <td>no</td>\n",
              "      <td>cellular</td>\n",
              "      <td>20</td>\n",
              "      <td>apr</td>\n",
              "      <td>257</td>\n",
              "      <td>1</td>\n",
              "      <td>-1</td>\n",
              "      <td>0</td>\n",
              "      <td>unknown</td>\n",
              "      <td>no</td>\n",
              "    </tr>\n",
              "    <tr>\n",
              "      <th>11158</th>\n",
              "      <td>39</td>\n",
              "      <td>services</td>\n",
              "      <td>married</td>\n",
              "      <td>secondary</td>\n",
              "      <td>no</td>\n",
              "      <td>733</td>\n",
              "      <td>no</td>\n",
              "      <td>no</td>\n",
              "      <td>unknown</td>\n",
              "      <td>16</td>\n",
              "      <td>jun</td>\n",
              "      <td>83</td>\n",
              "      <td>4</td>\n",
              "      <td>-1</td>\n",
              "      <td>0</td>\n",
              "      <td>unknown</td>\n",
              "      <td>no</td>\n",
              "    </tr>\n",
              "    <tr>\n",
              "      <th>11159</th>\n",
              "      <td>32</td>\n",
              "      <td>technician</td>\n",
              "      <td>single</td>\n",
              "      <td>secondary</td>\n",
              "      <td>no</td>\n",
              "      <td>29</td>\n",
              "      <td>no</td>\n",
              "      <td>no</td>\n",
              "      <td>cellular</td>\n",
              "      <td>19</td>\n",
              "      <td>aug</td>\n",
              "      <td>156</td>\n",
              "      <td>2</td>\n",
              "      <td>-1</td>\n",
              "      <td>0</td>\n",
              "      <td>unknown</td>\n",
              "      <td>no</td>\n",
              "    </tr>\n",
              "    <tr>\n",
              "      <th>11160</th>\n",
              "      <td>43</td>\n",
              "      <td>technician</td>\n",
              "      <td>married</td>\n",
              "      <td>secondary</td>\n",
              "      <td>no</td>\n",
              "      <td>0</td>\n",
              "      <td>no</td>\n",
              "      <td>yes</td>\n",
              "      <td>cellular</td>\n",
              "      <td>8</td>\n",
              "      <td>may</td>\n",
              "      <td>9</td>\n",
              "      <td>2</td>\n",
              "      <td>172</td>\n",
              "      <td>5</td>\n",
              "      <td>failure</td>\n",
              "      <td>no</td>\n",
              "    </tr>\n",
              "    <tr>\n",
              "      <th>11161</th>\n",
              "      <td>34</td>\n",
              "      <td>technician</td>\n",
              "      <td>married</td>\n",
              "      <td>secondary</td>\n",
              "      <td>no</td>\n",
              "      <td>0</td>\n",
              "      <td>no</td>\n",
              "      <td>no</td>\n",
              "      <td>cellular</td>\n",
              "      <td>9</td>\n",
              "      <td>jul</td>\n",
              "      <td>628</td>\n",
              "      <td>1</td>\n",
              "      <td>-1</td>\n",
              "      <td>0</td>\n",
              "      <td>unknown</td>\n",
              "      <td>no</td>\n",
              "    </tr>\n",
              "  </tbody>\n",
              "</table>\n",
              "<p>11162 rows × 17 columns</p>\n",
              "</div>\n",
              "      <button class=\"colab-df-convert\" onclick=\"convertToInteractive('df-d0ba367c-8f71-4b9f-8e72-b11697c54d00')\"\n",
              "              title=\"Convert this dataframe to an interactive table.\"\n",
              "              style=\"display:none;\">\n",
              "        \n",
              "  <svg xmlns=\"http://www.w3.org/2000/svg\" height=\"24px\"viewBox=\"0 0 24 24\"\n",
              "       width=\"24px\">\n",
              "    <path d=\"M0 0h24v24H0V0z\" fill=\"none\"/>\n",
              "    <path d=\"M18.56 5.44l.94 2.06.94-2.06 2.06-.94-2.06-.94-.94-2.06-.94 2.06-2.06.94zm-11 1L8.5 8.5l.94-2.06 2.06-.94-2.06-.94L8.5 2.5l-.94 2.06-2.06.94zm10 10l.94 2.06.94-2.06 2.06-.94-2.06-.94-.94-2.06-.94 2.06-2.06.94z\"/><path d=\"M17.41 7.96l-1.37-1.37c-.4-.4-.92-.59-1.43-.59-.52 0-1.04.2-1.43.59L10.3 9.45l-7.72 7.72c-.78.78-.78 2.05 0 2.83L4 21.41c.39.39.9.59 1.41.59.51 0 1.02-.2 1.41-.59l7.78-7.78 2.81-2.81c.8-.78.8-2.07 0-2.86zM5.41 20L4 18.59l7.72-7.72 1.47 1.35L5.41 20z\"/>\n",
              "  </svg>\n",
              "      </button>\n",
              "      \n",
              "  <style>\n",
              "    .colab-df-container {\n",
              "      display:flex;\n",
              "      flex-wrap:wrap;\n",
              "      gap: 12px;\n",
              "    }\n",
              "\n",
              "    .colab-df-convert {\n",
              "      background-color: #E8F0FE;\n",
              "      border: none;\n",
              "      border-radius: 50%;\n",
              "      cursor: pointer;\n",
              "      display: none;\n",
              "      fill: #1967D2;\n",
              "      height: 32px;\n",
              "      padding: 0 0 0 0;\n",
              "      width: 32px;\n",
              "    }\n",
              "\n",
              "    .colab-df-convert:hover {\n",
              "      background-color: #E2EBFA;\n",
              "      box-shadow: 0px 1px 2px rgba(60, 64, 67, 0.3), 0px 1px 3px 1px rgba(60, 64, 67, 0.15);\n",
              "      fill: #174EA6;\n",
              "    }\n",
              "\n",
              "    [theme=dark] .colab-df-convert {\n",
              "      background-color: #3B4455;\n",
              "      fill: #D2E3FC;\n",
              "    }\n",
              "\n",
              "    [theme=dark] .colab-df-convert:hover {\n",
              "      background-color: #434B5C;\n",
              "      box-shadow: 0px 1px 3px 1px rgba(0, 0, 0, 0.15);\n",
              "      filter: drop-shadow(0px 1px 2px rgba(0, 0, 0, 0.3));\n",
              "      fill: #FFFFFF;\n",
              "    }\n",
              "  </style>\n",
              "\n",
              "      <script>\n",
              "        const buttonEl =\n",
              "          document.querySelector('#df-d0ba367c-8f71-4b9f-8e72-b11697c54d00 button.colab-df-convert');\n",
              "        buttonEl.style.display =\n",
              "          google.colab.kernel.accessAllowed ? 'block' : 'none';\n",
              "\n",
              "        async function convertToInteractive(key) {\n",
              "          const element = document.querySelector('#df-d0ba367c-8f71-4b9f-8e72-b11697c54d00');\n",
              "          const dataTable =\n",
              "            await google.colab.kernel.invokeFunction('convertToInteractive',\n",
              "                                                     [key], {});\n",
              "          if (!dataTable) return;\n",
              "\n",
              "          const docLinkHtml = 'Like what you see? Visit the ' +\n",
              "            '<a target=\"_blank\" href=https://colab.research.google.com/notebooks/data_table.ipynb>data table notebook</a>'\n",
              "            + ' to learn more about interactive tables.';\n",
              "          element.innerHTML = '';\n",
              "          dataTable['output_type'] = 'display_data';\n",
              "          await google.colab.output.renderOutput(dataTable, element);\n",
              "          const docLink = document.createElement('div');\n",
              "          docLink.innerHTML = docLinkHtml;\n",
              "          element.appendChild(docLink);\n",
              "        }\n",
              "      </script>\n",
              "    </div>\n",
              "  </div>\n",
              "  "
            ]
          },
          "metadata": {},
          "execution_count": 19
        }
      ]
    },
    {
      "cell_type": "markdown",
      "source": [
        "#3.1. Apply StandardScaler() function to columns that contains numerical data ('age', 'balance', 'day', 'campaign', 'pdays', 'previous')"
      ],
      "metadata": {
        "id": "q89LEvT7dqaZ"
      }
    },
    {
      "cell_type": "code",
      "source": [
        "#\n",
        "scale = StandardScaler()\n",
        "\n",
        "cols_name = ['age', 'balance', 'day', 'campaign', 'pdays', 'previous']\n",
        "data[cols_name] = scale.fit_transform(data[cols_name])\n",
        "print(data)"
      ],
      "metadata": {
        "id": "8vx3mfIidu4P",
        "colab": {
          "base_uri": "https://localhost:8080/"
        },
        "outputId": "e19fdedc-becd-4a22-9bb9-842d6a180a55"
      },
      "execution_count": 67,
      "outputs": [
        {
          "output_type": "stream",
          "name": "stdout",
          "text": [
            "            age          job  marital  education default   balance housing  \\\n",
            "0      1.491505       admin.  married  secondary      no  0.252525     yes   \n",
            "1      1.239676       admin.  married  secondary      no -0.459974      no   \n",
            "2     -0.019470   technician  married  secondary      no -0.080160     yes   \n",
            "3      1.155733     services  married  secondary      no  0.293762     yes   \n",
            "4      1.071790       admin.  married   tertiary      no -0.416876      no   \n",
            "...         ...          ...      ...        ...     ...       ...     ...   \n",
            "11157 -0.691015  blue-collar   single    primary      no -0.473616     yes   \n",
            "11158 -0.187357     services  married  secondary      no -0.246658      no   \n",
            "11159 -0.774958   technician   single  secondary      no -0.464934      no   \n",
            "11160  0.148416   technician  married  secondary      no -0.473926      no   \n",
            "11161 -0.607072   technician  married  secondary      no -0.473926      no   \n",
            "\n",
            "      loan   contact       day month  duration  campaign     pdays  previous  \\\n",
            "0       no   unknown -1.265746   may      1042 -0.554168 -0.481184 -0.363260   \n",
            "1       no   unknown -1.265746   may      1467 -0.554168 -0.481184 -0.363260   \n",
            "2       no   unknown -1.265746   may      1389 -0.554168 -0.481184 -0.363260   \n",
            "3       no   unknown -1.265746   may       579 -0.554168 -0.481184 -0.363260   \n",
            "4       no   unknown -1.265746   may       673 -0.186785 -0.481184 -0.363260   \n",
            "...    ...       ...       ...   ...       ...       ...       ...       ...   \n",
            "11157   no  cellular  0.515650   apr       257 -0.554168 -0.481184 -0.363260   \n",
            "11158   no   unknown  0.040612   jun        83  0.547981 -0.481184 -0.363260   \n",
            "11159   no  cellular  0.396891   aug       156 -0.186785 -0.481184 -0.363260   \n",
            "11160  yes  cellular -0.909466   may         9 -0.186785  1.109571  1.818332   \n",
            "11161   no  cellular -0.790707   jul       628 -0.554168 -0.481184 -0.363260   \n",
            "\n",
            "      poutcome deposit  \n",
            "0      unknown     yes  \n",
            "1      unknown     yes  \n",
            "2      unknown     yes  \n",
            "3      unknown     yes  \n",
            "4      unknown     yes  \n",
            "...        ...     ...  \n",
            "11157  unknown      no  \n",
            "11158  unknown      no  \n",
            "11159  unknown      no  \n",
            "11160  failure      no  \n",
            "11161  unknown      no  \n",
            "\n",
            "[11162 rows x 17 columns]\n"
          ]
        }
      ]
    },
    {
      "cell_type": "markdown",
      "source": [
        "#3.2. Apply Encode Categorical Value (OneHotEncoder) to transfrom categorical data to numerical data ('job', 'marital', 'education', 'default', 'housing', 'loan', 'contact', 'month', 'poutcome')"
      ],
      "metadata": {
        "id": "r7acR0TxdvY8"
      }
    },
    {
      "cell_type": "code",
      "source": [
        "#code\n",
        "enc = OneHotEncoder()\n",
        "cols_name = ['job', 'marital', 'education', 'default', 'housing', 'loan', 'contact', 'month', 'poutcome']\n",
        "\n",
        "\n",
        "\n",
        "\n",
        "\n",
        "\n",
        "\n",
        "\n"
      ],
      "metadata": {
        "id": "egtgBmAtd0um"
      },
      "execution_count": 78,
      "outputs": []
    },
    {
      "cell_type": "markdown",
      "source": [
        "#3.3. Apply **Decision tree, Random forest, kNN, NaïveBayes** to preproceed dataset in the previous steps. Then compare the obtained results using **accuracy, precision, recall, f1** measures."
      ],
      "metadata": {
        "id": "K2Si6d69d1nh"
      }
    },
    {
      "cell_type": "code",
      "source": [
        "#code"
      ],
      "metadata": {
        "id": "Ouil-cf_d8jW"
      },
      "execution_count": null,
      "outputs": []
    },
    {
      "cell_type": "markdown",
      "source": [
        "#3.4. Using selection feature to above dataset, then compare the classification results with those in Task 2.3. "
      ],
      "metadata": {
        "id": "SweVRB4meApP"
      }
    },
    {
      "cell_type": "code",
      "source": [
        "#code"
      ],
      "metadata": {
        "id": "seFBhqCSeC7C"
      },
      "execution_count": null,
      "outputs": []
    },
    {
      "cell_type": "markdown",
      "source": [
        "#Task 4. \n",
        "For a given dataset in the Lab #5 (**credit card dataset**), perform feature selection and thencompare the performance of selected classification algorithms (Decision Tree, kNN, Logistic Regression, SVM, Random Forest and NaiveBayes) based on accuracy, precision, recall, f1 measures.\n"
      ],
      "metadata": {
        "id": "Z5pp7_h-aP2u"
      }
    },
    {
      "cell_type": "code",
      "source": [
        "\n",
        "\n",
        "# code\n",
        "data = pd.read_csv('creditcard.csv')\n",
        "colums = data.columns\n",
        "\n",
        "X = data[colums[0:colums.size - 1]]\n",
        "Y = data[colums[colums.size - 1]]\n",
        "\n",
        "model = ExtraTreesClassifier(n_estimators=10)\n",
        "model.fit(X, Y)\n",
        "\n",
        "feature_imp = pd.Series(model.feature_importances_,index=colums[0:colums.size - 1]).sort_values(ascending=False)\n",
        "features = feature_imp.index[0:9]\n",
        "print(features)\n"
      ],
      "metadata": {
        "id": "Rw_-8FIf2KxW",
        "colab": {
          "base_uri": "https://localhost:8080/"
        },
        "outputId": "820d2dc9-6f56-4079-f101-f851e3767e21"
      },
      "execution_count": 103,
      "outputs": [
        {
          "output_type": "stream",
          "name": "stdout",
          "text": [
            "            Time         V1         V2        V3        V4        V5  \\\n",
            "0            0.0  -1.359807  -0.072781  2.536347  1.378155 -0.338321   \n",
            "1            0.0   1.191857   0.266151  0.166480  0.448154  0.060018   \n",
            "2            1.0  -1.358354  -1.340163  1.773209  0.379780 -0.503198   \n",
            "3            1.0  -0.966272  -0.185226  1.792993 -0.863291 -0.010309   \n",
            "4            2.0  -1.158233   0.877737  1.548718  0.403034 -0.407193   \n",
            "...          ...        ...        ...       ...       ...       ...   \n",
            "284802  172786.0 -11.881118  10.071785 -9.834783 -2.066656 -5.364473   \n",
            "284803  172787.0  -0.732789  -0.055080  2.035030 -0.738589  0.868229   \n",
            "284804  172788.0   1.919565  -0.301254 -3.249640 -0.557828  2.630515   \n",
            "284805  172788.0  -0.240440   0.530483  0.702510  0.689799 -0.377961   \n",
            "284806  172792.0  -0.533413  -0.189733  0.703337 -0.506271 -0.012546   \n",
            "\n",
            "              V6        V7        V8        V9  ...       V21       V22  \\\n",
            "0       0.462388  0.239599  0.098698  0.363787  ... -0.018307  0.277838   \n",
            "1      -0.082361 -0.078803  0.085102 -0.255425  ... -0.225775 -0.638672   \n",
            "2       1.800499  0.791461  0.247676 -1.514654  ...  0.247998  0.771679   \n",
            "3       1.247203  0.237609  0.377436 -1.387024  ... -0.108300  0.005274   \n",
            "4       0.095921  0.592941 -0.270533  0.817739  ... -0.009431  0.798278   \n",
            "...          ...       ...       ...       ...  ...       ...       ...   \n",
            "284802 -2.606837 -4.918215  7.305334  1.914428  ...  0.213454  0.111864   \n",
            "284803  1.058415  0.024330  0.294869  0.584800  ...  0.214205  0.924384   \n",
            "284804  3.031260 -0.296827  0.708417  0.432454  ...  0.232045  0.578229   \n",
            "284805  0.623708 -0.686180  0.679145  0.392087  ...  0.265245  0.800049   \n",
            "284806 -0.649617  1.577006 -0.414650  0.486180  ...  0.261057  0.643078   \n",
            "\n",
            "             V23       V24       V25       V26       V27       V28  Amount  \\\n",
            "0      -0.110474  0.066928  0.128539 -0.189115  0.133558 -0.021053  149.62   \n",
            "1       0.101288 -0.339846  0.167170  0.125895 -0.008983  0.014724    2.69   \n",
            "2       0.909412 -0.689281 -0.327642 -0.139097 -0.055353 -0.059752  378.66   \n",
            "3      -0.190321 -1.175575  0.647376 -0.221929  0.062723  0.061458  123.50   \n",
            "4      -0.137458  0.141267 -0.206010  0.502292  0.219422  0.215153   69.99   \n",
            "...          ...       ...       ...       ...       ...       ...     ...   \n",
            "284802  1.014480 -0.509348  1.436807  0.250034  0.943651  0.823731    0.77   \n",
            "284803  0.012463 -1.016226 -0.606624 -0.395255  0.068472 -0.053527   24.79   \n",
            "284804 -0.037501  0.640134  0.265745 -0.087371  0.004455 -0.026561   67.88   \n",
            "284805 -0.163298  0.123205 -0.569159  0.546668  0.108821  0.104533   10.00   \n",
            "284806  0.376777  0.008797 -0.473649 -0.818267 -0.002415  0.013649  217.00   \n",
            "\n",
            "        Class  \n",
            "0           0  \n",
            "1           0  \n",
            "2           0  \n",
            "3           0  \n",
            "4           0  \n",
            "...       ...  \n",
            "284802      0  \n",
            "284803      0  \n",
            "284804      0  \n",
            "284805      0  \n",
            "284806      0  \n",
            "\n",
            "[284807 rows x 31 columns]\n",
            "Index(['V17', 'V11', 'V16', 'V14', 'V10', 'V18', 'V12', 'V9', 'V3'], dtype='object')\n"
          ]
        }
      ]
    },
    {
      "cell_type": "code",
      "source": [
        "df = pd.DataFrame(data[colums[0:colums.size - 1]], columns =colums[0:colums.size - 1])\n",
        "df['Class'] = data[colums[colums.size - 1]]\n",
        "X1 = df[features]\n",
        "y1=df['Class']                                       \n",
        "# Split dataset into training set and test set\n",
        "X_train1, X_test1, y_train1, y_test1 = train_test_split(X1, y1,train_size=0.03,test_size = 0.005, random_state=1)\n",
        "\n",
        "print(X_train1)\n"
      ],
      "metadata": {
        "colab": {
          "base_uri": "https://localhost:8080/"
        },
        "id": "pcPLTOpZ9_Du",
        "outputId": "5dde0080-0570-4219-a84a-ad40211e008d"
      },
      "execution_count": 106,
      "outputs": [
        {
          "output_type": "stream",
          "name": "stdout",
          "text": [
            "             V17       V11       V16       V14       V10       V18       V12  \\\n",
            "267513 -0.341388 -1.360008 -1.284609  0.323253  0.881628  1.280536 -0.508977   \n",
            "28142   0.288319 -0.519265  0.949935 -1.401631 -0.022018 -0.838955 -0.135122   \n",
            "246904  0.700273 -1.210135 -0.142703 -1.183494 -0.666047  0.317876  0.043877   \n",
            "15774  -0.054106  1.182071 -0.809646  0.227467 -1.566622  0.689655  1.272124   \n",
            "63314   0.400921 -1.349679 -0.240670  0.477768 -0.353648 -0.124067  0.358820   \n",
            "...          ...       ...       ...       ...       ...       ...       ...   \n",
            "231695 -1.177071  0.128670  0.269674  0.512781  0.170454  0.717076  0.914494   \n",
            "177878  0.233518 -1.192830 -0.814542  1.216736  0.129257 -0.341576  0.089925   \n",
            "217081 -0.542878  0.787854 -0.418116  0.974447 -0.038574  0.117115  0.050721   \n",
            "129012  0.226910 -1.237985 -1.498834  0.331141 -0.032383  0.865298 -0.225606   \n",
            "126641  0.717072 -0.327288 -1.238442  0.232641 -1.237780  0.150751 -0.366683   \n",
            "\n",
            "              V9        V3  \n",
            "267513 -0.548511 -1.791309  \n",
            "28142   0.126221  2.546442  \n",
            "246904  1.091275 -1.909363  \n",
            "15774   2.317865  0.337182  \n",
            "63314   0.109404  0.681515  \n",
            "...          ...       ...  \n",
            "231695  0.330188 -1.729322  \n",
            "177878 -0.014455 -2.373768  \n",
            "217081 -0.305718 -1.052858  \n",
            "129012 -1.203862  0.199325  \n",
            "126641  1.363543  2.065921  \n",
            "\n",
            "[8544 rows x 9 columns]\n"
          ]
        }
      ]
    },
    {
      "cell_type": "code",
      "source": [
        "clf=RandomForestClassifier(n_estimators=100)\n",
        "\n",
        "#Train the model using the training sets y_pred=clf.predict(X_test)\n",
        "clf.fit(X_train1,y_train1)\n",
        "\n",
        "# prediction on test set\n",
        "y_pred1=clf.predict(X_test1)\n",
        "\n",
        "accuracy_rd = accuracy_score(y_test1, y_pred1)\n",
        "precision_rd = precision_score(y_test1,y_pred1,average='macro')\n",
        "recall_rd = recall_score(y_test1,y_pred1,average='macro')\n",
        "f1_rd = f1_score(y_test1,y_pred1,average='macro')\n",
        "\n",
        "print(accuracy_rd)\n"
      ],
      "metadata": {
        "colab": {
          "base_uri": "https://localhost:8080/"
        },
        "id": "M8nBAlZZ7ZOI",
        "outputId": "bf7aea60-5585-49a5-c614-2457bec678bb"
      },
      "execution_count": 107,
      "outputs": [
        {
          "output_type": "stream",
          "name": "stdout",
          "text": [
            "0.9992982456140351\n"
          ]
        }
      ]
    },
    {
      "cell_type": "code",
      "source": [
        "gau = GaussianNB()\n",
        "gau.fit(X_train1, y_train1)\n",
        "y_pred_naive = gau.predict(X_test1)\n",
        "\n",
        "accuracy_naive = accuracy_score(y_test1,y_pred_naive)\n",
        "precision_naive = precision_score(y_test1,y_pred_naive,average='macro')\n",
        "recall_naive = recall_score(y_test1,y_pred_naive,average='macro')\n",
        "f1_naive = f1_score(y_test1,y_pred_naive,average='macro')\n",
        "\n",
        "print(accuracy_naive)"
      ],
      "metadata": {
        "colab": {
          "base_uri": "https://localhost:8080/"
        },
        "id": "CUUm4uAdBy7p",
        "outputId": "a7a35899-21ce-4fa4-fdb2-89bb6f95f8e6"
      },
      "execution_count": 109,
      "outputs": [
        {
          "output_type": "stream",
          "name": "stdout",
          "text": [
            "0.9936842105263158\n"
          ]
        }
      ]
    },
    {
      "cell_type": "code",
      "source": [
        "clf = svm.SVC(kernel = 'linear')\n",
        "clf.fit(X_train1,y_train1)\n",
        "y_pred = clf.predict(X_test1)\n",
        "\n",
        "cm_svm = confusion_matrix(y_test1,y_pred);\n",
        "accuracy_svm = accuracy_score(y_test1,y_pred);\n",
        "precision_svm = precision_score(y_test1,y_pred,average='macro')\n",
        "recall_svm = recall_score(y_test1,y_pred,average='macro');\n",
        "f1_svm = f1_score(y_test1,y_pred,average='macro')\n",
        "\n",
        "print(accuracy_svm)"
      ],
      "metadata": {
        "colab": {
          "base_uri": "https://localhost:8080/"
        },
        "id": "WRaSFtipB_8k",
        "outputId": "4d8788a6-c297-4437-f562-028f79409708"
      },
      "execution_count": 108,
      "outputs": [
        {
          "output_type": "stream",
          "name": "stdout",
          "text": [
            "0.9985964912280701\n"
          ]
        }
      ]
    },
    {
      "cell_type": "code",
      "source": [
        "t = PrettyTable([\"Algorithms\",\"Accuracy\",\"Precision\",\"Recall\",\"F1\"])\n",
        "t.add_row(['SVM Linear kernel.',accuracy_svm,precision_svm,recall_svm,f1_svm])\n",
        "t.add_row(['Random forest.',accuracy_rd,precision_rd,recall_rd,f1_rd])\n",
        "t.add_row([' NaiveBayes.',accuracy_naive,precision_naive,recall_naive,f1_naive])\n",
        "print(t)"
      ],
      "metadata": {
        "colab": {
          "base_uri": "https://localhost:8080/"
        },
        "id": "afmtE2RrCL2w",
        "outputId": "e82d6be9-7bee-4749-cd59-4c1b54e87431"
      },
      "execution_count": 110,
      "outputs": [
        {
          "output_type": "stream",
          "name": "stdout",
          "text": [
            "+--------------------+--------------------+--------------------+--------------------+--------------------+\n",
            "|     Algorithms     |      Accuracy      |     Precision      |       Recall       |         F1         |\n",
            "+--------------------+--------------------+--------------------+--------------------+--------------------+\n",
            "| SVM Linear kernel. | 0.9985964912280701 | 0.9992977528089888 | 0.6666666666666666 | 0.749648629655657  |\n",
            "|   Random forest.   | 0.9992982456140351 | 0.999648629655657  | 0.8333333333333333 | 0.8998242530755711 |\n",
            "|     NaiveBayes.    | 0.9936842105263158 | 0.5996466431095406 | 0.8305203938115331 | 0.6522599712589138 |\n",
            "+--------------------+--------------------+--------------------+--------------------+--------------------+\n"
          ]
        }
      ]
    },
    {
      "cell_type": "markdown",
      "source": [
        "#Finally,\n",
        "Save a copy in your Github. Remember renaming the notebook."
      ],
      "metadata": {
        "id": "Ok7RGkea_b7n"
      }
    }
  ]
}